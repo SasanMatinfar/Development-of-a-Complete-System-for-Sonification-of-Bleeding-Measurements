{
 "cells": [
  {
   "cell_type": "markdown",
   "metadata": {},
   "source": [
    "# Sonification of Bleeding with Bank of Filters"
   ]
  },
  {
   "cell_type": "markdown",
   "metadata": {},
   "source": [
    "# First Meeting (2019-06-11, Sasan and Thomas) @CITEC, TH proposed Filter-bank for feature generation\n",
    "* The idea is to use a bank of different low-pass filters to create increasingly smooth signals\n",
    "* these filtered signals serve as source for identifying key moments to anchor sound events\n",
    "* which then create a multiscale data-driven complex grain structure of the raw instantaneous bleeding data.\n",
    "* note that the limit of filtering with a cutoff-frequency towards 0 yields the integrated signal."
   ]
  },
  {
   "cell_type": "markdown",
   "metadata": {},
   "source": [
    "## Imports"
   ]
  },
  {
   "cell_type": "code",
   "execution_count": 1,
   "metadata": {},
   "outputs": [],
   "source": [
    "from scipy import signal\n",
    "import numpy as np\n",
    "import scipy.interpolate\n",
    "import pandas as pd\n",
    "import matplotlib\n",
    "import matplotlib.pyplot as plt \n",
    "import copy"
   ]
  },
  {
   "cell_type": "code",
   "execution_count": 2,
   "metadata": {
    "code_folding": []
   },
   "outputs": [],
   "source": [
    "# %matplotlib inline"
   ]
  },
  {
   "cell_type": "markdown",
   "metadata": {},
   "source": [
    "## Load Data and Create Filter-Bank Signals"
   ]
  },
  {
   "cell_type": "code",
   "execution_count": 3,
   "metadata": {},
   "outputs": [
    {
     "name": "stdout",
     "output_type": "stream",
     "text": [
      "dataset loaded:\n",
      "  delta:   min=     0.0, max=    8.59\n",
      "  volume:  min=     0.0, max=  255.75\n"
     ]
    }
   ],
   "source": [
    "df = pd.read_csv('log_refactored_correction_factor.csv', na_values=['no info', '.'], delimiter=',')\n",
    "df_indexed = df.reset_index(drop=False)\n",
    "index = df_indexed['index']\n",
    "delta = df_indexed['Delta']\n",
    "volume = df_indexed['Blood Accumulated']\n",
    "\n",
    "delta_min = delta.min()\n",
    "delta_max = delta.max()\n",
    "\n",
    "volume_min = volume.min()\n",
    "volume_max = volume.max()\n",
    "\n",
    "print(\"dataset loaded:\")\n",
    "print(f\"  delta:   min={delta_min:8}, max={delta_max:8.3}\")\n",
    "print(f\"  volume:  min={volume_min:8}, max={volume_max:8}\")"
   ]
  },
  {
   "cell_type": "markdown",
   "metadata": {},
   "source": [
    "## Event-based Sonification of filtered data (min/max/threshold cut-throughs...)"
   ]
  },
  {
   "cell_type": "code",
   "execution_count": 4,
   "metadata": {
    "scrolled": true
   },
   "outputs": [
    {
     "data": {
      "application/javascript": [
       "Jupyter.keyboard_manager.command_shortcuts.add_shortcut(\n",
       "                                        'cmd-.', {\n",
       "                                        help : 'sc.cmd(\"s.freeAll\")',\n",
       "                                        help_index : 'zz',\n",
       "                                        handler : function (event) {\n",
       "                                            IPython.notebook.kernel.execute(\"sc.cmd('s.freeAll')\")\n",
       "                                            return true;}\n",
       "                                    });"
      ],
      "text/plain": [
       "<IPython.core.display.Javascript object>"
      ]
     },
     "metadata": {},
     "output_type": "display_data"
    },
    {
     "name": "stdout",
     "output_type": "stream",
     "text": [
      "Starting sclang...\n",
      "Done.\n",
      "Registering UDP callback...\n",
      "Done.\n",
      "Booting server...\n",
      "Done.\n",
      "-> sc3nb started\n"
     ]
    }
   ],
   "source": [
    "import sc3nb as scn\n",
    "import time\n",
    "sc = scn.startup()"
   ]
  },
  {
   "cell_type": "code",
   "execution_count": 5,
   "metadata": {
    "code_folding": [
     0
    ]
   },
   "outputs": [],
   "source": [
    "#%sc FreqScope(400, 300)\n",
    "#%sc s.makeGui\n",
    "#%sc s.scope"
   ]
  },
  {
   "cell_type": "code",
   "execution_count": 6,
   "metadata": {},
   "outputs": [],
   "source": [
    "import ipywidgets\n",
    "import os\n",
    "import threading\n",
    "from IPython.display import clear_output\n",
    "import copy"
   ]
  },
  {
   "cell_type": "code",
   "execution_count": 7,
   "metadata": {
    "code_folding": [
     23,
     25,
     27
    ]
   },
   "outputs": [],
   "source": [
    "class Bloodplayer:\n",
    "    \n",
    "    def __init__(self, data, pulse_time=1, verbose=False):\n",
    "        self.lock = threading.Lock()\n",
    "        self.stopevent = threading.Event()\n",
    "        self.callback_fn = None\n",
    "        self.idx = 0\n",
    "        self.data = data\n",
    "        self.length = data.shape[0]\n",
    "        self.verbose = verbose\n",
    "        self.pulse_time = pulse_time\n",
    "        \n",
    "    #def __del__():\n",
    "        # close plot window\n",
    "        #pass\n",
    "    \n",
    "    def callback_fn_default(self, v):\n",
    "        os.write(1, f\"\\r                       \\r{v}\".encode())\n",
    "        \n",
    "    def procfn(self):\n",
    "        self.idx = 0\n",
    "        while not self.stopevent.wait(0) and self.idx < self.length-1:\n",
    "            v = self.data[self.idx]\n",
    "            if self.verbose: \n",
    "                os.write(1, f\"\\r{self.idx}:{self.idx}                   \".encode())\n",
    "            if callable(self.callback_fn):\n",
    "                self.callback_fn(self)\n",
    "            else:\n",
    "                self.callback_fn_default(v)\n",
    "            self.idx += 1\n",
    "            time.sleep(self.pulse_time)\n",
    "        print(\"done.\")\n",
    "    \n",
    "    def set_callback(self, fn):\n",
    "        self.callback_fn = fn\n",
    "        \n",
    "    def create_thread(self):\n",
    "        threadname = \"BloodPlayer-thread\"\n",
    "        # check first if it already exists\n",
    "        if threadname in [t.name for t in threading.enumerate()]:\n",
    "            print(\"create_thread: thread is already existing, stop first\")\n",
    "        else:\n",
    "            self.stopevent.clear()\n",
    "            self.producer = threading.Thread(name=threadname, target=self.procfn, args=[])\n",
    "            self.producer.start()\n",
    "\n",
    "    def stop_thread(self):\n",
    "        self.stopevent.set()"
   ]
  },
  {
   "cell_type": "code",
   "execution_count": 8,
   "metadata": {
    "code_folding": []
   },
   "outputs": [],
   "source": [
    "bloodplayer = Bloodplayer(delta)"
   ]
  },
  {
   "cell_type": "code",
   "execution_count": 9,
   "metadata": {},
   "outputs": [
    {
     "name": "stdout",
     "output_type": "stream",
     "text": [
      "0.18868400000000002\n"
     ]
    }
   ],
   "source": [
    "def voltau(tau=300):\n",
    "    return np.hstack((np.zeros(tau), volume.values[tau:]-volume.values[:-tau]))/tau \n",
    "v5s = voltau(5)\n",
    "v60s = voltau(60)\n",
    "v300s = voltau(300)\n",
    "print(v5s[20])"
   ]
  },
  {
   "cell_type": "code",
   "execution_count": 10,
   "metadata": {
    "code_folding": []
   },
   "outputs": [
    {
     "name": "stdout",
     "output_type": "stream",
     "text": [
      "Using matplotlib backend: Qt5Agg\n"
     ]
    }
   ],
   "source": [
    "# Plot Data \n",
    "%matplotlib\n",
    "\n",
    "fig, ax = plt.subplots(1)  # create figure\n",
    "mngr = plt.get_current_fig_manager(); \n",
    "mngr.window.setGeometry(840, 0, 600, 400)\n",
    "plt.figure(1)\n",
    "plt.clf()\n",
    "# plt.plot(volume, 'g')\n",
    "plt.plot(v5s, lw=1)\n",
    "plt.plot(v60s, lw=1.2)\n",
    "plt.plot(v300s, lw=1.5)\n",
    "plt.plot(delta, lw=0.3)\n",
    "plmarked, = ax.plot([], [], \"r-\", lw=1)\n",
    "\n",
    "\n",
    "def update_plot(self, t, v1): \n",
    "    global fig, ax, plmarked, prev_idx\n",
    "    \n",
    "    plmarked.set_data([t,t], [-10, 10])\n",
    "    #ax.draw_artist(ax.patch)\n",
    "    #ax.draw_artist(plmarked)\n",
    "    #ax.draw_artist(pldata)\n",
    "    fig.canvas.update()\n",
    "\n",
    "def onclick(event):\n",
    "    global bloodplayer\n",
    "    if event.dblclick:\n",
    "        print(event.button, event.xdata)\n",
    "        bloodplayer.idx = event.xdata\n",
    "\n",
    "\n",
    "connection_id = fig.canvas.mpl_connect('button_press_event', onclick)\n"
   ]
  },
  {
   "cell_type": "code",
   "execution_count": 11,
   "metadata": {
    "code_folding": []
   },
   "outputs": [
    {
     "data": {
      "application/vnd.jupyter.widget-view+json": {
       "model_id": "696564e33c244a419cc10f2d9f685272",
       "version_major": 2,
       "version_minor": 0
      },
      "text/plain": [
       "HBox(children=(Button(description='Start', style=ButtonStyle()), Button(description='Stop', style=ButtonStyle(…"
      ]
     },
     "metadata": {},
     "output_type": "display_data"
    },
    {
     "name": "stdout",
     "output_type": "stream",
     "text": [
      "start\n",
      "stop\n",
      "stop\n",
      "done.\n",
      "start\n",
      "stop\n",
      "done.\n"
     ]
    }
   ],
   "source": [
    "# GUI\n",
    "def start(b):\n",
    "    global bloodplayer\n",
    "    bloodplayer.create_thread()\n",
    "    print(\"start\")\n",
    "b1 = ipywidgets.Button(description='Start') \n",
    "b1.on_click(start)\n",
    "\n",
    "def stop(b):\n",
    "    global bloodplayer\n",
    "    print(\"stop\")\n",
    "    bloodplayer.stop_thread()\n",
    "\n",
    "b2 = ipywidgets.Button(description='Stop') \n",
    "b2.on_click(stop)\n",
    "out = ipywidgets.Output()\n",
    "ipywidgets.HBox([b1, b2, out])"
   ]
  },
  {
   "cell_type": "markdown",
   "metadata": {
    "code_folding": []
   },
   "source": [
    "## Load Buffers"
   ]
  },
  {
   "cell_type": "code",
   "execution_count": 15,
   "metadata": {},
   "outputs": [],
   "source": [
    "birds = sc.Buffer().load_file(\"samples/birds.wav\")\n",
    "rain = sc.Buffer().load_file(\"samples/rain.wav\")\n",
    "water_flow = sc.Buffer().load_file(\"samples/water-flow.wav\")\n",
    "crickets = sc.Buffer().load_file(\"samples/crickets.wav\")\n",
    "\n",
    "b = birds.bufnum\n",
    "r = rain.bufnum\n",
    "w = water_flow.bufnum\n",
    "c = crickets.bufnum"
   ]
  },
  {
   "cell_type": "markdown",
   "metadata": {},
   "source": [
    "## Sonification"
   ]
  },
  {
   "cell_type": "code",
   "execution_count": 17,
   "metadata": {},
   "outputs": [
    {
     "data": {
      "text/plain": [
       "'def voltau(tau=300):\\nreturn np.hstack((np.zeros(tau), volume.values[tau:]-volume.values[:-tau]))/tau \\nv5s = voltau(5)\\nv60s = voltau(60)\\nv300s = voltau(300)\\nprint(v5s[20])\\n'"
      ]
     },
     "execution_count": 17,
     "metadata": {},
     "output_type": "execute_result"
    }
   ],
   "source": [
    "# Custom code for sonifications\n",
    "\n",
    "tau = [5, 60, 300]\n",
    "v1 = 0\n",
    "v2 = 0\n",
    "v3 = 0\n",
    "\n",
    "def son_waterdrop(self):\n",
    "    global tau, v1, v2, v3\n",
    "    \n",
    "    # assign delta and volume\n",
    "    delta_val = delta[self.idx]\n",
    "    volume_val = volume[self.idx]\n",
    "\n",
    "    # normalize delta and volume\n",
    "    nd = scn.linlin(delta_val, delta_min, delta_max, 0, 1)       \n",
    "    nv = scn.linlin(volume_val, volume_min, volume_max, 0, 1)\n",
    "    \n",
    "    if self.idx > tau[0]:\n",
    "        v1 = (volume.values[self.idx] - volume.values[tau[0]])/tau[0]\n",
    "        print(v1)\n",
    "    \n",
    "    os.write(1, f\"\\r{self.idx}, :callback{v1}       \".encode())\n",
    "    \n",
    "    update_plot(self,self.idx, v1)\n",
    "    \n",
    "bloodplayer.set_callback(son_waterdrop)\n",
    "\n",
    "'''def voltau(tau=300):\n",
    "return np.hstack((np.zeros(tau), volume.values[tau:]-volume.values[:-tau]))/tau \n",
    "v5s = voltau(5)\n",
    "v60s = voltau(60)\n",
    "v300s = voltau(300)\n",
    "print(v5s[20])\n",
    "'''\n",
    "\n",
    "\n",
    "    \n"
   ]
  },
  {
   "cell_type": "code",
   "execution_count": 18,
   "metadata": {},
   "outputs": [
    {
     "data": {
      "text/plain": [
       "0.22642"
      ]
     },
     "execution_count": 18,
     "metadata": {},
     "output_type": "execute_result"
    }
   ],
   "source": [
    "(volume.values[20] - volume.values[5])/5"
   ]
  },
  {
   "cell_type": "code",
   "execution_count": 14,
   "metadata": {},
   "outputs": [
    {
     "ename": "AttributeError",
     "evalue": "'int' object has no attribute 'bufnum'",
     "output_type": "error",
     "traceback": [
      "\u001b[0;31m---------------------------------------------------------------------------\u001b[0m",
      "\u001b[0;31mAttributeError\u001b[0m                            Traceback (most recent call last)",
      "\u001b[0;32m<ipython-input-14-85fb07702d3f>\u001b[0m in \u001b[0;36m<module>\u001b[0;34m\u001b[0m\n\u001b[0;32m----> 1\u001b[0;31m \u001b[0msc\u001b[0m\u001b[0;34m.\u001b[0m\u001b[0mmsg\u001b[0m\u001b[0;34m(\u001b[0m\u001b[0;34m\"/s_new\"\u001b[0m\u001b[0;34m,\u001b[0m \u001b[0;34m\"pb-1ch\"\u001b[0m\u001b[0;34m,\u001b[0m \u001b[0;36m4567\u001b[0m\u001b[0;34m,\u001b[0m \u001b[0;36m1\u001b[0m\u001b[0;34m,\u001b[0m \u001b[0;36m1\u001b[0m\u001b[0;34m,\u001b[0m \u001b[0;34m\"bufnum\"\u001b[0m\u001b[0;34m,\u001b[0m \u001b[0mb\u001b[0m\u001b[0;34m.\u001b[0m\u001b[0mbufnum\u001b[0m\u001b[0;34m,\u001b[0m \u001b[0;34m\"rate\"\u001b[0m\u001b[0;34m,\u001b[0m \u001b[0;36m1\u001b[0m\u001b[0;34m)\u001b[0m\u001b[0;34m\u001b[0m\u001b[0;34m\u001b[0m\u001b[0m\n\u001b[0m",
      "\u001b[0;31mAttributeError\u001b[0m: 'int' object has no attribute 'bufnum'"
     ]
    }
   ],
   "source": [
    "sc.msg(\"/s_new\", \"pb-1ch\", 4567, 1, 1, \"bufnum\", b.bufnum, \"rate\", 1)"
   ]
  },
  {
   "cell_type": "code",
   "execution_count": null,
   "metadata": {},
   "outputs": [],
   "source": [
    "sc.msg(\"/n_set\", 4567, \"amp\", myfilter[self.idx])"
   ]
  },
  {
   "cell_type": "code",
   "execution_count": 14,
   "metadata": {},
   "outputs": [],
   "source": [
    "a = pd.DataFrame([2,5,0,8,3,9,6,4,1,5,3])"
   ]
  },
  {
   "cell_type": "code",
   "execution_count": 15,
   "metadata": {},
   "outputs": [
    {
     "name": "stdout",
     "output_type": "stream",
     "text": [
      "[[8]\n",
      " [3]\n",
      " [9]\n",
      " [6]\n",
      " [4]\n",
      " [1]\n",
      " [5]\n",
      " [3]]\n"
     ]
    }
   ],
   "source": [
    "w=a.values[:-3]\n",
    "e=a.values[3:]\n",
    "s=w-e\n",
    "print(e)\n"
   ]
  },
  {
   "cell_type": "code",
   "execution_count": null,
   "metadata": {},
   "outputs": [],
   "source": [
    "-volume.values[:-tau]))/tau "
   ]
  }
 ],
 "metadata": {
  "kernelspec": {
   "display_name": "Python 3",
   "language": "python",
   "name": "python3"
  },
  "language_info": {
   "codemirror_mode": {
    "name": "ipython",
    "version": 3
   },
   "file_extension": ".py",
   "mimetype": "text/x-python",
   "name": "python",
   "nbconvert_exporter": "python",
   "pygments_lexer": "ipython3",
   "version": "3.7.3"
  },
  "toc": {
   "base_numbering": 1,
   "nav_menu": {},
   "number_sections": true,
   "sideBar": true,
   "skip_h1_title": true,
   "title_cell": "Table of Contents",
   "title_sidebar": "Contents",
   "toc_cell": false,
   "toc_position": {
    "height": "calc(100% - 180px)",
    "left": "10px",
    "top": "150px",
    "width": "165px"
   },
   "toc_section_display": true,
   "toc_window_display": true
  },
  "varInspector": {
   "cols": {
    "lenName": 16,
    "lenType": 16,
    "lenVar": 40
   },
   "kernels_config": {
    "python": {
     "delete_cmd_postfix": "",
     "delete_cmd_prefix": "del ",
     "library": "var_list.py",
     "varRefreshCmd": "print(var_dic_list())"
    },
    "r": {
     "delete_cmd_postfix": ") ",
     "delete_cmd_prefix": "rm(",
     "library": "var_list.r",
     "varRefreshCmd": "cat(var_dic_list()) "
    }
   },
   "types_to_exclude": [
    "module",
    "function",
    "builtin_function_or_method",
    "instance",
    "_Feature"
   ],
   "window_display": false
  }
 },
 "nbformat": 4,
 "nbformat_minor": 2
}
