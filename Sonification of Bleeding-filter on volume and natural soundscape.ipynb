{
 "cells": [
  {
   "cell_type": "markdown",
   "metadata": {},
   "source": [
    "# Sonification of Bleeding with Bank of Filters (Nature)"
   ]
  },
  {
   "cell_type": "markdown",
   "metadata": {},
   "source": [
    "# First Meeting (2019-06-11, Sasan and Thomas) @CITEC, TH proposed Filter-bank for feature generation\n",
    "* The idea is to use a bank of different low-pass filters to create increasingly smooth signals\n",
    "* these filtered signals serve as source for identifying key moments to anchor sound events\n",
    "* which then create a multiscale data-driven complex grain structure of the raw instantaneous bleeding data.\n",
    "* note that the limit of filtering with a cutoff-frequency towards 0 yields the integrated signal."
   ]
  },
  {
   "cell_type": "markdown",
   "metadata": {},
   "source": [
    "## Imports"
   ]
  },
  {
   "cell_type": "code",
   "execution_count": null,
   "metadata": {},
   "outputs": [],
   "source": [
    "import os\n",
    "import copy\n",
    "import threading\n",
    "import matplotlib\n",
    "import ipywidgets\n",
    "import scipy.interpolate\n",
    "import numpy as np\n",
    "import pandas as pd\n",
    "import matplotlib.pyplot as plt\n",
    "from scipy import signal\n",
    "from IPython.display import clear_output\n"
   ]
  },
  {
   "cell_type": "code",
   "execution_count": null,
   "metadata": {
    "code_folding": []
   },
   "outputs": [],
   "source": [
    "# %matplotlib inline"
   ]
  },
  {
   "cell_type": "code",
   "execution_count": null,
   "metadata": {
    "code_folding": [
     0
    ]
   },
   "outputs": [],
   "source": [
    "#sonfn = [\n",
    "#    \"nature\", \"japan\", \"algomus\", \"eventearcons\"]\n",
    "\n",
    "#(son_nature_init, son_waterdrop_update, son_waterdrop_quit)\n",
    "#sonfn = (son_waterdrop_init, son_waterdrop_update, son_waterdrop_quit)\n",
    "#sonfn = (son_waterdrop_init, son_waterdrop_update, son_waterdrop_quit)\n",
    "#sonfn = (son_waterdrop_init, son_waterdrop_update, son_waterdrop_quit)"
   ]
  },
  {
   "cell_type": "markdown",
   "metadata": {},
   "source": [
    "## Load Data and Create Filter-Bank Signals"
   ]
  },
  {
   "cell_type": "code",
   "execution_count": null,
   "metadata": {},
   "outputs": [],
   "source": [
    "df = pd.read_csv('log_refactored_correction_factor.csv', na_values=['no info', '.'], delimiter=',')\n",
    "df_indexed = df.reset_index(drop=False)\n",
    "index = df_indexed['index']\n",
    "delta = df_indexed['Delta']\n",
    "volume = df_indexed['Blood Accumulated']\n",
    "\n",
    "delta_min = delta.min()\n",
    "delta_max = delta.max()\n",
    "\n",
    "volume_min = volume.min()\n",
    "volume_max = volume.max()\n",
    "\n",
    "print(\"dataset loaded:\")\n",
    "print(f\"  delta:   min={delta_min:8}, max={delta_max:8.3}\")\n",
    "print(f\"  volume:  min={volume_min:8}, max={volume_max:8}\")"
   ]
  },
  {
   "cell_type": "markdown",
   "metadata": {},
   "source": [
    "## Event-based Sonification of filtered data (min/max/threshold cut-throughs...)"
   ]
  },
  {
   "cell_type": "code",
   "execution_count": null,
   "metadata": {
    "scrolled": true
   },
   "outputs": [],
   "source": [
    "import sc3nb as scn\n",
    "import time\n",
    "sc = scn.startup()"
   ]
  },
  {
   "cell_type": "code",
   "execution_count": null,
   "metadata": {
    "code_folding": [
     0
    ]
   },
   "outputs": [],
   "source": [
    "#%sc FreqScope(400, 300)\n",
    "#%sc s.makeGui\n",
    "#%sc s.scope"
   ]
  },
  {
   "cell_type": "markdown",
   "metadata": {
    "code_folding": []
   },
   "source": [
    "## Load Buffers and SynthDef"
   ]
  },
  {
   "cell_type": "code",
   "execution_count": null,
   "metadata": {},
   "outputs": [],
   "source": [
    "b = sc.Buffer().load_file(\"samples/birds.wav\")\n",
    "r = sc.Buffer().load_file(\"samples/rain.wav\")\n",
    "w = sc.Buffer().load_file(\"samples/water-flow.wav\")\n",
    "c = sc.Buffer().load_file(\"samples/crickets.wav\")\n",
    "s = sc.Buffer().load_file(\"samples/sheeps.wav\")\n",
    "t = sc.Buffer().load_file(\"samples/thunder.wav\")\n",
    "e = sc.Buffer().load_file(\"samples/seaguls.wav\")\n",
    "f = sc.Buffer().load_file(\"samples/footstep.wav\")\n",
    "k = sc.Buffer().load_file(\"samples/kalimba.wav\")\n",
    "m = sc.Buffer().load_file(\"samples/motor.wav\")\n",
    "l = sc.Buffer().load_file(\"samples/bell.wav\")\n",
    "\n",
    "'''birds = b.bufnum\n",
    "rain = r.bufnum\n",
    "water_flow = w.bufnum\n",
    "crickets = c.bufnum\n",
    "sheeps = s.bufnum\n",
    "thunder = t.bufnum\n",
    "seaguls = s.bufnum\n",
    "footstep = f.bufnum\n",
    "kalimba = k.bufnum\n",
    "motor = m.bufnum\n",
    "bell = be.bufnum'''"
   ]
  },
  {
   "cell_type": "code",
   "execution_count": null,
   "metadata": {},
   "outputs": [],
   "source": [
    "'''%%scv\n",
    "b = Buffer.read(s, \"samples/birds.wav\");\n",
    "r = Buffer.read(s, \"samples/rain.wav\");\n",
    "w = Buffer.read(s, \"samples/water-flow.wav\");\n",
    "c = Buffer.read(s, \"samples/crickets.wav\");\n",
    "h = Buffer.read(s, \"samples/sheeps.wav\");\n",
    "t = Buffer.read(s, \"samples/thunder.wav\");\n",
    "e = Buffer.read(s, \"samples/seaguls.wav\");\n",
    "f = Buffer.read(s, \"samples/footstep.wav\");\n",
    "k = Buffer.read(s, \"samples/kalimba.wav\");\n",
    "m = Buffer.read(s, \"samples/motor.wav\");\n",
    "l = Buffer.read(s, \"samples/bell.wav\");\n",
    "x = Buffer.read(s, \"samples/car.wav\");'''"
   ]
  },
  {
   "cell_type": "code",
   "execution_count": null,
   "metadata": {},
   "outputs": [],
   "source": [
    "%%scv\n",
    "SynthDef(\"pb-simple\", { |out=0, bufnum=0, rate=1, pan=0, amp=0.3, loop=1, lgrt=2, lgamp = 0.5|\n",
    "    var sig = PlayBuf.ar(2, bufnum, rate.lag(lgrt)*BufRateScale.kr(bufnum), loop, doneAction: 2);            \n",
    "    Out.ar(out, Pan2.ar(sig, pan, amp.lag(lgamp)));\n",
    "}).add;"
   ]
  },
  {
   "cell_type": "code",
   "execution_count": null,
   "metadata": {},
   "outputs": [],
   "source": [
    "'''%%scv\n",
    "SynthDef(\"pb-simple\", { \n",
    "    |out=0, bufnum=0, loop=1, rate=1, trig=1, start=0, end, resetPos=0, pan=0, amp=0.3, \n",
    "    cf=1000, rq=1.0, lgrt=2, lgamp = 0.5|\n",
    "    var sig, ptr;\n",
    "    ptr = Phasor.ar(trig, rate.lag(lgrt)*BufRateScale.kr(bufnum), start, end, resetPos);\n",
    "    sig = BufRd.ar(2, bufnum, ptr, loop: loop);\n",
    "    sig = BPF.ar(sig, cf, rq);\n",
    "    Out.ar(out, Pan2.ar(sig, pan, amp.lag(lgamp)));\n",
    "}).add;'''"
   ]
  },
  {
   "cell_type": "code",
   "execution_count": null,
   "metadata": {},
   "outputs": [],
   "source": [
    "#a = Synth.new(\\bpf_motor, [\\cf, 1000, \\rq, 0.5, \\rate, 0.5, \\amp, 0.7]);\n",
    "#a.set(\\rate, 0.4)\n",
    "#a.set(\\rq, 0.7)\n",
    "#a.set(\\cf, 10000)"
   ]
  },
  {
   "cell_type": "code",
   "execution_count": null,
   "metadata": {},
   "outputs": [],
   "source": [
    "#%sc ~snth = Synth.new(\"pb-simple\", [\"bufnum\", r.bufnum, \"rate\", 1, \"start\", 0, \"end\", r.numFrames, \"amp\", 1])"
   ]
  },
  {
   "cell_type": "code",
   "execution_count": null,
   "metadata": {},
   "outputs": [],
   "source": [
    "#%sc ~bell = Synth.new(\"pb-simple\", [\"bufnum\", l.bufnum, \"rate\", 1, \"start\", 0, \"end\", l.numFrames, \"resetPos\", 10000, \"amp\", 1, \"loop\", 0])\n",
    "\n"
   ]
  },
  {
   "cell_type": "code",
   "execution_count": null,
   "metadata": {},
   "outputs": [],
   "source": [
    "#%sc ~bell.free"
   ]
  },
  {
   "cell_type": "code",
   "execution_count": null,
   "metadata": {},
   "outputs": [],
   "source": [
    "#%sc ~thunder.set(\"trig\", 1)\n",
    "#%scv postln(^al)"
   ]
  },
  {
   "cell_type": "code",
   "execution_count": null,
   "metadata": {},
   "outputs": [],
   "source": [
    "#%sc s.freeAll"
   ]
  },
  {
   "cell_type": "markdown",
   "metadata": {},
   "source": [
    "## Thread for Playing Data"
   ]
  },
  {
   "cell_type": "code",
   "execution_count": null,
   "metadata": {
    "code_folding": []
   },
   "outputs": [],
   "source": [
    "class Bloodplayer:\n",
    "    \n",
    "    def __init__(self, data, pulse_time=1, verbose=False):\n",
    "        self.lock = threading.Lock()\n",
    "        self.stopevent = threading.Event()\n",
    "        self.callback_fn = None\n",
    "        self.idx = 0\n",
    "        self.data = data\n",
    "        self.length = data.shape[0]\n",
    "        self.verbose = verbose\n",
    "        self.pulse_time = pulse_time\n",
    "        \n",
    "    #def __del__():\n",
    "        # close plot window\n",
    "        #pass\n",
    "    \n",
    "    def callback_fn_default(self, v):\n",
    "        os.write(1, f\"\\r                       \\r{v}\".encode())\n",
    "        \n",
    "    def procfn(self):\n",
    "        self.idx = 0\n",
    "        while not self.stopevent.wait(0) and self.idx < self.length-1:\n",
    "            v = self.data[self.idx]\n",
    "            if self.verbose: \n",
    "                os.write(1, f\"\\r{self.idx}:{self.idx}                   \".encode())\n",
    "            if callable(self.callback_fn):\n",
    "                self.callback_fn(self)\n",
    "            else:\n",
    "                self.callback_fn_default(v)\n",
    "            self.idx += 1\n",
    "            time.sleep(self.pulse_time)\n",
    "        print(\"done.\")\n",
    "    \n",
    "    def set_callback(self, fn):\n",
    "        self.callback_fn = fn\n",
    "        \n",
    "    def create_thread(self):\n",
    "        threadname = \"BloodPlayer-thread\"\n",
    "        # check first if it already exists\n",
    "        if threadname in [t.name for t in threading.enumerate()]:\n",
    "            print(\"create_thread: thread is already existing, stop first\")\n",
    "        else:\n",
    "            self.stopevent.clear()\n",
    "            self.producer = threading.Thread(name=threadname, target=self.procfn, args=[])\n",
    "            self.producer.start()\n",
    "\n",
    "    def stop_thread(self):\n",
    "        self.stopevent.set()"
   ]
  },
  {
   "cell_type": "code",
   "execution_count": null,
   "metadata": {
    "code_folding": []
   },
   "outputs": [],
   "source": [
    "bloodplayer = Bloodplayer(delta)"
   ]
  },
  {
   "cell_type": "markdown",
   "metadata": {},
   "source": [
    "## Plot Data"
   ]
  },
  {
   "cell_type": "code",
   "execution_count": null,
   "metadata": {
    "code_folding": []
   },
   "outputs": [],
   "source": [
    "%matplotlib"
   ]
  },
  {
   "cell_type": "code",
   "execution_count": null,
   "metadata": {
    "code_folding": []
   },
   "outputs": [],
   "source": [
    "# create figure\n",
    "fig, ax = plt.subplots(1)  \n",
    "mngr = plt.get_current_fig_manager(); \n",
    "mngr.window.setGeometry(840, 0, 600, 400)\n",
    "\n",
    "# create axis\n",
    "ax.clear()\n",
    "plv0, = ax.plot([], [], \"r-\", lw=1.5)\n",
    "plv1, = ax.plot([], [], \"g-\", lw=1.5)\n",
    "plv2, = ax.plot([], [], \"y-\", lw=1.5)\n",
    "plmarked, = ax.plot([], [], \"r-\", lw=1)\n",
    "pldata, = ax.plot(delta, \"-\", lw=0.3)\n",
    "\n",
    "\n",
    "def update_plot(self, t, x, v0, v1, v2): \n",
    "    global fig, ax, plmarked, plv1, plv2, plv3\n",
    "    \n",
    "    plmarked.set_data([t,t], [-10, 10])\n",
    "    plv0.set_xdata(x[0:])\n",
    "    plv0.set_ydata(v0[0:])\n",
    "    plv1.set_xdata(x[0:])\n",
    "    plv1.set_ydata(v1[0:])\n",
    "    plv2.set_xdata(x[0:])\n",
    "    plv2.set_ydata(v2[0:])\n",
    "    ax.draw_artist(ax.patch)\n",
    "    ax.draw_artist(plmarked)\n",
    "    ax.draw_artist(pldata)\n",
    "    ax.draw_artist(plv0)\n",
    "    ax.draw_artist(plv1)\n",
    "    ax.draw_artist(plv2)\n",
    "    fig.canvas.update()\n",
    "\n",
    "\n",
    "def onclick(event):\n",
    "    global bloodplayer\n",
    "    if event.dblclick:\n",
    "        print(event.button, event.xdata)\n",
    "        bloodplayer.idx = int(event.xdata)\n",
    "\n",
    "connection_id = fig.canvas.mpl_connect('button_press_event', onclick)"
   ]
  },
  {
   "cell_type": "markdown",
   "metadata": {},
   "source": [
    "## Sonification"
   ]
  },
  {
   "cell_type": "code",
   "execution_count": null,
   "metadata": {},
   "outputs": [],
   "source": [
    "# Custom code for sonifications\n",
    "\n",
    "v0 = [0,0]\n",
    "v1 = [0,0]\n",
    "v2 = [0,0]\n",
    "vs0 = []\n",
    "vs1 = []\n",
    "vs2 = []\n",
    "xs = []\n",
    "tau = [5, 30, 120]\n",
    "bn = [5000, 5001, 5002, 5003, 5004]\n",
    "takt = [0,0]\n",
    "amp = [0,0,0]\n",
    "rate = [0,0,0]\n",
    "pan = [0,0,0]\n",
    "takt_rate = 50\n",
    "\n",
    "\n",
    "def son_waterdrop_init():\n",
    "    # initiall play buffer \n",
    "    #%sc ~water = Synth.new(\"pb-simple\", [\"bufnum\", w.bufnum, \"rate\", 1, \"start\", 0, \"end\", w.numFrames, \"amp\", 0])\n",
    "    #%sc ~seaguls = Synth.new(\"pb-simple\", [\"bufnum\", e.bufnum, \"rate\", 1, \"start\", 0, \"end\", e.numFrames, \"amp\", 0])\n",
    "    #%sc ~motor = Synth.new(\"pb-simple\", [\"bufnum\", m.bufnum, \"rate\", 1, \"start\", 0, \"end\", m.numFrames, \"amp\", 0])\n",
    "    sc.msg(\"/s_new\", [\"pb-simple\", (bn[0]), 1, 1, \"bufnum\", w.bufnum, \"rate\", 1, \"amp\", 0])\n",
    "    sc.msg(\"/s_new\", [\"pb-simple\", (bn[1]), 1, 1, \"bufnum\", e.bufnum, \"rate\", 1, \"amp\", 0])\n",
    "    sc.msg(\"/s_new\", [\"pb-simple\", (bn[3]), 1, 1, \"bufnum\", m.bufnum, \"rate\", 1, \"amp\", 0])\n",
    "\n",
    "\n",
    "def clock_event(takt):\n",
    "    for t in range(1, takt+1): \n",
    "        sc.msg(\"/s_new\", [\"pb-simple\", (5010+t), 1, 1, \"bufnum\", l.bufnum, \"rate\", 1, \"amp\", 0.7, \"loop\", 0])\n",
    "        #%sc ~bell = Synth.new(\"pb-simple\", [\"bufnum\", l.bufnum, \"rate\", 1, \"start\", 0, \"end\", l.numFrames-2, \"amp\", 1, \"loop\", 0])\n",
    "\n",
    "def son_waterdrop(self):\n",
    "    global tau, v0, v1, v2, vs0, vs1, vs2, xs, takt \n",
    "    global amp, rate, pan, takt_rate\n",
    "    \n",
    "    # assign delta and volume\n",
    "    delta_val = delta[self.idx]\n",
    "    volume_val = volume[self.idx]\n",
    "\n",
    "    # normalize delta and volume\n",
    "    nd = scn.linlin(delta_val, delta_min, delta_max, 0, 1)       \n",
    "    nv = scn.linlin(volume_val, volume_min, volume_max, 0, 1)\n",
    "    \n",
    "    # tau 0 = 5 seconds\n",
    "    refidx = max(self.idx-tau[0], 0)\n",
    "    v0[0] = (volume.values[self.idx] - volume.values[refidx])/tau[0]\n",
    "    amp[0] = scn.linlin(v0[0], 0, 3, 0.2, 0.9)\n",
    "    sc.msg(\"/n_set\", [bn[0], \"rate\", 1, \"amp\", amp[0], \"lgrt\", 2, \"lgamp\", 0.5])\n",
    "    #%sc ~water.set(\"amp\", ^amp[0])\n",
    "    if v0[0] >= 1.5:\n",
    "        rate[0] = scn.linlin(v0[0], 1.5, 3.2, 1.5, 3.5)\n",
    "        sc.msg(\"/n_set\", [bn[0], \"rate\", rate[0]])\n",
    "        #%sc ~water.set(\"amp\", ^rate[0])\n",
    "\n",
    "\n",
    "    # tau 1 = 1 minute\n",
    "    refidx = max(self.idx-tau[1], 0)\n",
    "    v1[0] = (volume.values[self.idx] - volume.values[refidx])/tau[1]\n",
    "    if v1[0] < 0.5:\n",
    "        amp[1] = v1[0]/2\n",
    "        #%sc ~seaguls.set(\"amp\", ^amp[1])\n",
    "        sc.msg(\"/n_set\", [bn[1], \"rate\", 1, \"amp\", amp[1]])\n",
    "\n",
    "    if v1[0] >= 0.5:\n",
    "        amp[1] = scn.linlin(v1[0], 0.5, 2, 0.25, 1)\n",
    "        sc.msg(\"/n_set\", [bn[1], \"rate\", 1, \"amp\", amp[1]])\n",
    "        #%sc ~seaguls.set(\"amp\", ^amp[1])\n",
    "\n",
    "        # event for exceeding threshold!\n",
    "        if v1[1] < 0.7 and v1[0] >= 0.7:\n",
    "            sc.msg(\"/s_new\", [\"pb-simple\", bn[2], 1, 1, \"bufnum\", t.bufnum, \"rate\", 1, \"amp\", 1, \"loop\", 1])\n",
    "            #%sc ~thunder = Synth.new(\"pb-simple\", [\"bufnum\", t.bufnum, \"rate\", 1, \"start\", 0, \"end\", t.numFrames, \"amp\", 1])\n",
    "        if v1[1] > 0.7 and v1[0] < 0.7:\n",
    "            %sc ~thunder.free;\n",
    "    \n",
    "    v1[1] = v1[0]        \n",
    "    \n",
    "    \n",
    "\n",
    "    # tau 2 = 5 minutes\n",
    "    refidx = max(self.idx-tau[2], 0)\n",
    "    v2[0] = (volume.values[self.idx] - volume.values[refidx])/tau[2]\n",
    "    \n",
    "    if v2[0] >= 0.25:\n",
    "        amp[2] = scn.linlin(v2[0], 0.25, 0.5, 0.01, 0.1)\n",
    "        rate[2] = scn.linlin(v2[0], 0.25, 0.5, 0.6, 1)\n",
    "        pan[2] = scn.linlin(v2[0], 0.25, 0.5, 1, 0)\n",
    "\n",
    "        sc.msg(\"/n_set\", [bn[3], \"rate\", rate[2], \"amp\", amp[2], \"pan\", pan[2]])\n",
    "        #%sc ~motor.set(\"amp\", ^amp[2], \"rate\", ^rate[2], \"pan\", ^pan[2])\n",
    "        \n",
    "        \n",
    "    # clock-event for every 50 ml blood loss\n",
    "    takt[0] = int(volume_val/takt_rate)\n",
    "    #print(\"takt is: \" + str(takt))\n",
    "    if takt[0] > 0 and takt[0] != takt[1]:\n",
    "        clock_event(takt[0])\n",
    "    takt[1] = takt[0]\n",
    "    \n",
    "    os.write(1, f\"\\r{self.idx}, tau0: {float(v0[0]):4.2},  tau1: {float(v1[0]):4.2},  tau2: {float(v2[0]):4.2},   \".encode())\n",
    "    \n",
    "    # data for plots\n",
    "    xs.append(self.idx)\n",
    "    vs0.append(v0[0])\n",
    "    vs1.append(v1[0])\n",
    "    vs2.append(v2[0])\n",
    "    \n",
    "    update_plot(self, self.idx, xs, vs0, vs1, vs2)\n",
    "\n",
    "def son_waterdrop_quit():\n",
    "    #%sc s.freeAll\n",
    "    sc.msg(\"/n_free\", [bn[0]])\n",
    "    sc.msg(\"/n_free\", [bn[1]])\n",
    "    sc.msg(\"/n_free\", [bn[2]])\n",
    "    sc.msg(\"/n_free\", [bn[3]])\n",
    "    \n",
    "bloodplayer.set_callback(son_waterdrop)"
   ]
  },
  {
   "cell_type": "markdown",
   "metadata": {},
   "source": [
    "## GUI"
   ]
  },
  {
   "cell_type": "code",
   "execution_count": null,
   "metadata": {
    "code_folding": []
   },
   "outputs": [],
   "source": [
    "# GUI\n",
    "def start(b):\n",
    "    global bloodplayer\n",
    "    bloodplayer.create_thread()\n",
    "    son_waterdrop_init()\n",
    "    print(\"start\")\n",
    "b1 = ipywidgets.Button(description='Start') \n",
    "b1.on_click(start)\n",
    "\n",
    "def stop(b):\n",
    "    global bloodplayer\n",
    "    print(\"stop\")\n",
    "    bloodplayer.stop_thread()\n",
    "    son_waterdrop_quit()\n",
    "\n",
    "b2 = ipywidgets.Button(description='Stop') \n",
    "b2.on_click(stop)\n",
    "\n",
    "out = ipywidgets.Output()\n",
    "ipywidgets.HBox([b1, b2, out])"
   ]
  },
  {
   "cell_type": "code",
   "execution_count": null,
   "metadata": {},
   "outputs": [],
   "source": []
  }
 ],
 "metadata": {
  "kernelspec": {
   "display_name": "Python 3",
   "language": "python",
   "name": "python3"
  },
  "language_info": {
   "codemirror_mode": {
    "name": "ipython",
    "version": 3
   },
   "file_extension": ".py",
   "mimetype": "text/x-python",
   "name": "python",
   "nbconvert_exporter": "python",
   "pygments_lexer": "ipython3",
   "version": "3.7.3"
  },
  "toc": {
   "base_numbering": 1,
   "nav_menu": {},
   "number_sections": true,
   "sideBar": true,
   "skip_h1_title": true,
   "title_cell": "Table of Contents",
   "title_sidebar": "Contents",
   "toc_cell": false,
   "toc_position": {
    "height": "calc(100% - 180px)",
    "left": "10px",
    "top": "150px",
    "width": "165px"
   },
   "toc_section_display": true,
   "toc_window_display": false
  },
  "varInspector": {
   "cols": {
    "lenName": 16,
    "lenType": 16,
    "lenVar": 40
   },
   "kernels_config": {
    "python": {
     "delete_cmd_postfix": "",
     "delete_cmd_prefix": "del ",
     "library": "var_list.py",
     "varRefreshCmd": "print(var_dic_list())"
    },
    "r": {
     "delete_cmd_postfix": ") ",
     "delete_cmd_prefix": "rm(",
     "library": "var_list.r",
     "varRefreshCmd": "cat(var_dic_list()) "
    }
   },
   "types_to_exclude": [
    "module",
    "function",
    "builtin_function_or_method",
    "instance",
    "_Feature"
   ],
   "window_display": false
  }
 },
 "nbformat": 4,
 "nbformat_minor": 2
}
