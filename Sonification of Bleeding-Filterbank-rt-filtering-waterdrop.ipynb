{
 "cells": [
  {
   "cell_type": "markdown",
   "metadata": {},
   "source": [
    "# Sonification of Bleeding with Bank of Filters"
   ]
  },
  {
   "cell_type": "markdown",
   "metadata": {},
   "source": [
    "# First Meeting (2019-06-11, Sasan and Thomas) @CITEC, TH proposed Filter-bank for feature generation\n",
    "* The idea is to use a bank of different low-pass filters to create increasingly smooth signals\n",
    "* these filtered signals serve as source for identifying key moments to anchor sound events\n",
    "* which then create a multiscale data-driven complex grain structure of the raw instantaneous bleeding data.\n",
    "* note that the limit of filtering with a cutoff-frequency towards 0 yields the integrated signal."
   ]
  },
  {
   "cell_type": "markdown",
   "metadata": {},
   "source": [
    "## Imports"
   ]
  },
  {
   "cell_type": "code",
   "execution_count": null,
   "metadata": {},
   "outputs": [],
   "source": [
    "from scipy import signal\n",
    "import numpy as np\n",
    "import scipy.interpolate\n",
    "import pandas as pd\n",
    "import matplotlib\n",
    "import matplotlib.pyplot as plt \n",
    "import copy"
   ]
  },
  {
   "cell_type": "code",
   "execution_count": null,
   "metadata": {
    "code_folding": []
   },
   "outputs": [],
   "source": [
    "# %matplotlib inline"
   ]
  },
  {
   "cell_type": "markdown",
   "metadata": {},
   "source": [
    "## Load Data and Create Filter-Bank Signals"
   ]
  },
  {
   "cell_type": "code",
   "execution_count": null,
   "metadata": {},
   "outputs": [],
   "source": [
    "df = pd.read_csv('log_refactored_correction_factor.csv', na_values=['no info', '.'], delimiter=',')\n",
    "df_indexed = df.reset_index(drop=False)\n",
    "index = df_indexed['index']\n",
    "delta = df_indexed['Delta']\n",
    "volume = df_indexed['Blood Accumulated']\n",
    "\n",
    "delta_min = delta.min()\n",
    "delta_max = delta.max()\n",
    "\n",
    "volume_min = volume.min()\n",
    "volume_max = volume.max()\n",
    "\n",
    "print(\"dataset loaded:\")\n",
    "print(f\"  delta:   min={delta_min:8}, max={delta_max:8.3}\")\n",
    "print(f\"  volume:  min={volume_min:8}, max={volume_max:8}\")"
   ]
  },
  {
   "cell_type": "markdown",
   "metadata": {},
   "source": [
    "## Event-based Sonification of filtered data (min/max/threshold cut-throughs...)"
   ]
  },
  {
   "cell_type": "code",
   "execution_count": null,
   "metadata": {
    "scrolled": true
   },
   "outputs": [],
   "source": [
    "import sc3nb as scn\n",
    "import time\n",
    "sc = scn.startup()"
   ]
  },
  {
   "cell_type": "code",
   "execution_count": null,
   "metadata": {
    "code_folding": [
     0
    ]
   },
   "outputs": [],
   "source": [
    "#%sc FreqScope(400, 300)\n",
    "#%sc s.makeGui\n",
    "#%sc s.scope"
   ]
  },
  {
   "cell_type": "code",
   "execution_count": null,
   "metadata": {
    "code_folding": [
     0,
     1,
     12,
     41,
     54
    ]
   },
   "outputs": [],
   "source": [
    "%%scv\n",
    "SynthDef(\"pb-sasan\", {|out=0, bufnum=0, rate=1, pan=0, amp=0.3, rel=0.1, dur=0.2|\n",
    "    //var sig1 = PlayBuf.ar(1, bufnum, 1.01*rate * BufRateScale.kr(bufnum), doneAction: 2);\n",
    "    //var sig2 = PlayBuf.ar(1, bufnum, 0.99*rate * BufRateScale.kr(bufnum), doneAction: 2);\n",
    "\n",
    "    var drate = SinOsc.ar(3, add:rate * BufRateScale.kr(bufnum), mul:0.01);\n",
    "    var sig = PlayBuf.ar(1, bufnum, drate, doneAction: 2);\n",
    "\n",
    "    var env = EnvGen.kr(Env.new([1,1,0], [dur-rel, rel]), doneAction: 2);\n",
    "    Out.ar(out, Pan2.ar(sig, pan, amp*env))\n",
    "}).add();\n",
    "\n",
    "SynthDef(\\bpfsaw, {\n",
    "    arg atk=2, sus=0, rel=3, c1=1, c2=(-1),\n",
    "    freq=500, detune=0.2, pan=0, cfhzmin=0.1, cfhzmax=0.3,\n",
    "    cfmin=500, cfmax=2000, rqmin=0.1, rqmax=0.2,\n",
    "    lsf=200, ldb=0, amp=1, out=0;\n",
    "    var sig, env;\n",
    "    env = EnvGen.kr(Env([0,1,1,0],[atk,sus,rel],[c1,0,c2]),doneAction:2);\n",
    "    sig = Saw.ar(freq * {LFNoise1.kr(0.5,detune).midiratio}!2);\n",
    "    sig = BPF.ar(\n",
    "        sig,\n",
    "        {LFNoise1.kr(\n",
    "            LFNoise1.kr(4).exprange(cfhzmin,cfhzmax)\n",
    "        ).exprange(cfmin,cfmax)}!2,\n",
    "        {LFNoise1.kr(0.1).exprange(rqmin,rqmax)}!2\n",
    "    );\n",
    "    sig = BLowShelf.ar(sig, lsf, 0.5, ldb);\n",
    "    sig = Balance2.ar(sig[0], sig[1], pan);\n",
    "    sig = sig * env * amp;\n",
    "    Out.ar(out, sig);\n",
    "}).add;\n",
    "\n",
    "SynthDef(\\bpfsine, {\n",
    "    arg atk=2, sus=0, rel=3, c1=1, c2=(-1),\n",
    "    freq=500, detune=0.2, pan=0, cfhzmin=0.1, cfhzmax=0.3,\n",
    "    cfmin=500, cfmax=2000, rqmin=0.1, rqmax=0.2,\n",
    "    lsf=200, ldb=0, amp=1, out=0;\n",
    "    var sig, env;\n",
    "    env = EnvGen.kr(Env([0,1,1,0],[atk,sus,rel],[c1,0,c2]),doneAction:2);\n",
    "    sig = SinOsc.ar(freq * {LFNoise1.kr(0.5,detune).midiratio}!2);\n",
    "    sig = BPF.ar(\n",
    "        sig,\n",
    "        {LFNoise1.kr(\n",
    "            LFNoise1.kr(4).exprange(cfhzmin,cfhzmax)\n",
    "        ).exprange(cfmin,cfmax)}!2,\n",
    "        {LFNoise1.kr(0.1).exprange(rqmin,rqmax)}!2\n",
    "    );\n",
    "    sig = BLowShelf.ar(sig, lsf, 0.5, ldb);\n",
    "    sig = Balance2.ar(sig[0], sig[1], pan);\n",
    "    sig = sig * env * amp;\n",
    "    Out.ar(out, sig);\n",
    "}).add;\n",
    "\n",
    "SynthDef(\\reverb, {\n",
    "    arg in, predelay=0.1, revtime=1.8,\n",
    "    lpf=4500, mix=0.15, amp=1, out=0;\n",
    "    var dry, wet, temp, sig;\n",
    "    dry = In.ar(in,2);\n",
    "    temp = In.ar(in,2);\n",
    "    wet = 0;\n",
    "    temp = DelayN.ar(temp, 0,2, predelay);\n",
    "    16.do{\n",
    "        temp = AllpassN.ar(temp, 0.05, {Rand(0.001,0.05)}!2, revtime);\n",
    "        temp = LPF.ar(temp, lpf);\n",
    "        wet = wet + temp;\n",
    "    };\n",
    "    sig = XFade2.ar(dry, wet, mix*2-1, amp);\n",
    "    Out.ar(out, sig);\n",
    "}).add;\n",
    "\n",
    "\"SynthDefs loaded\".postln;"
   ]
  },
  {
   "cell_type": "code",
   "execution_count": null,
   "metadata": {
    "code_folding": [
     0
    ]
   },
   "outputs": [],
   "source": [
    "%%scv\n",
    "~bus = Dictionary.new;\n",
    "~bus.add(\\reverb -> Bus.audio(s,2));\n",
    "\"Bus loaded\".postln;"
   ]
  },
  {
   "cell_type": "code",
   "execution_count": null,
   "metadata": {
    "code_folding": [
     0,
     4
    ]
   },
   "outputs": [],
   "source": [
    "%%scv\n",
    "~out = 0;\n",
    "~mainGroup = Group.new;\n",
    "~reverbGroup = Group.after(~mainGroup);\n",
    "~reverbSynth = Synth.new(\\reverb, [\n",
    "        \\amp, 1,\n",
    "        \\predelay, 0.4,\n",
    "        \\revtime, 1.8,\n",
    "        \\lpf, 4500,\n",
    "        \\mix, 0.5,\n",
    "        \\in, ~bus[\\reverb],\n",
    "        \\out, ~out,\n",
    "    ], ~reverbGroup\n",
    ");\n",
    "\"Reverb loaded\".postln;"
   ]
  },
  {
   "cell_type": "code",
   "execution_count": null,
   "metadata": {
    "code_folding": [
     0,
     20,
     21,
     24,
     62
    ]
   },
   "outputs": [],
   "source": [
    "%%scv\n",
    "\n",
    "~paddur_min = 4.5;\n",
    "~paddur_max = 5.5;\n",
    "~mdur_min = 0.99;\n",
    "~mdur_max = 1;\n",
    "~mfreq = 1;\n",
    "~mdetune = 0;\n",
    "~mrq_min = 0.005;\n",
    "~mrq_max = 0.008;\n",
    "~mcf = 1;\n",
    "~matk = 3;\n",
    "~msus = 1;\n",
    "~mrel = 5;\n",
    "~mamp = 0.9;\n",
    "~mpan_min = 0;\n",
    "~mpan_max = 0;\n",
    "\n",
    "e = Dictionary.new;\n",
    "\n",
    "e.add(\\pad_sine_lf -> {\n",
    "    ~chords = Pbind(\n",
    "        \\instrument, \\bpfsine,\n",
    "        \\dur, Pwhite(Pfunc{~paddur_min}, Pfunc{~paddur_max}),\n",
    "        \\midinote, Pxrand([\n",
    "            [23,35,54,63,64],\n",
    "            [45,52,54,59,61,64],\n",
    "            [28,40,47,56,59,63],\n",
    "            [42,52,57,61,63]\n",
    "        ], inf),\n",
    "        \\detune, Pexprand(0.05,0.2),\n",
    "        \\cfmin, 500,\n",
    "        \\cfmax, 1000,\n",
    "        \\rqmin, Pexprand(0.01,0.02),\n",
    "        \\rqmax, Pexprand(0.2,0.3),\n",
    "        \\atk, Pwhite(2.0,2.5),\n",
    "        \\rel, Pwhite(6.5,10.0),\n",
    "        \\ldb, 6,\n",
    "        \\amp, 0.3,\n",
    "        \\group, ~mainGroup,\n",
    "        \\out, ~bus[\\reverb],\n",
    "    ).play;\n",
    "    \n",
    "    ~marimba = Pbind(\n",
    "        \\instrument, \\bpfsaw,\n",
    "        \\dur, Pwhite(Pfunc{~mdur_min}, Pfunc{~mdur_max}),\n",
    "        \\freq, Prand([1/2, 2/3, 1], inf) * Pfunc{~mfreq},\n",
    "        \\detune, Pfunc({~mdetune}),\n",
    "        \\rqmin, Pfunc{~mrq_min},\n",
    "        \\rqmax, Pfunc{~mrq_max},\n",
    "        \\cfmin, Prand((Scale.major.degrees+64).midicps,inf) *\n",
    "        (Prand(([1,2,4]), inf) * round((Pfunc{~mcf}))),\n",
    "        \\cfmax, Pkey(\\cfmin) * Pwhite(1.008,1.025),\n",
    "        \\atk, Pfunc{~matk},\n",
    "        \\sus, Pfunc{~msus},\n",
    "        \\rel, Pfunc{~mrel},\n",
    "        \\amp, Pfunc{~mamp},\n",
    "        \\pan, Pwhite(Pfunc{~mpan_min},Pfunc{~mpan_max}),\n",
    "        \\group, ~mainGroup,\n",
    "        \\out, ~bus[\\reverb],\n",
    "    ).play;\n",
    "});\n",
    "e.add(\\event_stop -> {\n",
    "    ~chords.stop;\n",
    "    ~marimba.stop;\n",
    "});\n",
    "\"Events loaded\".postln;"
   ]
  },
  {
   "cell_type": "code",
   "execution_count": null,
   "metadata": {},
   "outputs": [],
   "source": [
    "import ipywidgets\n",
    "import os\n",
    "import threading\n",
    "from IPython.display import clear_output\n",
    "import copy"
   ]
  },
  {
   "cell_type": "code",
   "execution_count": null,
   "metadata": {
    "code_folding": [
     0,
     2,
     17,
     20,
     23,
     25,
     27,
     29,
     36,
     39,
     42,
     44,
     49
    ]
   },
   "outputs": [],
   "source": [
    "class Bloodplayer:\n",
    "    \n",
    "    def __init__(self, data, pulse_time=0.1, verbose=False):\n",
    "        self.lock = threading.Lock()\n",
    "        self.stopevent = threading.Event()\n",
    "        self.callback_fn = None\n",
    "        self.idx = 0\n",
    "        self.data = data\n",
    "        self.length = data.shape[0]\n",
    "        self.verbose = verbose\n",
    "        self.pulse_time = pulse_time\n",
    "        self.rtime = 0\n",
    "        \n",
    "    #def __del__():\n",
    "        # close plot window\n",
    "        #pass\n",
    "    \n",
    "    def callback_fn_default(self, v):\n",
    "        os.write(1, f\"\\r                       \\r{v}\".encode())\n",
    "        \n",
    "    def procfn(self):\n",
    "        self.idx = 0\n",
    "        self.rtime = 0\n",
    "        while not self.stopevent.wait(0) and self.idx < self.length-1:\n",
    "            v = self.data[self.idx]\n",
    "            if self.verbose: \n",
    "                os.write(1, f\"\\r{self.idx}:{self.idx}                   \".encode())\n",
    "            if callable(self.callback_fn):\n",
    "                self.callback_fn(self)\n",
    "            else:\n",
    "                self.callback_fn_default(v)\n",
    "            self.rtime += self.pulse_time\n",
    "            self.idx = int(self.rtime)\n",
    "            time.sleep(self.pulse_time)\n",
    "        print(\"done.\")\n",
    "    \n",
    "    def set_callback(self, fn):\n",
    "        self.callback_fn = fn\n",
    "        \n",
    "    def create_thread(self):\n",
    "        threadname = \"BloodPlayer-thread\"\n",
    "        # check first if it already exists\n",
    "        if threadname in [t.name for t in threading.enumerate()]:\n",
    "            print(\"create_thread: thread is already existing, stop first\")\n",
    "        else:\n",
    "            self.stopevent.clear()\n",
    "            self.producer = threading.Thread(name=threadname, target=self.procfn, args=[])\n",
    "            self.producer.start()\n",
    "\n",
    "    def stop_thread(self):\n",
    "        self.stopevent.set()"
   ]
  },
  {
   "cell_type": "code",
   "execution_count": null,
   "metadata": {
    "code_folding": []
   },
   "outputs": [],
   "source": [
    "bloodplayer = Bloodplayer(delta)"
   ]
  },
  {
   "cell_type": "code",
   "execution_count": null,
   "metadata": {
    "code_folding": []
   },
   "outputs": [],
   "source": [
    "# Plot Data \n",
    "%matplotlib\n",
    "\n",
    "# create figure\n",
    "fig, ax = plt.subplots(1)  # create figure\n",
    "mngr = plt.get_current_fig_manager(); \n",
    "mngr.window.setGeometry(840, 0, 600, 400)\n",
    "\n",
    "# create axis, plots\n",
    "ax.clear()\n",
    "filter_plot = plt.plot([], [], 'r-', lw=0.8)[0]\n",
    "filter_plot1 = plt.plot([], [], 'r-', lw=0.8)[0]\n",
    "filter_plot2 = plt.plot([], [], 'r-', lw=0.8)[0]\n",
    "plmarked, = ax.plot([], [], \"r-\", lw=1)\n",
    "pldata, = ax.plot(delta, \"-\", ms=2)\n",
    "prev_idx = 0\n",
    "\n",
    "def update_plot(self, t, x, ys, ys1, ys2): \n",
    "    global fig, ax, plmarked, pldata, filter_plot, prev_idx\n",
    "    if not (prev_idx == self.idx):\n",
    "        filter_plot.set_xdata(x[0:])\n",
    "        filter_plot.set_ydata(ys[0:])\n",
    "        filter_plot1.set_xdata(x[0:])\n",
    "        filter_plot1.set_ydata(ys1[0:])\n",
    "        filter_plot2.set_xdata(x[0:])\n",
    "        filter_plot2.set_ydata(ys2[0:])\n",
    "        prev_idx = self.idx\n",
    "    plmarked.set_data([t,t], [-10, 10])\n",
    "    ax.draw_artist(ax.patch)\n",
    "    ax.draw_artist(pldata)\n",
    "    ax.draw_artist(plmarked)\n",
    "    ax.draw_artist(filter_plot)\n",
    "    ax.draw_artist(filter_plot1)\n",
    "    ax.draw_artist(filter_plot2)\n",
    "\n",
    "    fig.canvas.update()\n",
    "\n",
    "def onclick(event):\n",
    "    global bloodplayer\n",
    "    if event.dblclick:\n",
    "        print(event.button, event.xdata)\n",
    "        bloodplayer.rtime = event.xdata\n",
    "\n",
    "\n",
    "connection_id = fig.canvas.mpl_connect('button_press_event', onclick)\n"
   ]
  },
  {
   "cell_type": "code",
   "execution_count": null,
   "metadata": {
    "code_folding": []
   },
   "outputs": [],
   "source": [
    "# GUI\n",
    "def start(b):\n",
    "    global bloodplayer\n",
    "    bloodplayer.create_thread()\n",
    "    %sc e[\\pad_sine_lf].value;\n",
    "    print(\"start\")\n",
    "b1 = ipywidgets.Button(description='Start') \n",
    "b1.on_click(start)\n",
    "\n",
    "def stop(b):\n",
    "    global bloodplayer\n",
    "    print(\"stop\")\n",
    "    bloodplayer.stop_thread()\n",
    "    %sc e[\\event_stop].value;\n",
    "\n",
    "b2 = ipywidgets.Button(description='Stop') \n",
    "b2.on_click(stop)\n",
    "out = ipywidgets.Output()\n",
    "ipywidgets.HBox([b1, b2, out])"
   ]
  },
  {
   "cell_type": "code",
   "execution_count": null,
   "metadata": {},
   "outputs": [],
   "source": [
    "# Custom code for sonifications\n",
    "\n",
    "kalimba = sc.Buffer().load_file(\"samples/kalimba.wav\")\n",
    "order = 1\n",
    "cfs = [0.01, 0.05, 0.5]\n",
    "sr = 1/bloodplayer.pulse_time\n",
    "\n",
    "b = []\n",
    "a = []\n",
    "zi = []\n",
    "zl = []\n",
    "z = [None] * len(cfs)\n",
    "xs = []\n",
    "ys = []\n",
    "ys1 = [] \n",
    "ys2 = []\n",
    "\n",
    "for k, cf in enumerate(cfs):\n",
    "    bk, ak = signal.butter(order, cf, fs=sr)\n",
    "    b.append(bk)\n",
    "    a.append(ak)\n",
    "    zi.append(signal.lfilter_zi(bk, ak))\n",
    "    zl.append([0, 0, 0])\n",
    "\n",
    "def filter_event_sonification(k, zl):\n",
    "    if np.argmax(zl[k]) == 1:\n",
    "        pcharr = [-5, -1, 0, 4, 7, 11, 12, 16, 19, 23, 24]\n",
    "        rate = scn.midicps(-36 * (k+1) + pcharr[\n",
    "            scn.clip(scn.clip(int(scn.linlin(zl[k][0], 0, 2, 0, 10)),0,10))])\n",
    "        kalimba.play(rate=rate)\n",
    "\n",
    "        #print(\"filter\" + str(k) + \" is: \" + str(zl[k]))\n",
    "    \n",
    "def son_waterdrop(self):\n",
    "    global a, b, z, zi, zl, nd, nv, xs, ys, ys1, ys2\n",
    "    global revtime, mix, predelay, amp \n",
    "    global paddur_min, paddur_max, mamp \n",
    "    global mdur_min, mdur_max, mfreq, mdetune, mrq_min, mrq_max, mcf, matk, msus, mrel, mpan_min, mpan_max \n",
    "    \n",
    "    # assign delta and volume\n",
    "    delta_val = delta[self.idx]\n",
    "    volume_val = volume[self.idx]\n",
    "    \n",
    "    # calculate filters\n",
    "    for k, cf in enumerate(cfs):\n",
    "        z[k], zi[k] = signal.lfilter(b[k], a[k], np.array([delta_val]), zi=zi[k])\n",
    "        zl[k][0] = copy.copy(z[k][0])\n",
    "    \n",
    "    for k in range(len(zl)):\n",
    "        filter_event_sonification(k,zl)\n",
    "\n",
    "    for k in range(len(zl)):\n",
    "        zl[k][2] = zl[k][1]\n",
    "        zl[k][1] = zl[k][0]  \n",
    "        \n",
    "\n",
    "    # normalize delta and volume\n",
    "    nd = scn.linlin(delta_val, delta_min, delta_max, 0, 1)       \n",
    "    nv = scn.linlin(volume_val, volume_min, volume_max, 0, 1)\n",
    "    \n",
    "    # set reverb based on normalized values of delta and volume\n",
    "    revtime = scn.linlin(nv, 0, 1, 1.8, 0.5)\n",
    "    mix = scn.linlin(nv, 0, 1, 0.5, 0.1)\n",
    "    predelay = scn.linlin(nv, 0, 1, 0.4, 0.1)\n",
    "    amp = scn.linlin(nv, 0, 1, 0.8, 0.2)        \n",
    "    paddur_min = 4.5-(scn.linlin(nd,0,1,0,4))    \n",
    "    paddur_max = 5.5-(scn.linlin(nd,0,1,0,4))\n",
    "    mdur_min = scn.linlin(nd,0,1,0.99,0.05)\n",
    "    mdur_max = scn.linlin(nd,0,1,1,0.1)\n",
    "    mfreq = scn.linlin(nd,0,1,1,4)\n",
    "    mdetune = scn.linlin(nd,0,1,0,2)\n",
    "    mrq_min = scn.linlin(nv,0,1,0.005,0.09)\n",
    "    mrq_max = scn.linlin(nv,0,1,0.008,0.2)\n",
    "    mcf = scn.linlin(nd,0,1,1,5)\n",
    "    matk = scn.linlin(nv,0,1,3,1.5)\n",
    "    msus = scn.linlin(nv,0,1,1,0.5)\n",
    "    mrel = scn.linlin(nv,0,1,5,2.5)\n",
    "    mamp = scn.linlin(nd,0,0.1,0.2,0.8) \n",
    "    mpan_min = scn.linlin(nd,0,1,0,-1)\n",
    "    mpan_max = scn.linlin(nd,0,1,0,1)\n",
    "\n",
    "    %sc ~reverbSynth.set(\\revtime, ^revtime, \\mix, ^mix, \\predelay, ^predelay, \\amp, ^amp)        \n",
    "    %sc ~paddur_min = ^paddur_min\n",
    "    %sc ~paddur_max = ^paddur_max\n",
    "    %sc ~mdur_min = ^mdur_min\n",
    "    %sc ~mdur_max = ^mdur_max\n",
    "    %sc ~mfreq = ^mfreq\n",
    "    %sc ~mdetune = ^mdetune\n",
    "    %sc ~mrq_min = ^mrq_min\n",
    "    %sc ~mrq_max = ^mrq_max\n",
    "    %sc ~mcf = ^mcf\n",
    "    %sc ~matk = ^matk\n",
    "    %sc ~msus = ^msus\n",
    "    %sc ~mrel = ^mrel\n",
    "    %sc ~mamp = ^mamp\n",
    "    %sc ~mpan_min = ^mpan_min\n",
    "    %sc ~mpan_max = ^mpan_max\n",
    "    \n",
    "    os.write(1, f\"\\r{float(self.rtime):6.2}, {self.idx}, {float(z[0]):6.5} :callback{self.idx}                   \".encode())\n",
    "    \n",
    "    # plot and update\n",
    "    xs.append(self.rtime)\n",
    "    ys.append((zl[0][0]))\n",
    "    ys1.append((zl[1][0]))\n",
    "    ys2.append((zl[2][0]))\n",
    "\n",
    "\n",
    "    update_plot(self,self.rtime, xs, ys, ys1, ys2)\n",
    "    \n",
    "bloodplayer.set_callback(son_waterdrop)"
   ]
  }
 ],
 "metadata": {
  "kernelspec": {
   "display_name": "Python 3",
   "language": "python",
   "name": "python3"
  },
  "language_info": {
   "codemirror_mode": {
    "name": "ipython",
    "version": 3
   },
   "file_extension": ".py",
   "mimetype": "text/x-python",
   "name": "python",
   "nbconvert_exporter": "python",
   "pygments_lexer": "ipython3",
   "version": "3.7.3"
  },
  "toc": {
   "base_numbering": 1,
   "nav_menu": {},
   "number_sections": true,
   "sideBar": true,
   "skip_h1_title": true,
   "title_cell": "Table of Contents",
   "title_sidebar": "Contents",
   "toc_cell": false,
   "toc_position": {
    "height": "calc(100% - 180px)",
    "left": "10px",
    "top": "150px",
    "width": "165px"
   },
   "toc_section_display": true,
   "toc_window_display": true
  },
  "varInspector": {
   "cols": {
    "lenName": 16,
    "lenType": 16,
    "lenVar": 40
   },
   "kernels_config": {
    "python": {
     "delete_cmd_postfix": "",
     "delete_cmd_prefix": "del ",
     "library": "var_list.py",
     "varRefreshCmd": "print(var_dic_list())"
    },
    "r": {
     "delete_cmd_postfix": ") ",
     "delete_cmd_prefix": "rm(",
     "library": "var_list.r",
     "varRefreshCmd": "cat(var_dic_list()) "
    }
   },
   "types_to_exclude": [
    "module",
    "function",
    "builtin_function_or_method",
    "instance",
    "_Feature"
   ],
   "window_display": false
  }
 },
 "nbformat": 4,
 "nbformat_minor": 2
}
