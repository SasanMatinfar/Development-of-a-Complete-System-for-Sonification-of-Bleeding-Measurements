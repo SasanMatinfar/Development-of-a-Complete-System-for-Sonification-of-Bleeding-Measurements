{
 "cells": [
  {
   "cell_type": "code",
   "execution_count": null,
   "metadata": {},
   "outputs": [],
   "source": [
    "from scipy import signal\n",
    "import numpy as np\n",
    "import pandas as pd\n",
    "import matplotlib\n",
    "import matplotlib.pyplot as plt \n",
    "matplotlib.use('TkAgg')"
   ]
  },
  {
   "cell_type": "code",
   "execution_count": null,
   "metadata": {},
   "outputs": [],
   "source": [
    "df = pd.read_csv('log_refactored_correction_factor.csv', na_values=['no info', '.'], delimiter=',')\n",
    "df_indexed = df.reset_index(drop=False)"
   ]
  },
  {
   "cell_type": "code",
   "execution_count": null,
   "metadata": {},
   "outputs": [],
   "source": [
    "index = df_indexed['index']\n",
    "delta = df_indexed['Delta']\n",
    "volume = df_indexed['Blood Accumulated']"
   ]
  },
  {
   "cell_type": "code",
   "execution_count": null,
   "metadata": {},
   "outputs": [],
   "source": [
    "#Create an order 3 lowpass butterworth filter:\n",
    "b, a = signal.butter(5, 0.05)"
   ]
  },
  {
   "cell_type": "code",
   "execution_count": null,
   "metadata": {},
   "outputs": [],
   "source": [
    "#Apply the filter to xn. Use lfilter_zi to choose the initial condition of the filter:\n",
    "zi = signal.lfilter_zi(b, a)\n",
    "z, _ = signal.lfilter(b, a, delta, zi=zi*delta[0])\n",
    "\n",
    "#Apply the filter again, to have a result filtered at an order the same as filtfilt:\n",
    "z2, _ = signal.lfilter(b, a, z, zi=zi*z[0])\n",
    "\n",
    "#Use filtfilt to apply the filter:\n",
    "y = signal.filtfilt(b, a, delta)"
   ]
  },
  {
   "cell_type": "code",
   "execution_count": null,
   "metadata": {},
   "outputs": [],
   "source": [
    "#Plot the original signal and the various filtered versions:\n",
    "plt.figure\n",
    "plt.plot(index, delta, 'grey')\n",
    "plt.plot(index, z, 'r--', index, z2, 'g--', index, y, 'k')\n",
    "plt.legend(('noisy signal', 'lfilter, once', 'lfilter, twice', 'filtfilt'), loc='best')\n",
    "plt.grid(True)\n",
    "plt.show()"
   ]
  },
  {
   "cell_type": "markdown",
   "metadata": {},
   "source": [
    "Until here, the rest are messy code from earlier"
   ]
  },
  {
   "cell_type": "code",
   "execution_count": null,
   "metadata": {},
   "outputs": [],
   "source": [
    "index = df_indexed['index']\n",
    "delta = df_indexed['Delta']\n",
    "volume = df_indexed['Blood Accumulated']\n",
    "\n",
    "window = [5, 50, 100]\n",
    "w1, w2, w3 = window\n",
    "delta_filtered_w1, delta_filtered_w2, delta_filtered_w3 = [], [], []\n",
    "\n",
    "def leakyint(x, ym1, a=0.9):\n",
    "    return ym1*a + x\n",
    "\n",
    "def softleakyint(past_x, ym1, bcoeffs, acoeff=0.9):\n",
    "    return np.dot(past_x, bcoeffs) + ym1*acoeff\n",
    "\n",
    "\n",
    "window = [5,50,100]\n",
    "w1, w2, w3 = window[0], window[1], window[2]\n",
    "delta_filtered_w1, delta_filtered_w2, delta_filtered_w3 = [], [], []\n",
    "\n",
    "for i in range(index.size):\n",
    "    if i < w1:\n",
    "        continue\n",
    "    elif i < w2: \n",
    "        filtered1 = signal.convolve(index[i-w1:i], delta[i-w1:i], mode='same')\n",
    "        delta_filtered_w1.append(filtered1)\n",
    "    elif i < w3:\n",
    "        filtered1 = signal.convolve(index[i-w1:i], delta[i-w1:i], mode='same')\n",
    "        delta_filtered_w1.append(filtered1)\n",
    "\n",
    "        filtered2 = signal.convolve(index[i-w2:i], delta[i-w2:i], mode='same')\n",
    "        delta_filtered_w2.append(filtered2)\n",
    "    else:\n",
    "        filtered1 = signal.convolve(index[i-w1:i], delta[i-w1:i], mode='same')\n",
    "        delta_filtered_w1.append(filtered1)\n",
    "\n",
    "        filtered2 = signal.convolve(index[i-w2:i], delta[i-w2:i], mode='same')\n",
    "        delta_filtered_w2.append(filtered2)\n",
    "        \n",
    "        filtered3 = signal.convolve(index[i-w3:i], delta[i-w3:i], mode='same')\n",
    "        delta_filtered_w3.append(filtered3)\n",
    "\n",
    "            "
   ]
  },
  {
   "cell_type": "code",
   "execution_count": null,
   "metadata": {},
   "outputs": [],
   "source": [
    "prev_y = 0\n",
    "outsig = []\n",
    "insig = [0,1,1,1,1,1,1,1,1,0,0,0,0,0,0,0,0,0,0,0,0,0,0,0,0,0,0,0,0,0,0,0,0,0,0,0,0,0,0]\n",
    "for x in insig:\n",
    "    y = leakyint(x, prev_y, 0.95)\n",
    "    prev_y = y\n",
    "    outsig.append(y)    "
   ]
  },
  {
   "cell_type": "code",
   "execution_count": null,
   "metadata": {},
   "outputs": [],
   "source": [
    "prev_y = 0\n",
    "outsig = []\n",
    "insig = [0,0,0,0,0,0,0,0,0,0,1,0,0,0,0,0,0,0,0,0,0,0,0,0,0,0,0,0,0,0,0]\n",
    "bcoeffs = np.array([0.2, 0.4, 0.7, 0.9, 1]) # [::-1]\n",
    "bcoeffs = bcoeffs / np.linalg.norm(bcoeffs)\n",
    "M = bcoeffs.shape[0]\n",
    "for i, x in enumerate(insig):\n",
    "    if i>M: \n",
    "        past_x = insig[i-M:i]\n",
    "    else: \n",
    "        past_x = np.hstack((np.zeros(M-i), insig[:i]))\n",
    "    y = softleakyint(past_x, prev_y, bcoeffs, 0.5)\n",
    "    prev_y = y\n",
    "    outsig.append(y)    "
   ]
  },
  {
   "cell_type": "code",
   "execution_count": null,
   "metadata": {},
   "outputs": [],
   "source": [
    "plt.plot(signal.convolve(insig, bcoeffs))"
   ]
  },
  {
   "cell_type": "code",
   "execution_count": null,
   "metadata": {},
   "outputs": [],
   "source": [
    "plt.plot(np.array(insig))\n",
    "plt.plot(outsig)"
   ]
  },
  {
   "cell_type": "code",
   "execution_count": null,
   "metadata": {},
   "outputs": [],
   "source": [
    "for i in range(index.size):\n",
    "    if i < w1:\n",
    "        continue\n",
    "    elif i < w2: \n",
    "        filtered1 = signal.convolve(index[i-w1:i], delta[i-w1:i], mode='same')\n",
    "        delta_filtered_w1.append(filtered1)\n",
    "    elif i < w3:\n",
    "        filtered1 = signal.convolve(index[i-w1:i], delta[i-w1:i], mode='same')\n",
    "        delta_filtered_w1.append(filtered1)\n",
    "\n",
    "        filtered2 = signal.convolve(index[i-w2:i], delta[i-w2:i], mode='same')\n",
    "        delta_filtered_w2.append(filtered2)\n",
    "    else:\n",
    "        filtered1 = signal.convolve(index[i-w1:i], delta[i-w1:i], mode='same')\n",
    "        delta_filtered_w1.append(filtered1)\n",
    "\n",
    "        filtered2 = signal.convolve(index[i-w2:i], delta[i-w2:i], mode='same')\n",
    "        delta_filtered_w2.append(filtered2)\n",
    "        \n",
    "        filtered3 = signal.convolve(index[i-w3:i], delta[i-w3:i], mode='same')\n",
    "        delta_filtered_w3.append(filtered3)"
   ]
  },
  {
   "cell_type": "code",
   "execution_count": null,
   "metadata": {},
   "outputs": [],
   "source": [
    "fig, (ax_win, ax_filt_1, ax_filt_2, ax_filt_3) = plt.subplots(4, 1, sharex=True)\n",
    "#ax_orig.plot(index)\n",
    "#ax_orig.set_title('Original Pulse (1 takt per second)')\n",
    "#ax_orig.margins(0, 0.05)\n",
    "ax_win.plot(delta)\n",
    "ax_win.set_title('Input Signal')\n",
    "ax_win.margins(0, 0.05)\n",
    "ax_filt_1.plot(delta_filtered_w1)\n",
    "ax_filt_1.set_title('Filtered Signal w = 5')\n",
    "ax_filt_1.margins(0, 0.05)\n",
    "ax_filt_2.plot(delta_filtered_w2)\n",
    "ax_filt_2.set_title('Filtered Signal w = 10')\n",
    "ax_filt_2.margins(0, 0.05)\n",
    "ax_filt_3.plot(delta_filtered_w3)\n",
    "ax_filt_3.set_title('Filtered Signal w = 15')\n",
    "ax_filt_3.margins(0, 0.05)\n",
    "fig.tight_layout()\n",
    "fig = plt.figure(constrained_layout=True)\n",
    "fig.show()"
   ]
  },
  {
   "cell_type": "code",
   "execution_count": null,
   "metadata": {},
   "outputs": [],
   "source": []
  },
  {
   "cell_type": "code",
   "execution_count": null,
   "metadata": {},
   "outputs": [],
   "source": []
  }
 ],
 "metadata": {
  "kernelspec": {
   "display_name": "Python 3",
   "language": "python",
   "name": "python3"
  },
  "language_info": {
   "codemirror_mode": {
    "name": "ipython",
    "version": 3
   },
   "file_extension": ".py",
   "mimetype": "text/x-python",
   "name": "python",
   "nbconvert_exporter": "python",
   "pygments_lexer": "ipython3",
   "version": "3.7.3"
  }
 },
 "nbformat": 4,
 "nbformat_minor": 2
}
