{
 "cells": [
  {
   "cell_type": "code",
   "execution_count": null,
   "metadata": {},
   "outputs": [],
   "source": [
    "from scipy import signal\n",
    "import numpy as np\n",
    "import pandas as pd\n",
    "import matplotlib\n",
    "import matplotlib.pyplot as plt \n",
    "matplotlib.use('TkAgg')"
   ]
  },
  {
   "cell_type": "code",
   "execution_count": null,
   "metadata": {},
   "outputs": [],
   "source": [
    "df = pd.read_csv('log_refactored_correction_factor.csv', na_values=['no info', '.'], delimiter=',')\n",
    "df_indexed = df.reset_index(drop=False)"
   ]
  },
  {
   "cell_type": "code",
   "execution_count": null,
   "metadata": {},
   "outputs": [],
   "source": [
    "index = df_indexed['index']\n",
    "delta = df_indexed['Delta']\n",
    "volume = df_indexed['Blood Accumulated']"
   ]
  },
  {
   "cell_type": "code",
   "execution_count": null,
   "metadata": {},
   "outputs": [],
   "source": [
    "#Create an order 3 lowpass butterworth filter:\n",
    "b, a = signal.butter(5, 0.05)"
   ]
  },
  {
   "cell_type": "code",
   "execution_count": null,
   "metadata": {},
   "outputs": [],
   "source": [
    "#Apply the filter to xn. Use lfilter_zi to choose the initial condition of the filter:\n",
    "zi = signal.lfilter_zi(b, a)\n",
    "z, _ = signal.lfilter(b, a, delta, zi=zi*delta[0])\n",
    "\n",
    "#Apply the filter again, to have a result filtered at an order the same as filtfilt:\n",
    "z2, _ = signal.lfilter(b, a, z, zi=zi*z[0])\n",
    "\n",
    "#Use filtfilt to apply the filter:\n",
    "y = signal.filtfilt(b, a, delta)"
   ]
  },
  {
   "cell_type": "code",
   "execution_count": null,
   "metadata": {},
   "outputs": [],
   "source": [
    "#Plot the original signal and the various filtered versions:\n",
    "plt.figure\n",
    "plt.plot(index, delta, 'grey')\n",
    "plt.plot(index, z, 'r--', index, z2, 'g--', index, y, 'k')\n",
    "plt.legend(('noisy signal', 'lfilter, once', 'lfilter, twice', 'filtfilt'), loc='best')\n",
    "plt.grid(True)\n",
    "plt.show()"
   ]
  }
 ],
 "metadata": {
  "kernelspec": {
   "display_name": "Python 3",
   "language": "python",
   "name": "python3"
  },
  "language_info": {
   "codemirror_mode": {
    "name": "ipython",
    "version": 3
   },
   "file_extension": ".py",
   "mimetype": "text/x-python",
   "name": "python",
   "nbconvert_exporter": "python",
   "pygments_lexer": "ipython3",
   "version": "3.7.3"
  }
 },
 "nbformat": 4,
 "nbformat_minor": 2
}
