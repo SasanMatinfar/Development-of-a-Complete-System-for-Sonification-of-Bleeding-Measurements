{
 "cells": [
  {
   "cell_type": "markdown",
   "metadata": {},
   "source": [
    "# Sonification of Bleeding Measurements"
   ]
  },
  {
   "cell_type": "code",
   "execution_count": 2,
   "metadata": {},
   "outputs": [
    {
     "data": {
      "application/javascript": [
       "Jupyter.keyboard_manager.command_shortcuts.add_shortcut(\n",
       "                                        'cmd-.', {\n",
       "                                        help : 'sc.cmd(\"s.freeAll\")',\n",
       "                                        help_index : 'zz',\n",
       "                                        handler : function (event) {\n",
       "                                            IPython.notebook.kernel.execute(\"sc.cmd('s.freeAll')\")\n",
       "                                            return true;}\n",
       "                                    });"
      ],
      "text/plain": [
       "<IPython.core.display.Javascript object>"
      ]
     },
     "metadata": {},
     "output_type": "display_data"
    }
   ],
   "source": [
    "# setup, heading\n",
    "import numpy as np\n",
    "import time, random, os\n",
    "import sc3nb as scn\n",
    "import pandas as pd\n",
    "import matplotlib.pyplot as plt"
   ]
  },
  {
   "cell_type": "code",
   "execution_count": null,
   "metadata": {},
   "outputs": [],
   "source": [
    "sc = scn.startup()  # instead of sclangpath, better put sclangpath in your $PATH in .profile\n",
    "# startup sc3 sclang, boot server, load' "
   ]
  },
  {
   "cell_type": "code",
   "execution_count": null,
   "metadata": {},
   "outputs": [],
   "source": [
    "df = pd.read_csv('log_refactored_correction_factor.csv', na_values=['no info', '.'], delimiter=',')\n",
    "df_indexed = df.reset_index(drop=False)\n",
    "\n",
    "delta = df_indexed['Delta']\n",
    "d_delta = df_indexed['Delta of Delta']\n",
    "volume = df_indexed['Blood Accumulated']\n",
    "\n",
    "delta_min = delta.min()\n",
    "delta_max = delta.max()\n",
    "\n",
    "d_delta_min = d_delta.min()\n",
    "d_delta_max = d_delta.max()\n",
    "\n",
    "volume_min = volume.min()\n",
    "volume_max = volume.max()\n",
    "\n",
    "print(\"dataset loaded:\")\n",
    "print(f\"  delta:   min={delta_min:8}, max={delta_max:8.3}\")\n",
    "print(f\"  d_delta: min={d_delta_min:8.3}, max={d_delta_max:8.3}\")\n",
    "print(f\"  volume:  min={volume_min:8}, max={volume_max:8}\")"
   ]
  },
  {
   "cell_type": "code",
   "execution_count": null,
   "metadata": {},
   "outputs": [],
   "source": [
    "# plot data\n",
    "fig = plt.figure(figsize=(8,6))\n",
    "plt.subplot(311);plt.plot(df.values[:400,0], label='CDF'); plt.grid(); plt.ylabel('ml')\n",
    "plt.subplot(312);plt.plot(df.values[:400,1], label='ml/s'); plt.grid(); plt.ylabel('ml/s')\n",
    "plt.subplot(313);plt.plot(df.values[:400,2], label='ml/s^2'); plt.grid(); plt.ylabel('$ml/s^2$')\n",
    "plt.xlabel('time[s]')\n",
    "plt.savefig('pics/bleeding-time-series-plot.pdf')"
   ]
  },
  {
   "cell_type": "code",
   "execution_count": 6,
   "metadata": {},
   "outputs": [
    {
     "name": "stdout",
     "output_type": "stream",
     "text": [
      "global variables are initialized\n",
      "-> global variables are initialized\n"
     ]
    }
   ],
   "source": [
    "%%scv\n",
    "~out = 0;\n",
    "~delta = 0; ~volume = 0;\n",
    "~volumeMin = 0; ~volumeMax = 0;\n",
    "(\"global variables are initialized\").postln;"
   ]
  },
  {
   "cell_type": "code",
   "execution_count": 5,
   "metadata": {},
   "outputs": [],
   "source": [
    "%%sc\n",
    "//(a) Synthesizer Definitions\n",
    "SynthDef(\\bpfsaw, {\n",
    "    arg atk=2, sus=0, rel=3, c1=1, c2=(-1),\n",
    "    freq=500, detune=0.2, pan=0, cfhzmin=0.1, cfhzmax=0.3,\n",
    "    cfmin=500, cfmax=2000, rqmin=0.1, rqmax=0.2,\n",
    "    lsf=200, ldb=0, amp=1, out=0;\n",
    "    var sig, env;\n",
    "    env = EnvGen.kr(Env([0,1,1,0],[atk,sus,rel],[c1,0,c2]),doneAction:2);\n",
    "    sig = Saw.ar(freq * {LFNoise1.kr(0.5,detune).midiratio}!2);\n",
    "    sig = BPF.ar(\n",
    "        sig,\n",
    "        {LFNoise1.kr(\n",
    "            LFNoise1.kr(4).exprange(cfhzmin,cfhzmax)\n",
    "        ).exprange(cfmin,cfmax)}!2,\n",
    "        {LFNoise1.kr(0.1).exprange(rqmin,rqmax)}!2\n",
    "    );\n",
    "    sig = BLowShelf.ar(sig, lsf, 0.5, ldb);\n",
    "    sig = Balance2.ar(sig[0], sig[1], pan);\n",
    "    sig = sig * env * amp;\n",
    "    Out.ar(out, sig);\n",
    "}).add;\n",
    "\n",
    "SynthDef(\\bpfsine, {\n",
    "    arg atk=2, sus=0, rel=3, c1=1, c2=(-1),\n",
    "    freq=500, detune=0.2, pan=0, cfhzmin=0.1, cfhzmax=0.3,\n",
    "    cfmin=500, cfmax=2000, rqmin=0.1, rqmax=0.2,\n",
    "    lsf=200, ldb=0, amp=1, out=0;\n",
    "    var sig, env;\n",
    "    env = EnvGen.kr(Env([0,1,1,0],[atk,sus,rel],[c1,0,c2]),doneAction:2);\n",
    "    sig = SinOsc.ar(freq * {LFNoise1.kr(0.5,detune).midiratio}!2);\n",
    "    sig = BPF.ar(\n",
    "        sig,\n",
    "        {LFNoise1.kr(\n",
    "            LFNoise1.kr(4).exprange(cfhzmin,cfhzmax)\n",
    "        ).exprange(cfmin,cfmax)}!2,\n",
    "        {LFNoise1.kr(0.1).exprange(rqmin,rqmax)}!2\n",
    "    );\n",
    "    sig = BLowShelf.ar(sig, lsf, 0.5, ldb);\n",
    "    sig = Balance2.ar(sig[0], sig[1], pan);\n",
    "    sig = sig * env * amp;\n",
    "    Out.ar(out, sig);\n",
    "}).add;\n",
    "\n",
    "SynthDef(\\reverb, {\n",
    "    arg in, predelay=0.1, revtime=1.8,\n",
    "    lpf=4500, mix=0.15, amp=1, out=0;\n",
    "    var dry, wet, temp, sig;\n",
    "    dry = In.ar(in,2);\n",
    "    temp = In.ar(in,2);\n",
    "    wet = 0;\n",
    "    temp = DelayN.ar(temp, 0,2, predelay);\n",
    "    16.do{\n",
    "        temp = AllpassN.ar(temp, 0.05, {Rand(0.001,0.05)}!2, revtime);\n",
    "        temp = LPF.ar(temp, lpf);\n",
    "        wet = wet + temp;\n",
    "    };\n",
    "    sig = XFade2.ar(dry, wet, mix*2-1, amp);\n",
    "    Out.ar(out, sig);\n",
    "}).add;\n",
    "\n",
    "\"SynthDefs loaded\".postln;"
   ]
  },
  {
   "cell_type": "code",
   "execution_count": 6,
   "metadata": {},
   "outputs": [],
   "source": [
    "%%sc\n",
    "~bus = Dictionary.new;\n",
    "~bus.add(\\reverb -> Bus.audio(s,2));"
   ]
  },
  {
   "cell_type": "code",
   "execution_count": 7,
   "metadata": {},
   "outputs": [],
   "source": [
    "%%sc\n",
    "~mainGroup = Group.new;\n",
    "~reverbGroup = Group.after(~mainGroup);\n",
    "~reverbSynth = Synth.new(\\reverb, [\n",
    "        \\amp, 1,\n",
    "        \\predelay, 0.4,\n",
    "        \\revtime, 1.8,\n",
    "        \\lpf, 4500,\n",
    "        \\mix, 0.5,\n",
    "        \\in, ~bus[\\reverb],\n",
    "        \\out, ~out,\n",
    "    ], ~reverbGroup\n",
    ");"
   ]
  },
  {
   "cell_type": "code",
   "execution_count": 8,
   "metadata": {},
   "outputs": [],
   "source": [
    "%%sc\n",
    "e = Dictionary.new;\n",
    "\n",
    "e.add(\\pad_sine_lf -> {\n",
    "    ~chords = Pbind(\n",
    "        \\instrument, \\bpfsine,\n",
    "        \\dur, Pwhite(4.5-(Pfunc{~delta.linlin(0,1,0,4)}),5.5-(Pfunc{~delta.linlin(0,1,0,4)})),\n",
    "        \\midinote, Pxrand([\n",
    "            [23,35,54,63,64],\n",
    "            [45,52,54,59,61,64],\n",
    "            [28,40,47,56,59,63],\n",
    "            [42,52,57,61,63]\n",
    "        ], inf),\n",
    "        \\detune, Pexprand(0.05,0.2),\n",
    "        \\cfmin, 500,\n",
    "        \\cfmax, 1000,\n",
    "        \\rqmin, Pexprand(0.01,0.02),\n",
    "        \\rqmax, Pexprand(0.2,0.3),\n",
    "        \\atk, Pwhite(2.0,2.5),\n",
    "        \\rel, Pwhite(6.5,10.0),\n",
    "        \\ldb, 6,\n",
    "        \\amp, 0.3,\n",
    "        \\group, ~mainGroup,\n",
    "        \\out, ~bus[\\reverb],\n",
    "    ).play;\n",
    "\n",
    "    ~marimba = Pbind(\n",
    "        \\instrument, \\bpfsaw,\n",
    "        \\dur, Pwhite(Pfunc{~delta.linlin(0,1,0.99,0.05)},\n",
    "            Pfunc{~delta.linlin(0,1,1,0.1)}).trace,\n",
    "        \\freq, Prand([1/2,2/3,1]*(~delta.explin(0,1,1,4)),inf),\n",
    "        \\detune, Pfunc({~delta.linlin(0,1,0,2)}),\n",
    "        \\rqmin, Pfunc{~volume.linlin(0,1,0.005,0.09)},\n",
    "        \\rqmax, Pfunc{~volume.linlin(0,1,0.008,0.2)},\n",
    "        \\cfmin, Prand((Scale.major.degrees+64).midicps,inf) *\n",
    "        (Prand(([1,2,4]), inf) * round((Pfunc{~delta.linlin(0,1,1,5)}))),\n",
    "        \\cfmax, Pkey(\\cfmin) * Pwhite(1.008,1.025),\n",
    "        \\atk, Pfunc{~volume.linlin(0,1,3,1.5)},\n",
    "        \\sus, Pfunc{~volume.linlin(0,1,1,0.5)},\n",
    "        \\rel, Pfunc{~volume.linlin(0,1,5,2.5)},\n",
    "        \\amp, 0.9,\n",
    "        \\pan, Pwhite(Pfunc{~delta.linlin(0,1,0,-1)},Pfunc{~delta}),\n",
    "        \\group, ~mainGroup,\n",
    "        \\out, ~bus[\\reverb],\n",
    "    ).play;\n",
    "});\n",
    "e.add(\\event_stop -> {\n",
    "    ~chords.stop;\n",
    "    ~marimba.stop;\n",
    "});"
   ]
  },
  {
   "cell_type": "code",
   "execution_count": 9,
   "metadata": {},
   "outputs": [],
   "source": [
    "%%sc\n",
    "//(c) GUI\n",
    "Window.closeAll;\n",
    "w = Window(\"Sonification of Bleeding level\",\n",
    "    Rect(850, 400, 600,200)).front.alwaysOnTop_(true);\n",
    "\n",
    "~delta = 0;\n",
    "~volume = 0;\n",
    "\n",
    "~sliderDelta = Slider(w, Rect(30, 30, 250, 40)).background_(Color.rand).action_({\n",
    "    arg obj;\n",
    "    ~delta = obj.value;\n",
    "    ~reverbSynth.set(\\lpf, (~delta.linlin(0,1,1500,5000)));\n",
    "\n",
    "});\n",
    "~sliderVolume = Slider(w, Rect(30, 80, 250, 40)).background_(Color.rand).action_({\n",
    "    arg obj;\n",
    "    ~volume = obj.value;\n",
    "    ~reverbSynth.set(\\revtime, ~volume.linlin(0,1,1.8,0.5));\n",
    "    ~reverbSynth.set(\\mix, ~volume.linlin(0,1,0.5,0.1));\n",
    "    ~reverbSynth.set(\\predelay, ~volume.linlin(0,1,0.4,0.1));\n",
    "    ~reverbSynth.set(\\amp, ~volume.linexp(0,1,0.8,0.2));\n",
    "});\n",
    "\n",
    "StaticText(w, Rect(300, 35, 300, 30))\n",
    "    .string_(\"spontaneous blood values, 0-10 ml/s\");\n",
    "StaticText(w, Rect(300, 85, 300, 30))\n",
    "    .string_(\"total amount of bleeding, 0-2500 ml\");\n",
    "Button(w, Rect(350, 120, 60, 60)).states_([[\"Play\", Color.black,\n",
    "    Color.gray]]).action_({e[\\pad_sine_lf].value;\"\\event played\".postln;});\n",
    "Button(w, Rect(430, 120, 60, 60)).states_([[\"Stop\", Color.black,\n",
    "    Color.gray]]).action_({e[\\event_stop].value;\"\\stop\".postln;});"
   ]
  },
  {
   "cell_type": "code",
   "execution_count": null,
   "metadata": {},
   "outputs": [],
   "source": [
    "%sc e[\\pad_sine_lf].value; \n",
    "%sc ~delta = 0;\n",
    "%sc ~volume = 0;\n",
    "\n",
    "for i in range(df_indexed.size):\n",
    "    try:\n",
    "        current_values = df_indexed.loc[i, :]\n",
    "        print(f\"{i} delta: {current_values[2]:.2f}, volume: {current_values[1]:.2f}\", end=\"\\r\")         \n",
    "        volume = scn.linlin(current_values[1], volume_min, volume_max, 0, 1);\n",
    "        delta = scn.linlin(current_values[2], delta_min, delta_max, 0, 1);        \n",
    "        revtime = scn.linlin(volume, 0, 1, 1.8, 0.5)\n",
    "        mix = scn.linlin(volume, 0, 1, 0.5, 0.1)\n",
    "        predelay = scn.linlin(volume, 0, 1, 0.4, 0.1)\n",
    "        amp = scn.linlin(volume, 0, 1, 0.8, 0.2)        \n",
    "        %sc ~volume = ^volume\n",
    "        %sc ~delta = ^delta\n",
    "        %sc ~reverbSynth.set(\\revtime, ^revtime, \\mix, ^mix, \\predelay, ^predelay, \\amp, ^amp)        \n",
    "        time.sleep(1)\n",
    "    except KeyboardInterrupt:\n",
    "        print(\"Exit on Exception\")\n",
    "        raise"
   ]
  },
  {
   "cell_type": "code",
   "execution_count": null,
   "metadata": {},
   "outputs": [],
   "source": [
    "%sc e[\\event_stop].value;\"\\stop\".postln;"
   ]
  },
  {
   "cell_type": "code",
   "execution_count": null,
   "metadata": {},
   "outputs": [],
   "source": [
    "# %sc s.makeGui"
   ]
  },
  {
   "cell_type": "code",
   "execution_count": null,
   "metadata": {},
   "outputs": [],
   "source": [
    "%sc s.quit"
   ]
  }
 ],
 "metadata": {
  "kernelspec": {
   "display_name": "Python 3",
   "language": "python",
   "name": "python3"
  },
  "language_info": {
   "codemirror_mode": {
    "name": "ipython",
    "version": 3
   },
   "file_extension": ".py",
   "mimetype": "text/x-python",
   "name": "python",
   "nbconvert_exporter": "python",
   "pygments_lexer": "ipython3",
   "version": "3.7.3"
  }
 },
 "nbformat": 4,
 "nbformat_minor": 2
}
