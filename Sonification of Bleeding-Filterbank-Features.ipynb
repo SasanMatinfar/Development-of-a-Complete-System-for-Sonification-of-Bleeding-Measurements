{
 "cells": [
  {
   "cell_type": "markdown",
   "metadata": {},
   "source": [
    "# Sonification of Bleeding with Bank of Filters"
   ]
  },
  {
   "cell_type": "markdown",
   "metadata": {},
   "source": [
    "First Meeting (2019-06-11, Sasan and Thomas) @CITEC, TH proposed Filter-bank for feature generation\n",
    "* The idea is to use a bank of different low-pass filters to create increasingly smooth signals\n",
    "* these filtered signals serve as source for identifying key moments to anchor sound events\n",
    "* which then create a multiscale data-driven complex grain structure of the raw instantaneous bleeding data.\n",
    "* note that the limit of filtering with a cutoff-frequency towards 0 yields the integrated signal."
   ]
  },
  {
   "cell_type": "markdown",
   "metadata": {},
   "source": [
    "## Imports"
   ]
  },
  {
   "cell_type": "code",
   "execution_count": null,
   "metadata": {},
   "outputs": [],
   "source": [
    "from scipy import signal\n",
    "import numpy as np\n",
    "import pandas as pd\n",
    "import matplotlib\n",
    "import matplotlib.pyplot as plt \n",
    "import copy"
   ]
  },
  {
   "cell_type": "code",
   "execution_count": null,
   "metadata": {},
   "outputs": [],
   "source": [
    "%matplotlib notebook"
   ]
  },
  {
   "cell_type": "markdown",
   "metadata": {},
   "source": [
    "## Load Data and create filter bank signals"
   ]
  },
  {
   "cell_type": "code",
   "execution_count": null,
   "metadata": {},
   "outputs": [],
   "source": [
    "df = pd.read_csv('log_refactored_correction_factor.csv', na_values=['no info', '.'], delimiter=',')\n",
    "df_indexed = df.reset_index(drop=False)\n",
    "index = df_indexed['index']\n",
    "delta = df_indexed['Delta']\n",
    "volume = df_indexed['Blood Accumulated']"
   ]
  },
  {
   "cell_type": "code",
   "execution_count": null,
   "metadata": {},
   "outputs": [],
   "source": [
    "# help(signal.butter)"
   ]
  },
  {
   "cell_type": "code",
   "execution_count": null,
   "metadata": {},
   "outputs": [],
   "source": []
  },
  {
   "cell_type": "code",
   "execution_count": null,
   "metadata": {},
   "outputs": [],
   "source": [
    "import scipy.interpolate\n",
    "dfn = scipy.interpolate.interp1d(index, delta) #'previous')\n",
    "delta_resampled = dfn(np.linspace(0, len(index)-1, len(index)*20))\n",
    "# plt.plot(delta_resampled, \"r.-\")"
   ]
  },
  {
   "cell_type": "code",
   "execution_count": null,
   "metadata": {
    "scrolled": false
   },
   "outputs": [],
   "source": [
    "srcsig = delta_resampled\n",
    "N = srcsig.shape[0]\n",
    "NF = 15  # number of filters to use\n",
    "sr = 20\n",
    "dsf = np.zeros((N, NF))\n",
    "cfs = np.array(1+np.arange(NF))/(3*NF)  # To do: experiment with exponentially tuned filter frequencies\n",
    "order = 1 # 2... create oscillations into negative...\n",
    "\n",
    "for i, cf in enumerate(cfs):\n",
    "    b, a = signal.butter(order, cf,fs=sr)\n",
    "    zi = signal.lfilter_zi(b, a)\n",
    "    z, _ = signal.lfilter(b, a, srcsig, zi = zi*delta[0])\n",
    "    dsf[:, i] = copy.copy(z)\n",
    "\n",
    "# plot the data\n",
    "#fig = plt.figure(figsize=(15,4))\n",
    "plt.plot(srcsig, 'k.-', lw=0.2)\n",
    "plt.plot(dsf, color='r', lw=0.3);\n",
    "plt.ylim(-0.2,5); \n",
    "#plt.xlim(0,60*sr); \n",
    "plt.grid()"
   ]
  },
  {
   "cell_type": "code",
   "execution_count": null,
   "metadata": {},
   "outputs": [],
   "source": [
    "plt.hist(srcsig, 80)\n",
    "plt.semilogy()"
   ]
  },
  {
   "cell_type": "markdown",
   "metadata": {},
   "source": [
    "## Event-based Sonification of filtered data (min/max/threshold cut-throughs...)"
   ]
  },
  {
   "cell_type": "code",
   "execution_count": null,
   "metadata": {
    "scrolled": true
   },
   "outputs": [],
   "source": [
    "import sc3nb as scn\n",
    "import time\n",
    "sc = scn.startup()"
   ]
  },
  {
   "cell_type": "code",
   "execution_count": null,
   "metadata": {},
   "outputs": [],
   "source": [
    "%sc FreqScope(400, 300)"
   ]
  },
  {
   "cell_type": "code",
   "execution_count": null,
   "metadata": {},
   "outputs": [],
   "source": [
    "# filterbank argeggio\n",
    "for i, r in enumerate(dsf):\n",
    "    if i<3:\n",
    "        continue\n",
    "    for j, v in enumerate(r):\n",
    "        if np.argmax(dsf[i-2:i+1,j]) == 1: \n",
    "            freq = scn.midicps(scn.linlin(j, 0, NF-1, 50, 90)) # warum j und nicht v?\n",
    "            sc.msg(\"/s_new\", [\"s1\", -1, 1, 1, \"freq\", freq, \"dur\", 0.05*j, \"num\", 1]) # was sind die arguments von s_new? z.b. -1,1,1\n",
    "    time.sleep(0.05)"
   ]
  },
  {
   "cell_type": "code",
   "execution_count": null,
   "metadata": {},
   "outputs": [],
   "source": [
    "# 1-filter melody\n",
    "idx_prev = [-1, -1, -1]\n",
    "scale = [0,2,4,7,9,12,14,16,19,21,24]\n",
    "for i, r in enumerate(dsf):\n",
    "    c = 1\n",
    "    v = r[c]\n",
    "    idx = int(scn.linlin(v, 0, 5, 0, 11))\n",
    "    if idx != idx_prev[0]:\n",
    "        freq = scn.midicps(36 + scale[idx])\n",
    "        sc.msg(\"/s_new\", [\"s1\", -1, 1, 1, \"freq\", freq, \"dur\", 2.5, \"num\", 5])\n",
    "        idx_prev[0] = idx\n",
    "\n",
    "    c = 6\n",
    "    v = r[c]\n",
    "    idx = scn.clip(int(scn.linlin(v, 0, 5, 0, 11)), 0, 11)\n",
    "    if idx != idx_prev[1]:\n",
    "        freq = scn.midicps(60 + scale[idx])\n",
    "        sc.msg(\"/s_new\", [\"s1\", -1, 1, 1, \"freq\", freq, \"dur\", 0.4, \"num\", 1])\n",
    "        idx_prev[1] = idx\n",
    "        \n",
    "    c = NF-1\n",
    "    v = r[c]\n",
    "    idx = int(scn.linlin(v, 0, 5, 0, 11))\n",
    "    if idx != idx_prev[2]:\n",
    "        freq = scn.midicps(84 + scale[idx])\n",
    "        sc.msg(\"/s_new\", [\"s1\", -1, 1, 1, \"freq\", freq, \"dur\", 0.1, \"num\", 1])\n",
    "        idx_prev[2] = idx\n",
    "    time.sleep(0.05)"
   ]
  },
  {
   "cell_type": "code",
   "execution_count": null,
   "metadata": {},
   "outputs": [],
   "source": []
  }
 ],
 "metadata": {
  "kernelspec": {
   "display_name": "Python 3",
   "language": "python",
   "name": "python3"
  },
  "language_info": {
   "codemirror_mode": {
    "name": "ipython",
    "version": 3
   },
   "file_extension": ".py",
   "mimetype": "text/x-python",
   "name": "python",
   "nbconvert_exporter": "python",
   "pygments_lexer": "ipython3",
   "version": "3.7.3"
  },
  "toc": {
   "base_numbering": 1,
   "nav_menu": {},
   "number_sections": true,
   "sideBar": true,
   "skip_h1_title": true,
   "title_cell": "Table of Contents",
   "title_sidebar": "Contents",
   "toc_cell": false,
   "toc_position": {},
   "toc_section_display": true,
   "toc_window_display": false
  }
 },
 "nbformat": 4,
 "nbformat_minor": 2
}
