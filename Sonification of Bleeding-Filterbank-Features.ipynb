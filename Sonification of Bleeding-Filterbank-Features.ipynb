{
 "cells": [
  {
   "cell_type": "markdown",
   "metadata": {},
   "source": [
    "# Sonification of Bleeding with Bank of Filters"
   ]
  },
  {
   "cell_type": "markdown",
   "metadata": {},
   "source": [
    "First Meeting (2019-06-11, Sasan and Thomas) @CITEC, TH proposed Filter-bank for feature generation\n",
    "* The idea is to use a bank of different low-pass filters to create increasingly smooth signals\n",
    "* these filtered signals serve as source for identifying key moments to anchor sound events\n",
    "* which then create a multiscale data-driven complex grain structure of the raw instantaneous bleeding data.\n",
    "* note that the limit of filtering with a cutoff-frequency towards 0 yields the integrated signal."
   ]
  },
  {
   "cell_type": "markdown",
   "metadata": {},
   "source": [
    "## Imports"
   ]
  },
  {
   "cell_type": "code",
   "execution_count": null,
   "metadata": {},
   "outputs": [],
   "source": [
    "from scipy import signal\n",
    "import numpy as np\n",
    "import scipy.interpolate\n",
    "import pandas as pd\n",
    "import matplotlib\n",
    "import matplotlib.pyplot as plt \n",
    "import copy"
   ]
  },
  {
   "cell_type": "code",
   "execution_count": null,
   "metadata": {},
   "outputs": [],
   "source": [
    "%matplotlib inline"
   ]
  },
  {
   "cell_type": "markdown",
   "metadata": {},
   "source": [
    "## Load Data and Create Filter-Bank Signals"
   ]
  },
  {
   "cell_type": "code",
   "execution_count": null,
   "metadata": {},
   "outputs": [],
   "source": [
    "df = pd.read_csv('log_refactored_correction_factor.csv', na_values=['no info', '.'], delimiter=',')\n",
    "df_indexed = df.reset_index(drop=False)\n",
    "index = df_indexed['index']\n",
    "delta = df_indexed['Delta']\n",
    "volume = df_indexed['Blood Accumulated']"
   ]
  },
  {
   "cell_type": "code",
   "execution_count": null,
   "metadata": {},
   "outputs": [],
   "source": [
    "dfn = scipy.interpolate.interp1d(index, delta) #'previous')\n",
    "delta_resampled = dfn(np.linspace(0, len(index)-1, len(index)*20))\n",
    "# plt.plot(delta_resampled, \"r.-\")"
   ]
  },
  {
   "cell_type": "code",
   "execution_count": null,
   "metadata": {
    "scrolled": false
   },
   "outputs": [],
   "source": [
    "srcsig = delta_resampled\n",
    "N = srcsig.shape[0]\n",
    "NF = 15  # number of filters to use\n",
    "sr = 20\n",
    "dsf = np.zeros((N, NF))\n",
    "cfs = np.array(1+np.arange(NF))/(3*NF)  # To do: experiment with exponentially tuned filter frequencies\n",
    "order = 1 # 2... create oscillations into negative...\n",
    "\n",
    "for i, cf in enumerate(cfs):\n",
    "    b, a = signal.butter(order, cf,fs=sr)\n",
    "    zi = signal.lfilter_zi(b, a)\n",
    "    z, _ = signal.lfilter(b, a, srcsig, zi = zi*delta[0])\n",
    "    dsf[:, i] = copy.copy(z)\n",
    "\n",
    "# plot the data\n",
    "#fig = plt.figure(figsize=(15,4))\n",
    "plt.plot(srcsig, 'k.-', lw=0.2)\n",
    "plt.plot(dsf, color='r', lw=0.3);\n",
    "plt.ylim(-0.2,5); \n",
    "#plt.xlim(0,60*sr); \n",
    "plt.grid()"
   ]
  },
  {
   "cell_type": "code",
   "execution_count": null,
   "metadata": {},
   "outputs": [],
   "source": [
    "plt.hist(srcsig, 80)\n",
    "plt.semilogy()"
   ]
  },
  {
   "cell_type": "markdown",
   "metadata": {},
   "source": [
    "## Event-based Sonification of filtered data (min/max/threshold cut-throughs...)"
   ]
  },
  {
   "cell_type": "code",
   "execution_count": null,
   "metadata": {
    "scrolled": true
   },
   "outputs": [],
   "source": [
    "import sc3nb as scn\n",
    "import time\n",
    "sc = scn.startup()"
   ]
  },
  {
   "cell_type": "code",
   "execution_count": null,
   "metadata": {},
   "outputs": [],
   "source": [
    "%sc FreqScope(400, 300)"
   ]
  },
  {
   "cell_type": "code",
   "execution_count": null,
   "metadata": {},
   "outputs": [],
   "source": [
    "# filterbank argeggio\n",
    "for i, r in enumerate(dsf):\n",
    "    if i<3:\n",
    "        continue\n",
    "    for j, v in enumerate(r):\n",
    "        if np.argmax(dsf[i-2:i+1,j]) == 1: \n",
    "            freq = scn.midicps(scn.linlin(j, 0, NF-1, 50, 90)) \n",
    "            sc.msg(\"/s_new\", [\"s1\", -1, 1, 1, \"freq\", freq, \"dur\", 0.05*j, \"num\", 1])\n",
    "    time.sleep(0.05)"
   ]
  },
  {
   "cell_type": "code",
   "execution_count": null,
   "metadata": {},
   "outputs": [],
   "source": [
    "# 1-filter melody\n",
    "idx_prev = [-1, -1, -1]\n",
    "scale = [0,2,4,7,9,12,14,16,19,21,24]\n",
    "for i, r in enumerate(dsf):\n",
    "    c = 1\n",
    "    v = r[c]\n",
    "    idx = int(scn.linlin(v, 0, 5, 0, 11))\n",
    "    if idx != idx_prev[0]:\n",
    "        freq = scn.midicps(36 + scale[idx])\n",
    "        sc.msg(\"/s_new\", [\"s1\", -1, 1, 1, \"freq\", freq, \"dur\", 2.5, \"num\", 5])\n",
    "        idx_prev[0] = idx\n",
    "\n",
    "    c = 6\n",
    "    v = r[c]\n",
    "    idx = scn.clip(int(scn.linlin(v, 0, 5, 0, 11)), 0, 11)\n",
    "    if idx != idx_prev[1]:\n",
    "        freq = scn.midicps(60 + scale[idx])\n",
    "        sc.msg(\"/s_new\", [\"s1\", -1, 1, 1, \"freq\", freq, \"dur\", 0.4, \"num\", 1])\n",
    "        idx_prev[1] = idx\n",
    "        \n",
    "    c = NF-1\n",
    "    v = r[c]\n",
    "    idx = int(scn.linlin(v, 0, 5, 0, 11))\n",
    "    if idx != idx_prev[2]:\n",
    "        freq = scn.midicps(84 + scale[idx])\n",
    "        sc.msg(\"/s_new\", [\"s1\", -1, 1, 1, \"freq\", freq, \"dur\", 0.1, \"num\", 1])\n",
    "        idx_prev[2] = idx\n",
    "    time.sleep(0.05)"
   ]
  },
  {
   "cell_type": "markdown",
   "metadata": {},
   "source": [
    "## learning buffers in sc"
   ]
  },
  {
   "cell_type": "code",
   "execution_count": null,
   "metadata": {},
   "outputs": [],
   "source": [
    "help(scn.Buffer)"
   ]
  },
  {
   "cell_type": "code",
   "execution_count": null,
   "metadata": {},
   "outputs": [],
   "source": [
    "b = sc.Buffer().load_file(\"samples/kalimba.wav\")"
   ]
  },
  {
   "cell_type": "code",
   "execution_count": null,
   "metadata": {},
   "outputs": [],
   "source": [
    "b"
   ]
  },
  {
   "cell_type": "code",
   "execution_count": null,
   "metadata": {},
   "outputs": [],
   "source": [
    "b.play(rate=1)"
   ]
  },
  {
   "cell_type": "code",
   "execution_count": null,
   "metadata": {},
   "outputs": [],
   "source": [
    "for i in range(13):\n",
    "    rate = scn.midicps(i + scn.cpsmidi(1))\n",
    "    print(i, rate)\n",
    "    b.play(synth='pb-2ch', rate=rate, amp=0.9, pan=scn.linlin(i, 0, 12, -1, 1))\n",
    "    time.sleep(0.1)"
   ]
  },
  {
   "cell_type": "code",
   "execution_count": null,
   "metadata": {},
   "outputs": [],
   "source": [
    "b.query()"
   ]
  },
  {
   "cell_type": "code",
   "execution_count": null,
   "metadata": {},
   "outputs": [],
   "source": [
    "%%scv\n",
    "SynthDef(\"pb-sasan\", { | out=0, bufnum=0, rate=1, pan=0, amp=0.3, rel=0.1, dur=0.2 |\n",
    "    //var sig1 = PlayBuf.ar(1, bufnum, 1.01*rate * BufRateScale.kr(bufnum), doneAction: 2);\n",
    "    //var sig2 = PlayBuf.ar(1, bufnum, 0.99*rate * BufRateScale.kr(bufnum), doneAction: 2);\n",
    "\n",
    "    var drate = SinOsc.ar(3, add:rate * BufRateScale.kr(bufnum), mul:0.01);\n",
    "    var sig = PlayBuf.ar(1, bufnum, drate, doneAction: 2);\n",
    "                      \n",
    "    var env = EnvGen.kr(Env.new([1,1,0], [dur-rel, rel]), doneAction: 2);\n",
    "    Out.ar(out, Pan2.ar(sig, pan, amp*env))\n",
    "}).add();"
   ]
  },
  {
   "cell_type": "code",
   "execution_count": null,
   "metadata": {},
   "outputs": [],
   "source": [
    "p1 = b.bufnum\n",
    "%sc Synth.new(\"pb-sasan\", [\"bufnum\", ^p1])"
   ]
  },
  {
   "cell_type": "code",
   "execution_count": null,
   "metadata": {},
   "outputs": [],
   "source": [
    "sc.msg(\"/s_new\", [\"pb-sasan\", -1,1,1, \"bufnum\", b.bufnum, \"amp\", 1, \"pan\", 1, \"dur\", 3])"
   ]
  },
  {
   "cell_type": "code",
   "execution_count": null,
   "metadata": {},
   "outputs": [],
   "source": [
    "t0 = time.time()\n",
    "for i in range(100):\n",
    "    onset = np.random.random()*6\n",
    "    rate = np.random.random()+0.5\n",
    "    pan = 2*np.random.random()-1\n",
    "    sc.bundle(t0+onset, \"/s_new\", [\"pb-sasan\", -1,1,1, \"bufnum\", b.bufnum, \n",
    "                                   \"rate\", rate, \"amp\", 1, \"pan\", pan, \"dur\", 3])\n",
    "print(time.time()-t0)"
   ]
  },
  {
   "cell_type": "code",
   "execution_count": null,
   "metadata": {},
   "outputs": [],
   "source": [
    "#queue = TimedQueue()\n",
    "#queue.put(time, sc.msg, [\"/s_new\", [,,,,,]])\n"
   ]
  },
  {
   "cell_type": "markdown",
   "metadata": {},
   "source": [
    "## User Interfaces"
   ]
  },
  {
   "cell_type": "code",
   "execution_count": null,
   "metadata": {},
   "outputs": [],
   "source": [
    "import ipywidgets\n",
    "import os\n",
    "import threading\n",
    "from IPython.display import clear_output"
   ]
  },
  {
   "cell_type": "code",
   "execution_count": null,
   "metadata": {
    "code_folding": []
   },
   "outputs": [],
   "source": [
    "class Bloodplayer:\n",
    "    \n",
    "    def __init__(self, data, pulse_time=1, verbose=False):\n",
    "        self.lock = threading.Lock()\n",
    "        self.stopevent = threading.Event()\n",
    "        self.callback_fn = None\n",
    "        self.idx = 0\n",
    "        self.data = data\n",
    "        self.length = data.shape[0]\n",
    "        self.verbose = verbose\n",
    "        self.pulse_time = pulse_time\n",
    "        \n",
    "    #def __del__():\n",
    "        # close plot window\n",
    "        #pass\n",
    "    \n",
    "    def callback_fn_default(self, v):\n",
    "        os.write(1, f\"\\r                       \\r{v[0]}\".encode())\n",
    "        \n",
    "    def procfn(self):\n",
    "        self.idx = 0\n",
    "        while not self.stopevent.wait(0) and self.idx < self.length-1:\n",
    "            v = self.data[self.idx]\n",
    "            if self.verbose: \n",
    "                os.write(1, f\"\\r{self.idx}:{v}                   \".encode())\n",
    "            if callable(self.callback_fn):\n",
    "                self.callback_fn(self, v)\n",
    "            else:\n",
    "                self.callback_fn_default(v)\n",
    "            self.idx += 1\n",
    "            time.sleep(self.pulse_time)\n",
    "        print(\"done.\")\n",
    "    \n",
    "    def set_callback(self, fn):\n",
    "        self.callback_fn = fn\n",
    "        \n",
    "    def create_thread(self):\n",
    "        threadname = \"BloodPlayer-thread\"\n",
    "        # check first if it already exists\n",
    "        if threadname in [t.name for t in threading.enumerate()]:\n",
    "            print(\"create_thread: thread is already existing, stop first\")\n",
    "        else:\n",
    "            self.stopevent.clear()\n",
    "            self.producer = threading.Thread(name=threadname, target=self.procfn, args=[])\n",
    "            self.producer.start()\n",
    "\n",
    "    def stop_thread(self):\n",
    "        self.stopevent.set()"
   ]
  },
  {
   "cell_type": "code",
   "execution_count": null,
   "metadata": {
    "code_folding": []
   },
   "outputs": [],
   "source": [
    "bloodplayer = Bloodplayer(dsf)"
   ]
  },
  {
   "cell_type": "code",
   "execution_count": null,
   "metadata": {
    "code_folding": []
   },
   "outputs": [],
   "source": [
    "# Plot Data \n",
    "%matplotlib\n",
    "\n",
    "# create figure\n",
    "fig, ax = plt.subplots(1)  # create figure\n",
    "mngr = plt.get_current_fig_manager(); \n",
    "mngr.window.setGeometry(1200, 0, 500, 400)\n",
    "\n",
    "# create axis, plots\n",
    "ax.clear()\n",
    "plmarked, = ax.plot([], [], \"r-\", lw=1)\n",
    "pldata, = ax.plot(dsf[:,0], \"-\", ms=2) # create plots\n",
    "\n",
    "def update_plot(t): \n",
    "    global fig, ax, plmarked, pldata\n",
    "    plmarked.set_data([t,t], [-10, 10])\n",
    "    ax.draw_artist(ax.patch)\n",
    "    ax.draw_artist(pldata)\n",
    "    ax.draw_artist(plmarked)\n",
    "    fig.canvas.update()\n",
    "\n",
    "def onclick(event):\n",
    "    global bloodplayer\n",
    "    if event.dblclick:\n",
    "        print(event.button, event.xdata)\n",
    "        bloodplayer.idx = int(event.xdata)\n",
    "\n",
    "connection_id = fig.canvas.mpl_connect('button_press_event', onclick)\n",
    "\n",
    "# test with \n",
    "# update_plot(5000)"
   ]
  },
  {
   "cell_type": "code",
   "execution_count": null,
   "metadata": {
    "code_folding": []
   },
   "outputs": [],
   "source": [
    "# GUI\n",
    "def start(b):\n",
    "    global bloodplayer\n",
    "    bloodplayer.create_thread()\n",
    "    print(\"start\")\n",
    "b4 = ipywidgets.Button(description='Start'); b4.on_click(start)\n",
    "\n",
    "def stop(b):\n",
    "    global bloodplayer\n",
    "    print(\"stop\")\n",
    "    bloodplayer.stop_thread()\n",
    "\n",
    "b5 = ipywidgets.Button(description='Stop'); \n",
    "b5.on_click(stop)\n",
    "out = ipywidgets.Output()\n",
    "ipywidgets.HBox([b4, b5, out])"
   ]
  },
  {
   "cell_type": "code",
   "execution_count": null,
   "metadata": {},
   "outputs": [],
   "source": [
    "bloodplayer.idx"
   ]
  },
  {
   "cell_type": "code",
   "execution_count": null,
   "metadata": {},
   "outputs": [],
   "source": [
    "bloodplayer.pulse_time = 0.05"
   ]
  },
  {
   "cell_type": "code",
   "execution_count": null,
   "metadata": {},
   "outputs": [],
   "source": [
    "# del(bloodplayer)"
   ]
  },
  {
   "cell_type": "code",
   "execution_count": null,
   "metadata": {},
   "outputs": [],
   "source": [
    "# Custom code for sonifications\n",
    "prevv = 0\n",
    "def son_waterdrop(self, v):\n",
    "    global prevv \n",
    "    if self.idx % 10 == 0:\n",
    "        os.write(1, f\"\\r{self.idx}:callback{v[0]}                   \".encode())\n",
    "        update_plot(self.idx)\n",
    "\n",
    "    val = v[0]\n",
    "    if val>=0.5 and prevv<0.5:\n",
    "        sc.msg(\"/s_new\", [\"pb-sasan\", -1,1,1, \n",
    "                          \"bufnum\", b.bufnum, \"amp\", 1, \"rate\", 2, \"pan\", 1, \"dur\", 2])\n",
    "    prevv = val\n",
    "\n",
    "bloodplayer.set_callback(son_waterdrop)"
   ]
  },
  {
   "cell_type": "code",
   "execution_count": null,
   "metadata": {},
   "outputs": [],
   "source": [
    "bloodplayer.verbose = False"
   ]
  },
  {
   "cell_type": "code",
   "execution_count": null,
   "metadata": {},
   "outputs": [],
   "source": [
    "bloodplayer.idx = 1500"
   ]
  },
  {
   "cell_type": "code",
   "execution_count": null,
   "metadata": {},
   "outputs": [],
   "source": [
    "# optional for other methods..\n",
    "# bloodplayer.set_callback(son_waterdrop)"
   ]
  },
  {
   "cell_type": "code",
   "execution_count": null,
   "metadata": {},
   "outputs": [],
   "source": []
  }
 ],
 "metadata": {
  "kernelspec": {
   "display_name": "Python 3",
   "language": "python",
   "name": "python3"
  },
  "language_info": {
   "codemirror_mode": {
    "name": "ipython",
    "version": 3
   },
   "file_extension": ".py",
   "mimetype": "text/x-python",
   "name": "python",
   "nbconvert_exporter": "python",
   "pygments_lexer": "ipython3",
   "version": "3.7.3"
  },
  "toc": {
   "base_numbering": 1,
   "nav_menu": {},
   "number_sections": true,
   "sideBar": true,
   "skip_h1_title": true,
   "title_cell": "Table of Contents",
   "title_sidebar": "Contents",
   "toc_cell": false,
   "toc_position": {},
   "toc_section_display": true,
   "toc_window_display": true
  }
 },
 "nbformat": 4,
 "nbformat_minor": 2
}
