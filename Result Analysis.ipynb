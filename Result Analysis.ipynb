{
 "cells": [
  {
   "cell_type": "markdown",
   "metadata": {},
   "source": [
    "## Imports & Load Data"
   ]
  },
  {
   "cell_type": "code",
   "execution_count": 1,
   "metadata": {},
   "outputs": [],
   "source": [
    "import pandas as pd\n",
    "import numpy as np\n",
    "import statsmodels.api as sm\n",
    "import statsmodels.formula.api as smf\n",
    "from statsmodels.formula.api import ols\n",
    "import scipy.stats as stats\n",
    "import researchpy as rp\n",
    "import matplotlib.pyplot as plt\n",
    "from statsmodels.stats.multicomp import pairwise_tukeyhsd\n",
    "from statsmodels.stats.multicomp import MultiComparison"
   ]
  },
  {
   "cell_type": "code",
   "execution_count": 2,
   "metadata": {},
   "outputs": [],
   "source": [
    "df = pd.read_csv('step0_results.csv', na_values=['no info', '.'], delimiter=',')"
   ]
  },
  {
   "cell_type": "markdown",
   "metadata": {},
   "source": [
    "## Prepare Table for Statistical Analysis"
   ]
  },
  {
   "cell_type": "code",
   "execution_count": 3,
   "metadata": {},
   "outputs": [],
   "source": [
    "new_columns = ['date']\n",
    "\n",
    "for i in range(1, 10):\n",
    "    for j in range(1, 13):\n",
    "        new_columns.append(str(i)+str(j))\n",
    "\n",
    "new_columns.append('feedback')\n",
    "df.columns = new_columns\n",
    "df.drop(['date', 'feedback'], axis=1, inplace=True)"
   ]
  },
  {
   "cell_type": "code",
   "execution_count": 4,
   "metadata": {},
   "outputs": [],
   "source": [
    "df.replace('Strongly disagree', 1, inplace=True)\n",
    "df.replace('Disagree', 2, inplace=True)\n",
    "df.replace('Neutral', 3, inplace=True)\n",
    "df.replace('Agree', 4, inplace=True)\n",
    "df.replace('Strongly Agree', 5, inplace=True)\n",
    "\n",
    "df.replace('< 5 min', 1, inplace=True)\n",
    "df.replace('5 - 15 min', 2, inplace=True)\n",
    "df.replace('15 - 30 min', 3, inplace=True)\n",
    "df.replace('30 - 60 min', 4, inplace=True)\n",
    "df.replace('> 60 min', 5, inplace=True)"
   ]
  },
  {
   "cell_type": "code",
   "execution_count": 5,
   "metadata": {},
   "outputs": [],
   "source": [
    "# multiplication of values with 1 or -1 depending on the question effect\n",
    "for column in df:\n",
    "    r = int(column)%10\n",
    "    if r == 7 or r == 8 or r == 9 or r == 0:\n",
    "        #df[column] = df[column]*(-1) # for having negative effect of question\n",
    "        df[column] = 6 - df[column]"
   ]
  },
  {
   "cell_type": "code",
   "execution_count": 41,
   "metadata": {},
   "outputs": [
    {
     "data": {
      "image/png": "[encoded data removed]",
      "text/plain": [
       "<Figure size 1224x288 with 1 Axes>"
      ]
     },
     "metadata": {
      "needs_background": "light"
     },
     "output_type": "display_data"
    }
   ],
   "source": [
    "input_boxplot_nature_three = df.iloc[:, 24:36]\n",
    "input_boxplot_nature_three.columns = ['appropriate in general', 'appropriate for surgery', \n",
    "                                      'good for stressful situation', 'recognizable & distinctive', \n",
    "                                      'pleasant', 'beautiful & engaing', 'obstrutive', 'annoying', \n",
    "                                      'distracting', 'boring', 'passive listening', 'active listening']\n",
    "boxplot_nature_three = input_boxplot_nature_three.boxplot(column=['appropriate in general', 'appropriate for surgery', \n",
    "                                      'good for stressful situation', 'recognizable & distinctive', \n",
    "                                      'pleasant', 'beautiful & engaing', 'obstrutive', 'annoying', \n",
    "                                      'distracting', 'boring', 'passive listening', 'active listening'], \n",
    "                                                          rot=45,\n",
    "                                                          grid=False, \n",
    "                                                          figsize=(17, 4))\n"
   ]
  },
  {
   "cell_type": "markdown",
   "metadata": {},
   "source": [
    "## Sum Points Over Questions"
   ]
  },
  {
   "cell_type": "code",
   "execution_count": 7,
   "metadata": {},
   "outputs": [],
   "source": [
    "sumOverAll = np.nan\n",
    "sumOverAll = df.sum(axis = 0)\n",
    "#sumOverAll"
   ]
  },
  {
   "cell_type": "code",
   "execution_count": 8,
   "metadata": {},
   "outputs": [],
   "source": [
    "sum_over_q = np.empty([1,9], dtype=int)\n",
    "\n",
    "for i in range(9):\n",
    "    sum_over_q[0,i] = sumOverAll[i*12:(i*12)+12].sum(axis=0)"
   ]
  },
  {
   "cell_type": "code",
   "execution_count": 9,
   "metadata": {},
   "outputs": [
    {
     "data": {
      "text/html": [
       "<div>\n",
       "<style scoped>\n",
       "    .dataframe tbody tr th:only-of-type {\n",
       "        vertical-align: middle;\n",
       "    }\n",
       "\n",
       "    .dataframe tbody tr th {\n",
       "        vertical-align: top;\n",
       "    }\n",
       "\n",
       "    .dataframe thead th {\n",
       "        text-align: right;\n",
       "    }\n",
       "</style>\n",
       "<table border=\"1\" class=\"dataframe\">\n",
       "  <thead>\n",
       "    <tr style=\"text-align: right;\">\n",
       "      <th></th>\n",
       "      <th>1</th>\n",
       "      <th>2</th>\n",
       "      <th>3</th>\n",
       "      <th>4</th>\n",
       "      <th>5</th>\n",
       "      <th>6</th>\n",
       "      <th>7</th>\n",
       "      <th>8</th>\n",
       "      <th>9</th>\n",
       "    </tr>\n",
       "  </thead>\n",
       "  <tbody>\n",
       "    <tr>\n",
       "      <th>0</th>\n",
       "      <td>377</td>\n",
       "      <td>336</td>\n",
       "      <td>455</td>\n",
       "      <td>425</td>\n",
       "      <td>428</td>\n",
       "      <td>411</td>\n",
       "      <td>445</td>\n",
       "      <td>444</td>\n",
       "      <td>417</td>\n",
       "    </tr>\n",
       "  </tbody>\n",
       "</table>\n",
       "</div>"
      ],
      "text/plain": [
       "     1    2    3    4    5    6    7    8    9\n",
       "0  377  336  455  425  428  411  445  444  417"
      ]
     },
     "execution_count": 9,
     "metadata": {},
     "output_type": "execute_result"
    }
   ],
   "source": [
    "sum_over_questions_per_son = pd.DataFrame(sum_over_q, columns=['1', '2', '3', '4', '5', '6', '7', '8', '9'])\n",
    "sum_over_questions_per_son"
   ]
  },
  {
   "cell_type": "code",
   "execution_count": 10,
   "metadata": {},
   "outputs": [
    {
     "data": {
      "text/plain": [
       "array([[32, 30, 26, 30, 35, 34, 35, 40, 33, 40, 26, 16, 31, 21, 22, 30,\n",
       "        31, 29, 32, 34, 29, 40, 21, 16, 33, 36, 34, 38, 42, 39, 40, 44,\n",
       "        37, 43, 38, 31, 40, 39, 35, 41, 32, 29, 39, 42, 40, 42, 24, 22,\n",
       "        38, 38, 31, 42, 32, 36, 41, 41, 38, 42, 27, 22, 38, 37, 34, 39,\n",
       "        30, 28, 37, 36, 41, 43, 26, 22, 36, 31, 34, 34, 43, 40, 40, 47,\n",
       "        38, 45, 32, 25, 36, 30, 36, 35, 41, 38, 41, 46, 38, 44, 31, 28,\n",
       "        33, 26, 32, 35, 36, 34, 39, 46, 39, 45, 32, 20]])"
      ]
     },
     "execution_count": 10,
     "metadata": {},
     "output_type": "execute_result"
    }
   ],
   "source": [
    "qs = np.empty([1,len(df.columns)], dtype=int)\n",
    "\n",
    "for i in range(len(df.columns)):\n",
    "    qs[:,i] = df.iloc[:,i].sum()\n",
    "qs"
   ]
  },
  {
   "cell_type": "markdown",
   "metadata": {},
   "source": [
    "## ANOVA"
   ]
  },
  {
   "cell_type": "code",
   "execution_count": 11,
   "metadata": {},
   "outputs": [
    {
     "data": {
      "text/plain": [
       "array([[40, 28, 42, 23, 33, 41, 30, 36, 32, 45],\n",
       "       [38, 28, 31, 22, 37, 39, 43, 29, 25, 20],\n",
       "       [47, 28, 38, 36, 44, 58, 42, 39, 30, 47],\n",
       "       [26, 28, 41, 42, 42, 31, 42, 35, 39, 47],\n",
       "       [28, 28, 36, 45, 39, 26, 42, 40, 40, 50],\n",
       "       [24, 28, 31, 39, 34, 38, 38, 40, 39, 50],\n",
       "       [44, 28, 47, 38, 49, 46, 46, 29, 29, 43],\n",
       "       [45, 28, 48, 44, 51, 44, 34, 32, 24, 48],\n",
       "       [51, 28, 36, 29, 42, 39, 40, 38, 35, 34]])"
      ]
     },
     "execution_count": 11,
     "metadata": {},
     "output_type": "execute_result"
    }
   ],
   "source": [
    "input_for_anova = np.empty([9, 10], dtype=int)\n",
    "\n",
    "for i in range(9):\n",
    "    for j in range(10):\n",
    "        input_for_anova[i, j] = df.iloc[j, i*12:(i*12)+12].sum(axis=0)\n",
    "\n",
    "ones = [1,1,1,1,1,1,1,1,1,1]\n",
    "twos = [2,2,2,2,2,2,2,2,2,2]\n",
    "threes = [3,3,3,3,3,3,3,3,3,3]\n",
    "group = np.concatenate((np.asarray(ones), np.asarray(twos), np.asarray(threes)), axis=0)\n",
    "\n",
    "input_for_anova"
   ]
  },
  {
   "cell_type": "markdown",
   "metadata": {},
   "source": [
    "### ANOVA for Nature"
   ]
  },
  {
   "cell_type": "code",
   "execution_count": 12,
   "metadata": {},
   "outputs": [],
   "source": [
    "input_for_anova_nature = pd.DataFrame(data=input_for_anova[0:3,])\n",
    "input_for_anova_nature = np.transpose(input_for_anova_nature)\n",
    "anova_nature = input_for_anova_nature[0].append(input_for_anova_nature[1]).append(input_for_anova_nature[2]).reset_index(drop=True)\n",
    "nature = pd.DataFrame(data={'effect': anova_nature, 'group': group})"
   ]
  },
  {
   "cell_type": "code",
   "execution_count": 13,
   "metadata": {},
   "outputs": [
    {
     "data": {
      "text/html": [
       "<table class=\"simpletable\">\n",
       "<caption>OLS Regression Results</caption>\n",
       "<tr>\n",
       "  <th>Dep. Variable:</th>         <td>effect</td>      <th>  R-squared:         </th> <td>   0.221</td>\n",
       "</tr>\n",
       "<tr>\n",
       "  <th>Model:</th>                   <td>OLS</td>       <th>  Adj. R-squared:    </th> <td>   0.163</td>\n",
       "</tr>\n",
       "<tr>\n",
       "  <th>Method:</th>             <td>Least Squares</td>  <th>  F-statistic:       </th> <td>   3.829</td>\n",
       "</tr>\n",
       "<tr>\n",
       "  <th>Date:</th>             <td>Mon, 21 Oct 2019</td> <th>  Prob (F-statistic):</th>  <td>0.0344</td> \n",
       "</tr>\n",
       "<tr>\n",
       "  <th>Time:</th>                 <td>14:37:22</td>     <th>  Log-Likelihood:    </th> <td> -102.99</td>\n",
       "</tr>\n",
       "<tr>\n",
       "  <th>No. Observations:</th>      <td>    30</td>      <th>  AIC:               </th> <td>   212.0</td>\n",
       "</tr>\n",
       "<tr>\n",
       "  <th>Df Residuals:</th>          <td>    27</td>      <th>  BIC:               </th> <td>   216.2</td>\n",
       "</tr>\n",
       "<tr>\n",
       "  <th>Df Model:</th>              <td>     2</td>      <th>                     </th>     <td> </td>   \n",
       "</tr>\n",
       "<tr>\n",
       "  <th>Covariance Type:</th>      <td>nonrobust</td>    <th>                     </th>     <td> </td>   \n",
       "</tr>\n",
       "</table>\n",
       "<table class=\"simpletable\">\n",
       "<tr>\n",
       "        <td></td>           <th>coef</th>     <th>std err</th>      <th>t</th>      <th>P>|t|</th>  <th>[0.025</th>    <th>0.975]</th>  \n",
       "</tr>\n",
       "<tr>\n",
       "  <th>Intercept</th>     <td>   35.0000</td> <td>    2.498</td> <td>   14.012</td> <td> 0.000</td> <td>   29.875</td> <td>   40.125</td>\n",
       "</tr>\n",
       "<tr>\n",
       "  <th>C(group)[T.2]</th> <td>   -3.8000</td> <td>    3.532</td> <td>   -1.076</td> <td> 0.292</td> <td>  -11.048</td> <td>    3.448</td>\n",
       "</tr>\n",
       "<tr>\n",
       "  <th>C(group)[T.3]</th> <td>    5.9000</td> <td>    3.532</td> <td>    1.670</td> <td> 0.106</td> <td>   -1.348</td> <td>   13.148</td>\n",
       "</tr>\n",
       "</table>\n",
       "<table class=\"simpletable\">\n",
       "<tr>\n",
       "  <th>Omnibus:</th>       <td> 0.555</td> <th>  Durbin-Watson:     </th> <td>   2.107</td>\n",
       "</tr>\n",
       "<tr>\n",
       "  <th>Prob(Omnibus):</th> <td> 0.758</td> <th>  Jarque-Bera (JB):  </th> <td>   0.642</td>\n",
       "</tr>\n",
       "<tr>\n",
       "  <th>Skew:</th>          <td> 0.120</td> <th>  Prob(JB):          </th> <td>   0.726</td>\n",
       "</tr>\n",
       "<tr>\n",
       "  <th>Kurtosis:</th>      <td> 2.325</td> <th>  Cond. No.          </th> <td>    3.73</td>\n",
       "</tr>\n",
       "</table><br/><br/>Warnings:<br/>[1] Standard Errors assume that the covariance matrix of the errors is correctly specified."
      ],
      "text/plain": [
       "<class 'statsmodels.iolib.summary.Summary'>\n",
       "\"\"\"\n",
       "                            OLS Regression Results                            \n",
       "==============================================================================\n",
       "Dep. Variable:                 effect   R-squared:                       0.221\n",
       "Model:                            OLS   Adj. R-squared:                  0.163\n",
       "Method:                 Least Squares   F-statistic:                     3.829\n",
       "Date:                Mon, 21 Oct 2019   Prob (F-statistic):             0.0344\n",
       "Time:                        14:37:22   Log-Likelihood:                -102.99\n",
       "No. Observations:                  30   AIC:                             212.0\n",
       "Df Residuals:                      27   BIC:                             216.2\n",
       "Df Model:                           2                                         \n",
       "Covariance Type:            nonrobust                                         \n",
       "=================================================================================\n",
       "                    coef    std err          t      P>|t|      [0.025      0.975]\n",
       "---------------------------------------------------------------------------------\n",
       "Intercept        35.0000      2.498     14.012      0.000      29.875      40.125\n",
       "C(group)[T.2]    -3.8000      3.532     -1.076      0.292     -11.048       3.448\n",
       "C(group)[T.3]     5.9000      3.532      1.670      0.106      -1.348      13.148\n",
       "==============================================================================\n",
       "Omnibus:                        0.555   Durbin-Watson:                   2.107\n",
       "Prob(Omnibus):                  0.758   Jarque-Bera (JB):                0.642\n",
       "Skew:                           0.120   Prob(JB):                        0.726\n",
       "Kurtosis:                       2.325   Cond. No.                         3.73\n",
       "==============================================================================\n",
       "\n",
       "Warnings:\n",
       "[1] Standard Errors assume that the covariance matrix of the errors is correctly specified.\n",
       "\"\"\""
      ]
     },
     "execution_count": 13,
     "metadata": {},
     "output_type": "execute_result"
    }
   ],
   "source": [
    "results_nature = ols('effect ~ C(group)', data=nature).fit()\n",
    "results_nature.summary()"
   ]
  },
  {
   "cell_type": "code",
   "execution_count": 14,
   "metadata": {},
   "outputs": [
    {
     "name": "stdout",
     "output_type": "stream",
     "text": [
      "\n",
      "\n"
     ]
    },
    {
     "data": {
      "text/html": [
       "<div>\n",
       "<style scoped>\n",
       "    .dataframe tbody tr th:only-of-type {\n",
       "        vertical-align: middle;\n",
       "    }\n",
       "\n",
       "    .dataframe tbody tr th {\n",
       "        vertical-align: top;\n",
       "    }\n",
       "\n",
       "    .dataframe thead th {\n",
       "        text-align: right;\n",
       "    }\n",
       "</style>\n",
       "<table border=\"1\" class=\"dataframe\">\n",
       "  <thead>\n",
       "    <tr style=\"text-align: right;\">\n",
       "      <th></th>\n",
       "      <th>Variable</th>\n",
       "      <th>N</th>\n",
       "      <th>Mean</th>\n",
       "      <th>SD</th>\n",
       "      <th>SE</th>\n",
       "      <th>95% Conf.</th>\n",
       "      <th>Interval</th>\n",
       "    </tr>\n",
       "  </thead>\n",
       "  <tbody>\n",
       "    <tr>\n",
       "      <th>0</th>\n",
       "      <td>effect</td>\n",
       "      <td>30.0</td>\n",
       "      <td>35.7</td>\n",
       "      <td>8.634933</td>\n",
       "      <td>1.576516</td>\n",
       "      <td>32.475663</td>\n",
       "      <td>38.924337</td>\n",
       "    </tr>\n",
       "  </tbody>\n",
       "</table>\n",
       "</div>"
      ],
      "text/plain": [
       "  Variable     N  Mean        SD        SE  95% Conf.   Interval\n",
       "0   effect  30.0  35.7  8.634933  1.576516  32.475663  38.924337"
      ]
     },
     "execution_count": 14,
     "metadata": {},
     "output_type": "execute_result"
    }
   ],
   "source": [
    "rp.summary_cont(nature['effect'])"
   ]
  },
  {
   "cell_type": "code",
   "execution_count": 15,
   "metadata": {},
   "outputs": [
    {
     "name": "stdout",
     "output_type": "stream",
     "text": [
      "\n",
      "\n"
     ]
    },
    {
     "data": {
      "text/html": [
       "<div>\n",
       "<style scoped>\n",
       "    .dataframe tbody tr th:only-of-type {\n",
       "        vertical-align: middle;\n",
       "    }\n",
       "\n",
       "    .dataframe tbody tr th {\n",
       "        vertical-align: top;\n",
       "    }\n",
       "\n",
       "    .dataframe thead th {\n",
       "        text-align: right;\n",
       "    }\n",
       "</style>\n",
       "<table border=\"1\" class=\"dataframe\">\n",
       "  <thead>\n",
       "    <tr style=\"text-align: right;\">\n",
       "      <th></th>\n",
       "      <th>N</th>\n",
       "      <th>Mean</th>\n",
       "      <th>SD</th>\n",
       "      <th>SE</th>\n",
       "      <th>95% Conf.</th>\n",
       "      <th>Interval</th>\n",
       "    </tr>\n",
       "    <tr>\n",
       "      <th>group</th>\n",
       "      <th></th>\n",
       "      <th></th>\n",
       "      <th></th>\n",
       "      <th></th>\n",
       "      <th></th>\n",
       "      <th></th>\n",
       "    </tr>\n",
       "  </thead>\n",
       "  <tbody>\n",
       "    <tr>\n",
       "      <th>1</th>\n",
       "      <td>10</td>\n",
       "      <td>35.0</td>\n",
       "      <td>7.007932</td>\n",
       "      <td>2.216103</td>\n",
       "      <td>30.421484</td>\n",
       "      <td>39.578516</td>\n",
       "    </tr>\n",
       "    <tr>\n",
       "      <th>2</th>\n",
       "      <td>10</td>\n",
       "      <td>31.2</td>\n",
       "      <td>7.771744</td>\n",
       "      <td>2.457641</td>\n",
       "      <td>26.122461</td>\n",
       "      <td>36.277539</td>\n",
       "    </tr>\n",
       "    <tr>\n",
       "      <th>3</th>\n",
       "      <td>10</td>\n",
       "      <td>40.9</td>\n",
       "      <td>8.812239</td>\n",
       "      <td>2.786675</td>\n",
       "      <td>35.142671</td>\n",
       "      <td>46.657329</td>\n",
       "    </tr>\n",
       "  </tbody>\n",
       "</table>\n",
       "</div>"
      ],
      "text/plain": [
       "        N  Mean        SD        SE  95% Conf.   Interval\n",
       "group                                                    \n",
       "1      10  35.0  7.007932  2.216103  30.421484  39.578516\n",
       "2      10  31.2  7.771744  2.457641  26.122461  36.277539\n",
       "3      10  40.9  8.812239  2.786675  35.142671  46.657329"
      ]
     },
     "execution_count": 15,
     "metadata": {},
     "output_type": "execute_result"
    }
   ],
   "source": [
    "rp.summary_cont(nature['effect'].groupby(nature['group']))"
   ]
  },
  {
   "cell_type": "code",
   "execution_count": 16,
   "metadata": {},
   "outputs": [
    {
     "data": {
      "text/html": [
       "<div>\n",
       "<style scoped>\n",
       "    .dataframe tbody tr th:only-of-type {\n",
       "        vertical-align: middle;\n",
       "    }\n",
       "\n",
       "    .dataframe tbody tr th {\n",
       "        vertical-align: top;\n",
       "    }\n",
       "\n",
       "    .dataframe thead th {\n",
       "        text-align: right;\n",
       "    }\n",
       "</style>\n",
       "<table border=\"1\" class=\"dataframe\">\n",
       "  <thead>\n",
       "    <tr style=\"text-align: right;\">\n",
       "      <th></th>\n",
       "      <th>sum_sq</th>\n",
       "      <th>df</th>\n",
       "      <th>F</th>\n",
       "      <th>PR(&gt;F)</th>\n",
       "    </tr>\n",
       "  </thead>\n",
       "  <tbody>\n",
       "    <tr>\n",
       "      <th>C(group)</th>\n",
       "      <td>477.8</td>\n",
       "      <td>2.0</td>\n",
       "      <td>3.829207</td>\n",
       "      <td>0.034355</td>\n",
       "    </tr>\n",
       "    <tr>\n",
       "      <th>Residual</th>\n",
       "      <td>1684.5</td>\n",
       "      <td>27.0</td>\n",
       "      <td>NaN</td>\n",
       "      <td>NaN</td>\n",
       "    </tr>\n",
       "  </tbody>\n",
       "</table>\n",
       "</div>"
      ],
      "text/plain": [
       "          sum_sq    df         F    PR(>F)\n",
       "C(group)   477.8   2.0  3.829207  0.034355\n",
       "Residual  1684.5  27.0       NaN       NaN"
      ]
     },
     "execution_count": 16,
     "metadata": {},
     "output_type": "execute_result"
    }
   ],
   "source": [
    "aov_table_nature = sm.stats.anova_lm(results_nature, typ=2)\n",
    "aov_table_nature"
   ]
  },
  {
   "cell_type": "code",
   "execution_count": 17,
   "metadata": {},
   "outputs": [
    {
     "name": "stdout",
     "output_type": "stream",
     "text": [
      "Multiple Comparison of Means - Tukey HSD,FWER=0.05\n",
      "==============================================\n",
      "group1 group2 meandiff  lower    upper  reject\n",
      "----------------------------------------------\n",
      "  1      2      -3.8   -12.5566  4.9566 False \n",
      "  1      3      5.9    -2.8566  14.6566 False \n",
      "  2      3      9.7     0.9434  18.4566  True \n",
      "----------------------------------------------\n"
     ]
    }
   ],
   "source": [
    "mc_nature = MultiComparison(nature['effect'], nature['group'])\n",
    "mc_results_nature = mc_nature.tukeyhsd()\n",
    "print(mc_results_nature)"
   ]
  },
  {
   "cell_type": "markdown",
   "metadata": {},
   "source": [
    "#### BONFERRONI CORRECTION POST-HOC COMPARISON"
   ]
  },
  {
   "cell_type": "code",
   "execution_count": 18,
   "metadata": {},
   "outputs": [
    {
     "data": {
      "text/plain": [
       "0.016666666666666666"
      ]
     },
     "execution_count": 18,
     "metadata": {},
     "output_type": "execute_result"
    }
   ],
   "source": [
    "corrected_p_value = 0.05/3\n",
    "corrected_p_value"
   ]
  },
  {
   "cell_type": "code",
   "execution_count": 19,
   "metadata": {},
   "outputs": [
    {
     "data": {
      "text/plain": [
       "Ttest_indResult(statistic=1.1482977237361671, pvalue=0.26587783005821514)"
      ]
     },
     "execution_count": 19,
     "metadata": {},
     "output_type": "execute_result"
    }
   ],
   "source": [
    "stats.ttest_ind(nature['effect'][nature['group'] == 1], nature['effect'][nature['group'] == 2])"
   ]
  },
  {
   "cell_type": "code",
   "execution_count": 20,
   "metadata": {},
   "outputs": [
    {
     "data": {
      "text/plain": [
       "Ttest_indResult(statistic=-2.610626789374613, pvalue=0.017699268598044018)"
      ]
     },
     "execution_count": 20,
     "metadata": {},
     "output_type": "execute_result"
    }
   ],
   "source": [
    "stats.ttest_ind(nature['effect'][nature['group'] == 2], nature['effect'][nature['group'] == 3])"
   ]
  },
  {
   "cell_type": "code",
   "execution_count": 21,
   "metadata": {},
   "outputs": [
    {
     "data": {
      "text/plain": [
       "Ttest_indResult(statistic=-1.6571028959870016, pvalue=0.11482523414441241)"
      ]
     },
     "execution_count": 21,
     "metadata": {},
     "output_type": "execute_result"
    }
   ],
   "source": [
    "stats.ttest_ind(nature['effect'][nature['group'] == 1], nature['effect'][nature['group'] == 3])"
   ]
  },
  {
   "cell_type": "markdown",
   "metadata": {},
   "source": [
    "### ANOVA for Algo_Music"
   ]
  },
  {
   "cell_type": "code",
   "execution_count": 22,
   "metadata": {},
   "outputs": [],
   "source": [
    "input_for_anova_algomus = pd.DataFrame(data=input_for_anova[3:6,])\n",
    "input_for_anova_algomus = np.transpose(input_for_anova_algomus)\n",
    "anova_algomus = input_for_anova_algomus[0].append(input_for_anova_algomus[1]).append(input_for_anova_algomus[2]).reset_index(drop=True)\n",
    "algomus = pd.DataFrame(data={'effect': anova_algomus, 'group': group})"
   ]
  },
  {
   "cell_type": "code",
   "execution_count": 23,
   "metadata": {},
   "outputs": [
    {
     "data": {
      "text/html": [
       "<table class=\"simpletable\">\n",
       "<caption>OLS Regression Results</caption>\n",
       "<tr>\n",
       "  <th>Dep. Variable:</th>         <td>effect</td>      <th>  R-squared:         </th> <td>   0.007</td>\n",
       "</tr>\n",
       "<tr>\n",
       "  <th>Model:</th>                   <td>OLS</td>       <th>  Adj. R-squared:    </th> <td>  -0.066</td>\n",
       "</tr>\n",
       "<tr>\n",
       "  <th>Method:</th>             <td>Least Squares</td>  <th>  F-statistic:       </th> <td> 0.09590</td>\n",
       "</tr>\n",
       "<tr>\n",
       "  <th>Date:</th>             <td>Mon, 21 Oct 2019</td> <th>  Prob (F-statistic):</th>  <td> 0.909</td> \n",
       "</tr>\n",
       "<tr>\n",
       "  <th>Time:</th>                 <td>14:37:22</td>     <th>  Log-Likelihood:    </th> <td> -100.98</td>\n",
       "</tr>\n",
       "<tr>\n",
       "  <th>No. Observations:</th>      <td>    30</td>      <th>  AIC:               </th> <td>   208.0</td>\n",
       "</tr>\n",
       "<tr>\n",
       "  <th>Df Residuals:</th>          <td>    27</td>      <th>  BIC:               </th> <td>   212.2</td>\n",
       "</tr>\n",
       "<tr>\n",
       "  <th>Df Model:</th>              <td>     2</td>      <th>                     </th>     <td> </td>   \n",
       "</tr>\n",
       "<tr>\n",
       "  <th>Covariance Type:</th>      <td>nonrobust</td>    <th>                     </th>     <td> </td>   \n",
       "</tr>\n",
       "</table>\n",
       "<table class=\"simpletable\">\n",
       "<tr>\n",
       "        <td></td>           <th>coef</th>     <th>std err</th>      <th>t</th>      <th>P>|t|</th>  <th>[0.025</th>    <th>0.975]</th>  \n",
       "</tr>\n",
       "<tr>\n",
       "  <th>Intercept</th>     <td>   37.3000</td> <td>    2.336</td> <td>   15.967</td> <td> 0.000</td> <td>   32.507</td> <td>   42.093</td>\n",
       "</tr>\n",
       "<tr>\n",
       "  <th>C(group)[T.2]</th> <td>    0.1000</td> <td>    3.304</td> <td>    0.030</td> <td> 0.976</td> <td>   -6.679</td> <td>    6.879</td>\n",
       "</tr>\n",
       "<tr>\n",
       "  <th>C(group)[T.3]</th> <td>   -1.2000</td> <td>    3.304</td> <td>   -0.363</td> <td> 0.719</td> <td>   -7.979</td> <td>    5.579</td>\n",
       "</tr>\n",
       "</table>\n",
       "<table class=\"simpletable\">\n",
       "<tr>\n",
       "  <th>Omnibus:</th>       <td> 0.932</td> <th>  Durbin-Watson:     </th> <td>   1.687</td>\n",
       "</tr>\n",
       "<tr>\n",
       "  <th>Prob(Omnibus):</th> <td> 0.627</td> <th>  Jarque-Bera (JB):  </th> <td>   0.830</td>\n",
       "</tr>\n",
       "<tr>\n",
       "  <th>Skew:</th>          <td>-0.139</td> <th>  Prob(JB):          </th> <td>   0.660</td>\n",
       "</tr>\n",
       "<tr>\n",
       "  <th>Kurtosis:</th>      <td> 2.234</td> <th>  Cond. No.          </th> <td>    3.73</td>\n",
       "</tr>\n",
       "</table><br/><br/>Warnings:<br/>[1] Standard Errors assume that the covariance matrix of the errors is correctly specified."
      ],
      "text/plain": [
       "<class 'statsmodels.iolib.summary.Summary'>\n",
       "\"\"\"\n",
       "                            OLS Regression Results                            \n",
       "==============================================================================\n",
       "Dep. Variable:                 effect   R-squared:                       0.007\n",
       "Model:                            OLS   Adj. R-squared:                 -0.066\n",
       "Method:                 Least Squares   F-statistic:                   0.09590\n",
       "Date:                Mon, 21 Oct 2019   Prob (F-statistic):              0.909\n",
       "Time:                        14:37:22   Log-Likelihood:                -100.98\n",
       "No. Observations:                  30   AIC:                             208.0\n",
       "Df Residuals:                      27   BIC:                             212.2\n",
       "Df Model:                           2                                         \n",
       "Covariance Type:            nonrobust                                         \n",
       "=================================================================================\n",
       "                    coef    std err          t      P>|t|      [0.025      0.975]\n",
       "---------------------------------------------------------------------------------\n",
       "Intercept        37.3000      2.336     15.967      0.000      32.507      42.093\n",
       "C(group)[T.2]     0.1000      3.304      0.030      0.976      -6.679       6.879\n",
       "C(group)[T.3]    -1.2000      3.304     -0.363      0.719      -7.979       5.579\n",
       "==============================================================================\n",
       "Omnibus:                        0.932   Durbin-Watson:                   1.687\n",
       "Prob(Omnibus):                  0.627   Jarque-Bera (JB):                0.830\n",
       "Skew:                          -0.139   Prob(JB):                        0.660\n",
       "Kurtosis:                       2.234   Cond. No.                         3.73\n",
       "==============================================================================\n",
       "\n",
       "Warnings:\n",
       "[1] Standard Errors assume that the covariance matrix of the errors is correctly specified.\n",
       "\"\"\""
      ]
     },
     "execution_count": 23,
     "metadata": {},
     "output_type": "execute_result"
    }
   ],
   "source": [
    "results_algomus = ols('effect ~ C(group)', data=algomus).fit()\n",
    "results_algomus.summary()"
   ]
  },
  {
   "cell_type": "code",
   "execution_count": 24,
   "metadata": {},
   "outputs": [
    {
     "data": {
      "text/html": [
       "<div>\n",
       "<style scoped>\n",
       "    .dataframe tbody tr th:only-of-type {\n",
       "        vertical-align: middle;\n",
       "    }\n",
       "\n",
       "    .dataframe tbody tr th {\n",
       "        vertical-align: top;\n",
       "    }\n",
       "\n",
       "    .dataframe thead th {\n",
       "        text-align: right;\n",
       "    }\n",
       "</style>\n",
       "<table border=\"1\" class=\"dataframe\">\n",
       "  <thead>\n",
       "    <tr style=\"text-align: right;\">\n",
       "      <th></th>\n",
       "      <th>sum_sq</th>\n",
       "      <th>df</th>\n",
       "      <th>F</th>\n",
       "      <th>PR(&gt;F)</th>\n",
       "    </tr>\n",
       "  </thead>\n",
       "  <tbody>\n",
       "    <tr>\n",
       "      <th>C(group)</th>\n",
       "      <td>10.466667</td>\n",
       "      <td>2.0</td>\n",
       "      <td>0.095901</td>\n",
       "      <td>0.908862</td>\n",
       "    </tr>\n",
       "    <tr>\n",
       "      <th>Residual</th>\n",
       "      <td>1473.400000</td>\n",
       "      <td>27.0</td>\n",
       "      <td>NaN</td>\n",
       "      <td>NaN</td>\n",
       "    </tr>\n",
       "  </tbody>\n",
       "</table>\n",
       "</div>"
      ],
      "text/plain": [
       "               sum_sq    df         F    PR(>F)\n",
       "C(group)    10.466667   2.0  0.095901  0.908862\n",
       "Residual  1473.400000  27.0       NaN       NaN"
      ]
     },
     "execution_count": 24,
     "metadata": {},
     "output_type": "execute_result"
    }
   ],
   "source": [
    "aov_table_algomus = sm.stats.anova_lm(results_algomus, typ=2)\n",
    "aov_table_algomus"
   ]
  },
  {
   "cell_type": "code",
   "execution_count": 25,
   "metadata": {},
   "outputs": [
    {
     "name": "stdout",
     "output_type": "stream",
     "text": [
      "\n",
      "\n"
     ]
    },
    {
     "data": {
      "text/html": [
       "<div>\n",
       "<style scoped>\n",
       "    .dataframe tbody tr th:only-of-type {\n",
       "        vertical-align: middle;\n",
       "    }\n",
       "\n",
       "    .dataframe tbody tr th {\n",
       "        vertical-align: top;\n",
       "    }\n",
       "\n",
       "    .dataframe thead th {\n",
       "        text-align: right;\n",
       "    }\n",
       "</style>\n",
       "<table border=\"1\" class=\"dataframe\">\n",
       "  <thead>\n",
       "    <tr style=\"text-align: right;\">\n",
       "      <th></th>\n",
       "      <th>Variable</th>\n",
       "      <th>N</th>\n",
       "      <th>Mean</th>\n",
       "      <th>SD</th>\n",
       "      <th>SE</th>\n",
       "      <th>95% Conf.</th>\n",
       "      <th>Interval</th>\n",
       "    </tr>\n",
       "  </thead>\n",
       "  <tbody>\n",
       "    <tr>\n",
       "      <th>0</th>\n",
       "      <td>effect</td>\n",
       "      <td>30.0</td>\n",
       "      <td>36.933333</td>\n",
       "      <td>7.153168</td>\n",
       "      <td>1.305984</td>\n",
       "      <td>34.262296</td>\n",
       "      <td>39.60437</td>\n",
       "    </tr>\n",
       "  </tbody>\n",
       "</table>\n",
       "</div>"
      ],
      "text/plain": [
       "  Variable     N       Mean        SD        SE  95% Conf.  Interval\n",
       "0   effect  30.0  36.933333  7.153168  1.305984  34.262296  39.60437"
      ]
     },
     "execution_count": 25,
     "metadata": {},
     "output_type": "execute_result"
    }
   ],
   "source": [
    "rp.summary_cont(algomus['effect'])"
   ]
  },
  {
   "cell_type": "code",
   "execution_count": 26,
   "metadata": {},
   "outputs": [
    {
     "name": "stdout",
     "output_type": "stream",
     "text": [
      "\n",
      "\n"
     ]
    },
    {
     "data": {
      "text/html": [
       "<div>\n",
       "<style scoped>\n",
       "    .dataframe tbody tr th:only-of-type {\n",
       "        vertical-align: middle;\n",
       "    }\n",
       "\n",
       "    .dataframe tbody tr th {\n",
       "        vertical-align: top;\n",
       "    }\n",
       "\n",
       "    .dataframe thead th {\n",
       "        text-align: right;\n",
       "    }\n",
       "</style>\n",
       "<table border=\"1\" class=\"dataframe\">\n",
       "  <thead>\n",
       "    <tr style=\"text-align: right;\">\n",
       "      <th></th>\n",
       "      <th>N</th>\n",
       "      <th>Mean</th>\n",
       "      <th>SD</th>\n",
       "      <th>SE</th>\n",
       "      <th>95% Conf.</th>\n",
       "      <th>Interval</th>\n",
       "    </tr>\n",
       "    <tr>\n",
       "      <th>group</th>\n",
       "      <th></th>\n",
       "      <th></th>\n",
       "      <th></th>\n",
       "      <th></th>\n",
       "      <th></th>\n",
       "      <th></th>\n",
       "    </tr>\n",
       "  </thead>\n",
       "  <tbody>\n",
       "    <tr>\n",
       "      <th>1</th>\n",
       "      <td>10</td>\n",
       "      <td>37.3</td>\n",
       "      <td>6.961002</td>\n",
       "      <td>2.201262</td>\n",
       "      <td>32.752145</td>\n",
       "      <td>41.847855</td>\n",
       "    </tr>\n",
       "    <tr>\n",
       "      <th>2</th>\n",
       "      <td>10</td>\n",
       "      <td>37.4</td>\n",
       "      <td>7.904991</td>\n",
       "      <td>2.499778</td>\n",
       "      <td>32.235406</td>\n",
       "      <td>42.564594</td>\n",
       "    </tr>\n",
       "    <tr>\n",
       "      <th>3</th>\n",
       "      <td>10</td>\n",
       "      <td>36.1</td>\n",
       "      <td>7.264067</td>\n",
       "      <td>2.297100</td>\n",
       "      <td>31.354143</td>\n",
       "      <td>40.845857</td>\n",
       "    </tr>\n",
       "  </tbody>\n",
       "</table>\n",
       "</div>"
      ],
      "text/plain": [
       "        N  Mean        SD        SE  95% Conf.   Interval\n",
       "group                                                    \n",
       "1      10  37.3  6.961002  2.201262  32.752145  41.847855\n",
       "2      10  37.4  7.904991  2.499778  32.235406  42.564594\n",
       "3      10  36.1  7.264067  2.297100  31.354143  40.845857"
      ]
     },
     "execution_count": 26,
     "metadata": {},
     "output_type": "execute_result"
    }
   ],
   "source": [
    "rp.summary_cont(algomus['effect'].groupby(algomus['group']))"
   ]
  },
  {
   "cell_type": "code",
   "execution_count": 27,
   "metadata": {},
   "outputs": [
    {
     "name": "stdout",
     "output_type": "stream",
     "text": [
      "Multiple Comparison of Means - Tukey HSD,FWER=0.05\n",
      "============================================\n",
      "group1 group2 meandiff  lower  upper  reject\n",
      "--------------------------------------------\n",
      "  1      2      0.1    -8.0896 8.2896 False \n",
      "  1      3      -1.2   -9.3896 6.9896 False \n",
      "  2      3      -1.3   -9.4896 6.8896 False \n",
      "--------------------------------------------\n"
     ]
    }
   ],
   "source": [
    "mc_algomus = MultiComparison(algomus['effect'], algomus['group'])\n",
    "mc_results_algomus = mc_algomus.tukeyhsd()\n",
    "print(mc_results_algomus)"
   ]
  },
  {
   "cell_type": "markdown",
   "metadata": {
    "code_folding": []
   },
   "source": [
    "#### BONFERRONI CORRECTION POST-HOC COMPARISON"
   ]
  },
  {
   "cell_type": "code",
   "execution_count": 28,
   "metadata": {},
   "outputs": [
    {
     "data": {
      "text/plain": [
       "Ttest_indResult(statistic=-0.030022525344182635, pvalue=0.9763794696791193)"
      ]
     },
     "execution_count": 28,
     "metadata": {},
     "output_type": "execute_result"
    }
   ],
   "source": [
    "stats.ttest_ind(algomus['effect'][algomus['group'] == 1], algomus['effect'][algomus['group'] == 2])"
   ]
  },
  {
   "cell_type": "code",
   "execution_count": 29,
   "metadata": {},
   "outputs": [
    {
     "data": {
      "text/plain": [
       "Ttest_indResult(statistic=0.3829238511674655, pvalue=0.7062606774727599)"
      ]
     },
     "execution_count": 29,
     "metadata": {},
     "output_type": "execute_result"
    }
   ],
   "source": [
    "stats.ttest_ind(algomus['effect'][algomus['group'] == 2], algomus['effect'][algomus['group'] == 3])"
   ]
  },
  {
   "cell_type": "code",
   "execution_count": 30,
   "metadata": {},
   "outputs": [
    {
     "data": {
      "text/plain": [
       "Ttest_indResult(statistic=0.3771753589142821, pvalue=0.7104533421565324)"
      ]
     },
     "execution_count": 30,
     "metadata": {},
     "output_type": "execute_result"
    }
   ],
   "source": [
    "stats.ttest_ind(algomus['effect'][algomus['group'] == 1], algomus['effect'][algomus['group'] == 3])"
   ]
  },
  {
   "cell_type": "markdown",
   "metadata": {},
   "source": [
    "### ANOVA for Japan"
   ]
  },
  {
   "cell_type": "code",
   "execution_count": 31,
   "metadata": {},
   "outputs": [],
   "source": [
    "input_for_anova_japan = pd.DataFrame(data=input_for_anova[6:9,])\n",
    "input_for_anova_japan = np.transpose(input_for_anova_japan)\n",
    "anova_japan = input_for_anova_japan[0].append(input_for_anova_japan[1]).append(input_for_anova_japan[2]).reset_index(drop=True)\n",
    "japan = pd.DataFrame(data={'effect': anova_japan, 'group': group})"
   ]
  },
  {
   "cell_type": "code",
   "execution_count": 32,
   "metadata": {},
   "outputs": [
    {
     "data": {
      "text/html": [
       "<table class=\"simpletable\">\n",
       "<caption>OLS Regression Results</caption>\n",
       "<tr>\n",
       "  <th>Dep. Variable:</th>         <td>effect</td>      <th>  R-squared:         </th> <td>   0.025</td>\n",
       "</tr>\n",
       "<tr>\n",
       "  <th>Model:</th>                   <td>OLS</td>       <th>  Adj. R-squared:    </th> <td>  -0.047</td>\n",
       "</tr>\n",
       "<tr>\n",
       "  <th>Method:</th>             <td>Least Squares</td>  <th>  F-statistic:       </th> <td>  0.3484</td>\n",
       "</tr>\n",
       "<tr>\n",
       "  <th>Date:</th>             <td>Mon, 21 Oct 2019</td> <th>  Prob (F-statistic):</th>  <td> 0.709</td> \n",
       "</tr>\n",
       "<tr>\n",
       "  <th>Time:</th>                 <td>14:37:22</td>     <th>  Log-Likelihood:    </th> <td> -104.12</td>\n",
       "</tr>\n",
       "<tr>\n",
       "  <th>No. Observations:</th>      <td>    30</td>      <th>  AIC:               </th> <td>   214.2</td>\n",
       "</tr>\n",
       "<tr>\n",
       "  <th>Df Residuals:</th>          <td>    27</td>      <th>  BIC:               </th> <td>   218.4</td>\n",
       "</tr>\n",
       "<tr>\n",
       "  <th>Df Model:</th>              <td>     2</td>      <th>                     </th>     <td> </td>   \n",
       "</tr>\n",
       "<tr>\n",
       "  <th>Covariance Type:</th>      <td>nonrobust</td>    <th>                     </th>     <td> </td>   \n",
       "</tr>\n",
       "</table>\n",
       "<table class=\"simpletable\">\n",
       "<tr>\n",
       "        <td></td>           <th>coef</th>     <th>std err</th>      <th>t</th>      <th>P>|t|</th>  <th>[0.025</th>    <th>0.975]</th>  \n",
       "</tr>\n",
       "<tr>\n",
       "  <th>Intercept</th>     <td>   39.9000</td> <td>    2.594</td> <td>   15.385</td> <td> 0.000</td> <td>   34.579</td> <td>   45.221</td>\n",
       "</tr>\n",
       "<tr>\n",
       "  <th>C(group)[T.2]</th> <td>   -0.1000</td> <td>    3.668</td> <td>   -0.027</td> <td> 0.978</td> <td>   -7.626</td> <td>    7.426</td>\n",
       "</tr>\n",
       "<tr>\n",
       "  <th>C(group)[T.3]</th> <td>   -2.7000</td> <td>    3.668</td> <td>   -0.736</td> <td> 0.468</td> <td>  -10.226</td> <td>    4.826</td>\n",
       "</tr>\n",
       "</table>\n",
       "<table class=\"simpletable\">\n",
       "<tr>\n",
       "  <th>Omnibus:</th>       <td> 2.977</td> <th>  Durbin-Watson:     </th> <td>   2.054</td>\n",
       "</tr>\n",
       "<tr>\n",
       "  <th>Prob(Omnibus):</th> <td> 0.226</td> <th>  Jarque-Bera (JB):  </th> <td>   1.748</td>\n",
       "</tr>\n",
       "<tr>\n",
       "  <th>Skew:</th>          <td>-0.332</td> <th>  Prob(JB):          </th> <td>   0.417</td>\n",
       "</tr>\n",
       "<tr>\n",
       "  <th>Kurtosis:</th>      <td> 2.021</td> <th>  Cond. No.          </th> <td>    3.73</td>\n",
       "</tr>\n",
       "</table><br/><br/>Warnings:<br/>[1] Standard Errors assume that the covariance matrix of the errors is correctly specified."
      ],
      "text/plain": [
       "<class 'statsmodels.iolib.summary.Summary'>\n",
       "\"\"\"\n",
       "                            OLS Regression Results                            \n",
       "==============================================================================\n",
       "Dep. Variable:                 effect   R-squared:                       0.025\n",
       "Model:                            OLS   Adj. R-squared:                 -0.047\n",
       "Method:                 Least Squares   F-statistic:                    0.3484\n",
       "Date:                Mon, 21 Oct 2019   Prob (F-statistic):              0.709\n",
       "Time:                        14:37:22   Log-Likelihood:                -104.12\n",
       "No. Observations:                  30   AIC:                             214.2\n",
       "Df Residuals:                      27   BIC:                             218.4\n",
       "Df Model:                           2                                         \n",
       "Covariance Type:            nonrobust                                         \n",
       "=================================================================================\n",
       "                    coef    std err          t      P>|t|      [0.025      0.975]\n",
       "---------------------------------------------------------------------------------\n",
       "Intercept        39.9000      2.594     15.385      0.000      34.579      45.221\n",
       "C(group)[T.2]    -0.1000      3.668     -0.027      0.978      -7.626       7.426\n",
       "C(group)[T.3]    -2.7000      3.668     -0.736      0.468     -10.226       4.826\n",
       "==============================================================================\n",
       "Omnibus:                        2.977   Durbin-Watson:                   2.054\n",
       "Prob(Omnibus):                  0.226   Jarque-Bera (JB):                1.748\n",
       "Skew:                          -0.332   Prob(JB):                        0.417\n",
       "Kurtosis:                       2.021   Cond. No.                         3.73\n",
       "==============================================================================\n",
       "\n",
       "Warnings:\n",
       "[1] Standard Errors assume that the covariance matrix of the errors is correctly specified.\n",
       "\"\"\""
      ]
     },
     "execution_count": 32,
     "metadata": {},
     "output_type": "execute_result"
    }
   ],
   "source": [
    "results_japan = ols('effect ~ C(group)', data=japan).fit()\n",
    "results_japan.summary()"
   ]
  },
  {
   "cell_type": "code",
   "execution_count": 33,
   "metadata": {},
   "outputs": [
    {
     "data": {
      "text/html": [
       "<div>\n",
       "<style scoped>\n",
       "    .dataframe tbody tr th:only-of-type {\n",
       "        vertical-align: middle;\n",
       "    }\n",
       "\n",
       "    .dataframe tbody tr th {\n",
       "        vertical-align: top;\n",
       "    }\n",
       "\n",
       "    .dataframe thead th {\n",
       "        text-align: right;\n",
       "    }\n",
       "</style>\n",
       "<table border=\"1\" class=\"dataframe\">\n",
       "  <thead>\n",
       "    <tr style=\"text-align: right;\">\n",
       "      <th></th>\n",
       "      <th>sum_sq</th>\n",
       "      <th>df</th>\n",
       "      <th>F</th>\n",
       "      <th>PR(&gt;F)</th>\n",
       "    </tr>\n",
       "  </thead>\n",
       "  <tbody>\n",
       "    <tr>\n",
       "      <th>C(group)</th>\n",
       "      <td>46.866667</td>\n",
       "      <td>2.0</td>\n",
       "      <td>0.348384</td>\n",
       "      <td>0.708954</td>\n",
       "    </tr>\n",
       "    <tr>\n",
       "      <th>Residual</th>\n",
       "      <td>1816.100000</td>\n",
       "      <td>27.0</td>\n",
       "      <td>NaN</td>\n",
       "      <td>NaN</td>\n",
       "    </tr>\n",
       "  </tbody>\n",
       "</table>\n",
       "</div>"
      ],
      "text/plain": [
       "               sum_sq    df         F    PR(>F)\n",
       "C(group)    46.866667   2.0  0.348384  0.708954\n",
       "Residual  1816.100000  27.0       NaN       NaN"
      ]
     },
     "execution_count": 33,
     "metadata": {},
     "output_type": "execute_result"
    }
   ],
   "source": [
    "aov_table_japan = sm.stats.anova_lm(results_japan, typ=2)\n",
    "aov_table_japan"
   ]
  },
  {
   "cell_type": "code",
   "execution_count": 34,
   "metadata": {},
   "outputs": [
    {
     "name": "stdout",
     "output_type": "stream",
     "text": [
      "\n",
      "\n"
     ]
    },
    {
     "data": {
      "text/html": [
       "<div>\n",
       "<style scoped>\n",
       "    .dataframe tbody tr th:only-of-type {\n",
       "        vertical-align: middle;\n",
       "    }\n",
       "\n",
       "    .dataframe tbody tr th {\n",
       "        vertical-align: top;\n",
       "    }\n",
       "\n",
       "    .dataframe thead th {\n",
       "        text-align: right;\n",
       "    }\n",
       "</style>\n",
       "<table border=\"1\" class=\"dataframe\">\n",
       "  <thead>\n",
       "    <tr style=\"text-align: right;\">\n",
       "      <th></th>\n",
       "      <th>Variable</th>\n",
       "      <th>N</th>\n",
       "      <th>Mean</th>\n",
       "      <th>SD</th>\n",
       "      <th>SE</th>\n",
       "      <th>95% Conf.</th>\n",
       "      <th>Interval</th>\n",
       "    </tr>\n",
       "  </thead>\n",
       "  <tbody>\n",
       "    <tr>\n",
       "      <th>0</th>\n",
       "      <td>effect</td>\n",
       "      <td>30.0</td>\n",
       "      <td>38.966667</td>\n",
       "      <td>8.015</td>\n",
       "      <td>1.463332</td>\n",
       "      <td>35.973816</td>\n",
       "      <td>41.959517</td>\n",
       "    </tr>\n",
       "  </tbody>\n",
       "</table>\n",
       "</div>"
      ],
      "text/plain": [
       "  Variable     N       Mean     SD        SE  95% Conf.   Interval\n",
       "0   effect  30.0  38.966667  8.015  1.463332  35.973816  41.959517"
      ]
     },
     "execution_count": 34,
     "metadata": {},
     "output_type": "execute_result"
    }
   ],
   "source": [
    "rp.summary_cont(japan['effect'])"
   ]
  },
  {
   "cell_type": "code",
   "execution_count": 35,
   "metadata": {},
   "outputs": [
    {
     "name": "stdout",
     "output_type": "stream",
     "text": [
      "\n",
      "\n"
     ]
    },
    {
     "data": {
      "text/html": [
       "<div>\n",
       "<style scoped>\n",
       "    .dataframe tbody tr th:only-of-type {\n",
       "        vertical-align: middle;\n",
       "    }\n",
       "\n",
       "    .dataframe tbody tr th {\n",
       "        vertical-align: top;\n",
       "    }\n",
       "\n",
       "    .dataframe thead th {\n",
       "        text-align: right;\n",
       "    }\n",
       "</style>\n",
       "<table border=\"1\" class=\"dataframe\">\n",
       "  <thead>\n",
       "    <tr style=\"text-align: right;\">\n",
       "      <th></th>\n",
       "      <th>N</th>\n",
       "      <th>Mean</th>\n",
       "      <th>SD</th>\n",
       "      <th>SE</th>\n",
       "      <th>95% Conf.</th>\n",
       "      <th>Interval</th>\n",
       "    </tr>\n",
       "    <tr>\n",
       "      <th>group</th>\n",
       "      <th></th>\n",
       "      <th></th>\n",
       "      <th></th>\n",
       "      <th></th>\n",
       "      <th></th>\n",
       "      <th></th>\n",
       "    </tr>\n",
       "  </thead>\n",
       "  <tbody>\n",
       "    <tr>\n",
       "      <th>1</th>\n",
       "      <td>10</td>\n",
       "      <td>39.9</td>\n",
       "      <td>8.279157</td>\n",
       "      <td>2.618099</td>\n",
       "      <td>34.490951</td>\n",
       "      <td>45.309049</td>\n",
       "    </tr>\n",
       "    <tr>\n",
       "      <th>2</th>\n",
       "      <td>10</td>\n",
       "      <td>39.8</td>\n",
       "      <td>9.461031</td>\n",
       "      <td>2.991841</td>\n",
       "      <td>33.618793</td>\n",
       "      <td>45.981207</td>\n",
       "    </tr>\n",
       "    <tr>\n",
       "      <th>3</th>\n",
       "      <td>10</td>\n",
       "      <td>37.2</td>\n",
       "      <td>6.613118</td>\n",
       "      <td>2.091252</td>\n",
       "      <td>32.879429</td>\n",
       "      <td>41.520571</td>\n",
       "    </tr>\n",
       "  </tbody>\n",
       "</table>\n",
       "</div>"
      ],
      "text/plain": [
       "        N  Mean        SD        SE  95% Conf.   Interval\n",
       "group                                                    \n",
       "1      10  39.9  8.279157  2.618099  34.490951  45.309049\n",
       "2      10  39.8  9.461031  2.991841  33.618793  45.981207\n",
       "3      10  37.2  6.613118  2.091252  32.879429  41.520571"
      ]
     },
     "execution_count": 35,
     "metadata": {},
     "output_type": "execute_result"
    }
   ],
   "source": [
    "rp.summary_cont(japan['effect'].groupby(japan['group']))"
   ]
  },
  {
   "cell_type": "code",
   "execution_count": 36,
   "metadata": {},
   "outputs": [
    {
     "name": "stdout",
     "output_type": "stream",
     "text": [
      "Multiple Comparison of Means - Tukey HSD,FWER=0.05\n",
      "=============================================\n",
      "group1 group2 meandiff  lower   upper  reject\n",
      "---------------------------------------------\n",
      "  1      2      -0.1   -9.1923  8.9923 False \n",
      "  1      3      -2.7   -11.7923 6.3923 False \n",
      "  2      3      -2.6   -11.6923 6.4923 False \n",
      "---------------------------------------------\n"
     ]
    }
   ],
   "source": [
    "mc_japan = MultiComparison(japan['effect'], japan['group'])\n",
    "mc_results_japan = mc_japan.tukeyhsd()\n",
    "print(mc_results_japan)"
   ]
  },
  {
   "cell_type": "markdown",
   "metadata": {},
   "source": [
    "#### BONFERRONI CORRECTION POST-HOC COMPARISON"
   ]
  },
  {
   "cell_type": "code",
   "execution_count": 37,
   "metadata": {},
   "outputs": [
    {
     "data": {
      "text/plain": [
       "Ttest_indResult(statistic=0.02515330848901947, pvalue=0.9802094408252287)"
      ]
     },
     "execution_count": 37,
     "metadata": {},
     "output_type": "execute_result"
    }
   ],
   "source": [
    "stats.ttest_ind(japan['effect'][japan['group'] == 1], japan['effect'][japan['group'] == 2])"
   ]
  },
  {
   "cell_type": "code",
   "execution_count": 38,
   "metadata": {},
   "outputs": [
    {
     "data": {
      "text/plain": [
       "Ttest_indResult(statistic=0.7122767899374889, pvalue=0.4854243342346394)"
      ]
     },
     "execution_count": 38,
     "metadata": {},
     "output_type": "execute_result"
    }
   ],
   "source": [
    "stats.ttest_ind(japan['effect'][japan['group'] == 2], japan['effect'][japan['group'] == 3])"
   ]
  },
  {
   "cell_type": "code",
   "execution_count": 39,
   "metadata": {},
   "outputs": [
    {
     "data": {
      "text/plain": [
       "Ttest_indResult(statistic=0.8057806980806286, pvalue=0.43088626012911846)"
      ]
     },
     "execution_count": 39,
     "metadata": {},
     "output_type": "execute_result"
    }
   ],
   "source": [
    "stats.ttest_ind(japan['effect'][japan['group'] == 1], japan['effect'][japan['group'] == 3])"
   ]
  },
  {
   "cell_type": "code",
   "execution_count": null,
   "metadata": {},
   "outputs": [],
   "source": []
  }
 ],
 "metadata": {
  "kernelspec": {
   "display_name": "Python 3",
   "language": "python",
   "name": "python3"
  },
  "language_info": {
   "codemirror_mode": {
    "name": "ipython",
    "version": 3
   },
   "file_extension": ".py",
   "mimetype": "text/x-python",
   "name": "python",
   "nbconvert_exporter": "python",
   "pygments_lexer": "ipython3",
   "version": "3.7.3"
  },
  "toc": {
   "base_numbering": 1,
   "nav_menu": {},
   "number_sections": true,
   "sideBar": true,
   "skip_h1_title": false,
   "title_cell": "Table of Contents",
   "title_sidebar": "Contents",
   "toc_cell": false,
   "toc_position": {
    "height": "calc(100% - 180px)",
    "left": "10px",
    "top": "150px",
    "width": "165px"
   },
   "toc_section_display": true,
   "toc_window_display": true
  },
  "varInspector": {
   "cols": {
    "lenName": 16,
    "lenType": 16,
    "lenVar": 40
   },
   "kernels_config": {
    "python": {
     "delete_cmd_postfix": "",
     "delete_cmd_prefix": "del ",
     "library": "var_list.py",
     "varRefreshCmd": "print(var_dic_list())"
    },
    "r": {
     "delete_cmd_postfix": ") ",
     "delete_cmd_prefix": "rm(",
     "library": "var_list.r",
     "varRefreshCmd": "cat(var_dic_list()) "
    }
   },
   "types_to_exclude": [
    "module",
    "function",
    "builtin_function_or_method",
    "instance",
    "_Feature"
   ],
   "window_display": false
  }
 },
 "nbformat": 4,
 "nbformat_minor": 2
}
