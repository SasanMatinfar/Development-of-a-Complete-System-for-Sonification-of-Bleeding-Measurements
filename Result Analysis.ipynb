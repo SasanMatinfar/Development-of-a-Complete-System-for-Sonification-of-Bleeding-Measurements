{
 "cells": [
  {
   "cell_type": "markdown",
   "metadata": {},
   "source": [
    "## Imports & Load Data"
   ]
  },
  {
   "cell_type": "code",
   "execution_count": null,
   "metadata": {},
   "outputs": [],
   "source": [
    "import pandas as pd\n",
    "import numpy as np\n",
    "import statsmodels.api as sm\n",
    "import statsmodels.formula.api as smf\n",
    "from statsmodels.formula.api import ols\n",
    "import scipy.stats as stats\n",
    "import researchpy as rp\n",
    "import matplotlib.pyplot as plt\n",
    "from statsmodels.stats.multicomp import pairwise_tukeyhsd\n",
    "from statsmodels.stats.multicomp import MultiComparison"
   ]
  },
  {
   "cell_type": "code",
   "execution_count": null,
   "metadata": {},
   "outputs": [],
   "source": [
    "df = pd.read_csv('step0_results.csv', na_values=['no info', '.'], delimiter=',')"
   ]
  },
  {
   "cell_type": "markdown",
   "metadata": {},
   "source": [
    "## Prepare Table for Statistical Analysis"
   ]
  },
  {
   "cell_type": "code",
   "execution_count": null,
   "metadata": {},
   "outputs": [],
   "source": [
    "new_columns = ['date']\n",
    "\n",
    "for i in range(1, 10):\n",
    "    for j in range(1, 13):\n",
    "        new_columns.append(str(i)+str(j))\n",
    "\n",
    "new_columns.append('feedback')\n",
    "df.columns = new_columns\n",
    "df.drop(['date', 'feedback'], axis=1, inplace=True)"
   ]
  },
  {
   "cell_type": "code",
   "execution_count": null,
   "metadata": {},
   "outputs": [],
   "source": [
    "df.replace('Strongly disagree', 1, inplace=True)\n",
    "df.replace('Disagree', 2, inplace=True)\n",
    "df.replace('Neutral', 3, inplace=True)\n",
    "df.replace('Agree', 4, inplace=True)\n",
    "df.replace('Strongly Agree', 5, inplace=True)\n",
    "\n",
    "df.replace('< 5 min', 1, inplace=True)\n",
    "df.replace('5 - 15 min', 2, inplace=True)\n",
    "df.replace('15 - 30 min', 3, inplace=True)\n",
    "df.replace('30 - 60 min', 4, inplace=True)\n",
    "df.replace('> 60 min', 5, inplace=True)"
   ]
  },
  {
   "cell_type": "code",
   "execution_count": null,
   "metadata": {},
   "outputs": [],
   "source": [
    "# multiplication of values with 1 or -1 depending on the question effect\n",
    "for column in df:\n",
    "    r = int(column)%10\n",
    "    if r == 7 or r == 8 or r == 9 or r == 0:\n",
    "        #df[column] = df[column]*(-1) # for having negative effect of question\n",
    "        df[column] = 6 - df[column]"
   ]
  },
  {
   "cell_type": "code",
   "execution_count": null,
   "metadata": {},
   "outputs": [],
   "source": [
    "#df"
   ]
  },
  {
   "cell_type": "markdown",
   "metadata": {},
   "source": [
    "## Sum Points Over Questions"
   ]
  },
  {
   "cell_type": "code",
   "execution_count": null,
   "metadata": {},
   "outputs": [],
   "source": [
    "sumOverAll = np.nan\n",
    "sumOverAll = df.sum(axis = 0)\n",
    "#sumOverAll"
   ]
  },
  {
   "cell_type": "code",
   "execution_count": null,
   "metadata": {},
   "outputs": [],
   "source": [
    "sum_over_q = np.empty([1,9], dtype=int)\n",
    "\n",
    "for i in range(9):\n",
    "    sum_over_q[0,i] = sumOverAll[i*12:(i*12)+12].sum(axis=0)"
   ]
  },
  {
   "cell_type": "code",
   "execution_count": null,
   "metadata": {},
   "outputs": [],
   "source": [
    "sum_over_questions_per_son = pd.DataFrame(sum_over_q, columns=['1', '2', '3', '4', '5', '6', '7', '8', '9'])\n",
    "sum_over_questions_per_son"
   ]
  },
  {
   "cell_type": "code",
   "execution_count": null,
   "metadata": {},
   "outputs": [],
   "source": [
    "qs = np.empty([1,len(df.columns)], dtype=int)\n",
    "\n",
    "for i in range(len(df.columns)):\n",
    "    qs[:,i] = df.iloc[:,i].sum()\n",
    "qs"
   ]
  },
  {
   "cell_type": "markdown",
   "metadata": {},
   "source": [
    "## ANOVA"
   ]
  },
  {
   "cell_type": "code",
   "execution_count": null,
   "metadata": {},
   "outputs": [],
   "source": [
    "input_for_anova = np.empty([9, 10], dtype=int)\n",
    "\n",
    "for i in range(9):\n",
    "    for j in range(10):\n",
    "        input_for_anova[i, j] = df.iloc[j, i*12:(i*12)+12].sum(axis=0)\n",
    "\n",
    "ones = [1,1,1,1,1,1,1,1,1,1]\n",
    "twos = [2,2,2,2,2,2,2,2,2,2]\n",
    "threes = [3,3,3,3,3,3,3,3,3,3]\n",
    "group = np.concatenate((np.asarray(ones), np.asarray(twos), np.asarray(threes)), axis=0)\n",
    "\n",
    "input_for_anova"
   ]
  },
  {
   "cell_type": "markdown",
   "metadata": {},
   "source": [
    "### ANOVA for Nature"
   ]
  },
  {
   "cell_type": "code",
   "execution_count": null,
   "metadata": {},
   "outputs": [],
   "source": [
    "input_for_anova_nature = pd.DataFrame(data=input_for_anova[0:3,])\n",
    "input_for_anova_nature = np.transpose(input_for_anova_nature)\n",
    "anova_nature = input_for_anova_nature[0].append(input_for_anova_nature[1]).append(input_for_anova_nature[2]).reset_index(drop=True)\n",
    "nature = pd.DataFrame(data={'effect': anova_nature, 'group': group})"
   ]
  },
  {
   "cell_type": "code",
   "execution_count": null,
   "metadata": {},
   "outputs": [],
   "source": [
    "results_nature = ols('effect ~ C(group)', data=nature).fit()\n",
    "results_nature.summary()"
   ]
  },
  {
   "cell_type": "code",
   "execution_count": null,
   "metadata": {},
   "outputs": [],
   "source": [
    "rp.summary_cont(nature['effect'])"
   ]
  },
  {
   "cell_type": "code",
   "execution_count": null,
   "metadata": {},
   "outputs": [],
   "source": [
    "rp.summary_cont(nature['effect'].groupby(nature['group']))"
   ]
  },
  {
   "cell_type": "code",
   "execution_count": null,
   "metadata": {},
   "outputs": [],
   "source": [
    "aov_table_nature = sm.stats.anova_lm(results_nature, typ=2)\n",
    "aov_table_nature"
   ]
  },
  {
   "cell_type": "code",
   "execution_count": null,
   "metadata": {},
   "outputs": [],
   "source": [
    "mc_nature = MultiComparison(nature['effect'], nature['group'])\n",
    "mc_results_nature = mc_nature.tukeyhsd()\n",
    "print(mc_results_nature)"
   ]
  },
  {
   "cell_type": "markdown",
   "metadata": {},
   "source": [
    "#### BONFERRONI CORRECTION POST-HOC COMPARISON"
   ]
  },
  {
   "cell_type": "code",
   "execution_count": null,
   "metadata": {},
   "outputs": [],
   "source": [
    "corrected_p_value = 0.05/3\n",
    "corrected_p_value"
   ]
  },
  {
   "cell_type": "code",
   "execution_count": null,
   "metadata": {},
   "outputs": [],
   "source": [
    "stats.ttest_ind(nature['effect'][nature['group'] == 1], nature['effect'][nature['group'] == 2])"
   ]
  },
  {
   "cell_type": "code",
   "execution_count": null,
   "metadata": {},
   "outputs": [],
   "source": [
    "stats.ttest_ind(nature['effect'][nature['group'] == 2], nature['effect'][nature['group'] == 3])"
   ]
  },
  {
   "cell_type": "code",
   "execution_count": null,
   "metadata": {},
   "outputs": [],
   "source": [
    "stats.ttest_ind(nature['effect'][nature['group'] == 1], nature['effect'][nature['group'] == 3])"
   ]
  },
  {
   "cell_type": "markdown",
   "metadata": {},
   "source": [
    "### ANOVA for Algo_Music"
   ]
  },
  {
   "cell_type": "code",
   "execution_count": null,
   "metadata": {},
   "outputs": [],
   "source": [
    "input_for_anova_algomus = pd.DataFrame(data=input_for_anova[3:6,])\n",
    "input_for_anova_algomus = np.transpose(input_for_anova_algomus)\n",
    "anova_algomus = input_for_anova_algomus[0].append(input_for_anova_algomus[1]).append(input_for_anova_algomus[2]).reset_index(drop=True)\n",
    "algomus = pd.DataFrame(data={'effect': anova_algomus, 'group': group})"
   ]
  },
  {
   "cell_type": "code",
   "execution_count": null,
   "metadata": {},
   "outputs": [],
   "source": [
    "results_algomus = ols('effect ~ C(group)', data=algomus).fit()\n",
    "results_algomus.summary()"
   ]
  },
  {
   "cell_type": "code",
   "execution_count": null,
   "metadata": {},
   "outputs": [],
   "source": [
    "aov_table_algomus = sm.stats.anova_lm(results_algomus, typ=2)\n",
    "aov_table_algomus"
   ]
  },
  {
   "cell_type": "code",
   "execution_count": null,
   "metadata": {},
   "outputs": [],
   "source": [
    "rp.summary_cont(algomus['effect'])"
   ]
  },
  {
   "cell_type": "code",
   "execution_count": null,
   "metadata": {},
   "outputs": [],
   "source": [
    "rp.summary_cont(algomus['effect'].groupby(algomus['group']))"
   ]
  },
  {
   "cell_type": "code",
   "execution_count": null,
   "metadata": {},
   "outputs": [],
   "source": [
    "mc_algomus = MultiComparison(algomus['effect'], algomus['group'])\n",
    "mc_results_algomus = mc_algomus.tukeyhsd()\n",
    "print(mc_results_algomus)"
   ]
  },
  {
   "cell_type": "markdown",
   "metadata": {
    "code_folding": []
   },
   "source": [
    "#### BONFERRONI CORRECTION POST-HOC COMPARISON"
   ]
  },
  {
   "cell_type": "code",
   "execution_count": null,
   "metadata": {},
   "outputs": [],
   "source": [
    "stats.ttest_ind(algomus['effect'][algomus['group'] == 1], algomus['effect'][algomus['group'] == 2])"
   ]
  },
  {
   "cell_type": "code",
   "execution_count": null,
   "metadata": {},
   "outputs": [],
   "source": [
    "stats.ttest_ind(algomus['effect'][algomus['group'] == 2], algomus['effect'][algomus['group'] == 3])"
   ]
  },
  {
   "cell_type": "code",
   "execution_count": null,
   "metadata": {},
   "outputs": [],
   "source": [
    "stats.ttest_ind(algomus['effect'][algomus['group'] == 1], algomus['effect'][algomus['group'] == 3])"
   ]
  },
  {
   "cell_type": "markdown",
   "metadata": {},
   "source": [
    "### ANOVA for Japan"
   ]
  },
  {
   "cell_type": "code",
   "execution_count": null,
   "metadata": {},
   "outputs": [],
   "source": [
    "input_for_anova_japan = pd.DataFrame(data=input_for_anova[6:9,])\n",
    "input_for_anova_japan = np.transpose(input_for_anova_japan)\n",
    "anova_japan = input_for_anova_japan[0].append(input_for_anova_japan[1]).append(input_for_anova_japan[2]).reset_index(drop=True)\n",
    "japan = pd.DataFrame(data={'effect': anova_japan, 'group': group})"
   ]
  },
  {
   "cell_type": "code",
   "execution_count": null,
   "metadata": {},
   "outputs": [],
   "source": [
    "results_japan = ols('effect ~ C(group)', data=japan).fit()\n",
    "results_japan.summary()"
   ]
  },
  {
   "cell_type": "code",
   "execution_count": null,
   "metadata": {},
   "outputs": [],
   "source": [
    "aov_table_japan = sm.stats.anova_lm(results_japan, typ=2)\n",
    "aov_table_japan"
   ]
  },
  {
   "cell_type": "code",
   "execution_count": null,
   "metadata": {},
   "outputs": [],
   "source": [
    "rp.summary_cont(japan['effect'])"
   ]
  },
  {
   "cell_type": "code",
   "execution_count": null,
   "metadata": {},
   "outputs": [],
   "source": [
    "rp.summary_cont(japan['effect'].groupby(japan['group']))"
   ]
  },
  {
   "cell_type": "code",
   "execution_count": null,
   "metadata": {},
   "outputs": [],
   "source": [
    "mc_japan = MultiComparison(japan['effect'], japan['group'])\n",
    "mc_results_japan = mc_japan.tukeyhsd()\n",
    "print(mc_results_japan)"
   ]
  },
  {
   "cell_type": "markdown",
   "metadata": {},
   "source": [
    "#### BONFERRONI CORRECTION POST-HOC COMPARISON"
   ]
  },
  {
   "cell_type": "code",
   "execution_count": null,
   "metadata": {},
   "outputs": [],
   "source": [
    "stats.ttest_ind(japan['effect'][japan['group'] == 1], japan['effect'][japan['group'] == 2])"
   ]
  },
  {
   "cell_type": "code",
   "execution_count": null,
   "metadata": {},
   "outputs": [],
   "source": [
    "stats.ttest_ind(japan['effect'][japan['group'] == 2], japan['effect'][japan['group'] == 3])"
   ]
  },
  {
   "cell_type": "code",
   "execution_count": null,
   "metadata": {},
   "outputs": [],
   "source": [
    "stats.ttest_ind(japan['effect'][japan['group'] == 1], japan['effect'][japan['group'] == 3])"
   ]
  },
  {
   "cell_type": "code",
   "execution_count": null,
   "metadata": {},
   "outputs": [],
   "source": []
  }
 ],
 "metadata": {
  "kernelspec": {
   "display_name": "Python 3",
   "language": "python",
   "name": "python3"
  },
  "language_info": {
   "codemirror_mode": {
    "name": "ipython",
    "version": 3
   },
   "file_extension": ".py",
   "mimetype": "text/x-python",
   "name": "python",
   "nbconvert_exporter": "python",
   "pygments_lexer": "ipython3",
   "version": "3.7.3"
  },
  "toc": {
   "base_numbering": 1,
   "nav_menu": {},
   "number_sections": true,
   "sideBar": true,
   "skip_h1_title": false,
   "title_cell": "Table of Contents",
   "title_sidebar": "Contents",
   "toc_cell": false,
   "toc_position": {
    "height": "calc(100% - 180px)",
    "left": "10px",
    "top": "150px",
    "width": "165px"
   },
   "toc_section_display": true,
   "toc_window_display": true
  },
  "varInspector": {
   "cols": {
    "lenName": 16,
    "lenType": 16,
    "lenVar": 40
   },
   "kernels_config": {
    "python": {
     "delete_cmd_postfix": "",
     "delete_cmd_prefix": "del ",
     "library": "var_list.py",
     "varRefreshCmd": "print(var_dic_list())"
    },
    "r": {
     "delete_cmd_postfix": ") ",
     "delete_cmd_prefix": "rm(",
     "library": "var_list.r",
     "varRefreshCmd": "cat(var_dic_list()) "
    }
   },
   "types_to_exclude": [
    "module",
    "function",
    "builtin_function_or_method",
    "instance",
    "_Feature"
   ],
   "window_display": false
  }
 },
 "nbformat": 4,
 "nbformat_minor": 2
}
