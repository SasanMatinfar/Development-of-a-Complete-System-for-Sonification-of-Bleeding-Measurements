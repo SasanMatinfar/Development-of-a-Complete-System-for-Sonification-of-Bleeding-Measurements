{
 "cells": [
  {
   "cell_type": "markdown",
   "metadata": {},
   "source": [
    "# Sonification of Bleeding with Bank of Filters"
   ]
  },
  {
   "cell_type": "markdown",
   "metadata": {},
   "source": [
    "First Meeting (2019-06-11, Sasan and Thomas) @CITEC, TH proposed Filter-bank for feature generation\n",
    "* The idea is to use a bank of different low-pass filters to create increasingly smooth signals\n",
    "* these filtered signals serve as source for identifying key moments to anchor sound events\n",
    "* which then create a multiscale data-driven complex grain structure of the raw instantaneous bleeding data.\n",
    "* note that the limit of filtering with a cutoff-frequency towards 0 yields the integrated signal."
   ]
  },
  {
   "cell_type": "markdown",
   "metadata": {},
   "source": [
    "## Imports"
   ]
  },
  {
   "cell_type": "code",
   "execution_count": null,
   "metadata": {},
   "outputs": [],
   "source": [
    "from scipy import signal\n",
    "import numpy as np\n",
    "import scipy.interpolate\n",
    "import pandas as pd\n",
    "import matplotlib\n",
    "import matplotlib.pyplot as plt \n",
    "import copy"
   ]
  },
  {
   "cell_type": "code",
   "execution_count": null,
   "metadata": {},
   "outputs": [],
   "source": [
    "# %matplotlib inline"
   ]
  },
  {
   "cell_type": "markdown",
   "metadata": {},
   "source": [
    "## Load Data and Create Filter-Bank Signals"
   ]
  },
  {
   "cell_type": "code",
   "execution_count": null,
   "metadata": {},
   "outputs": [],
   "source": [
    "df = pd.read_csv('log_refactored_correction_factor.csv', na_values=['no info', '.'], delimiter=',')\n",
    "df_indexed = df.reset_index(drop=False)\n",
    "index = df_indexed['index']\n",
    "delta = df_indexed['Delta']\n",
    "volume = df_indexed['Blood Accumulated']\n",
    "\n",
    "delta_min = delta.min()\n",
    "delta_max = delta.max()\n",
    "\n",
    "volume_min = volume.min()\n",
    "volume_max = volume.max()\n",
    "\n",
    "print(\"dataset loaded:\")\n",
    "print(f\"  delta:   min={delta_min:8}, max={delta_max:8.3}\")\n",
    "print(f\"  volume:  min={volume_min:8}, max={volume_max:8}\")"
   ]
  },
  {
   "cell_type": "code",
   "execution_count": null,
   "metadata": {},
   "outputs": [],
   "source": [
    "dfn = scipy.interpolate.interp1d(index, delta) #'previous')\n",
    "delta_resampled = dfn(np.linspace(0, len(index)-1, len(index)*20))\n",
    "#plt.plot(delta_resampled, \"r.-\")"
   ]
  },
  {
   "cell_type": "code",
   "execution_count": null,
   "metadata": {
    "scrolled": false
   },
   "outputs": [],
   "source": [
    "srcsig = delta_resampled\n",
    "N = srcsig.shape[0]\n",
    "NF = 15  # number of filters to use\n",
    "sr = 20\n",
    "dsf = np.zeros((N, NF))\n",
    "cfs = np.array(1+np.arange(NF))/(3*NF)  # To do: experiment with exponentially tuned filter frequencies\n",
    "order = 1 # 2... create oscillations into negative...\n",
    "\n",
    "for i, cf in enumerate(cfs):\n",
    "    b, a = signal.butter(order, cf, fs=sr)\n",
    "    zi = signal.lfilter_zi(b, a)\n",
    "    z, _ = signal.lfilter(b, a, srcsig, zi = zi*delta[0])\n",
    "    dsf[:, i] = copy.copy(z)\n",
    "\n",
    "# plot the data\n",
    "#fig = plt.figure(figsize=(15,4))\n",
    "plt.plot(srcsig, 'k.-', lw=0.2)\n",
    "plt.plot(dsf, color='r', lw=0.3);\n",
    "plt.ylim(-0.2,5); \n",
    "#plt.xlim(0,60*sr); \n",
    "plt.grid()"
   ]
  },
  {
   "cell_type": "code",
   "execution_count": null,
   "metadata": {},
   "outputs": [],
   "source": [
    "# plt.hist(srcsig, 80)\n",
    "# plt.semilogy()"
   ]
  },
  {
   "cell_type": "markdown",
   "metadata": {},
   "source": [
    "## Event-based Sonification of filtered data (min/max/threshold cut-throughs...)"
   ]
  },
  {
   "cell_type": "code",
   "execution_count": null,
   "metadata": {
    "scrolled": true
   },
   "outputs": [],
   "source": [
    "import sc3nb as scn\n",
    "import time\n",
    "sc = scn.startup()"
   ]
  },
  {
   "cell_type": "code",
   "execution_count": null,
   "metadata": {},
   "outputs": [],
   "source": [
    "# %sc FreqScope(400, 300)"
   ]
  },
  {
   "cell_type": "code",
   "execution_count": null,
   "metadata": {},
   "outputs": [],
   "source": [
    "%%sc\n",
    "~out = 0;\n",
    "~delta = 0; ~volume = 0;\n",
    "~volumeMin = 0; ~volumeMax = 0;\n",
    "(\"global variables are initialized\").postln;"
   ]
  },
  {
   "cell_type": "code",
   "execution_count": null,
   "metadata": {},
   "outputs": [],
   "source": [
    "%%scv\n",
    "SynthDef(\"pb-sasan\", {|out=0, bufnum=0, rate=1, pan=0, amp=0.3, rel=0.1, dur=0.2|\n",
    "    //var sig1 = PlayBuf.ar(1, bufnum, 1.01*rate * BufRateScale.kr(bufnum), doneAction: 2);\n",
    "    //var sig2 = PlayBuf.ar(1, bufnum, 0.99*rate * BufRateScale.kr(bufnum), doneAction: 2);\n",
    "\n",
    "    var drate = SinOsc.ar(3, add:rate * BufRateScale.kr(bufnum), mul:0.01);\n",
    "    var sig = PlayBuf.ar(1, bufnum, drate, doneAction: 2);\n",
    "\n",
    "    var env = EnvGen.kr(Env.new([1,1,0], [dur-rel, rel]), doneAction: 2);\n",
    "    Out.ar(out, Pan2.ar(sig, pan, amp*env))\n",
    "}).add();\n",
    "\n",
    "SynthDef(\\bpfsaw, {\n",
    "    arg atk=2, sus=0, rel=3, c1=1, c2=(-1),\n",
    "    freq=500, detune=0.2, pan=0, cfhzmin=0.1, cfhzmax=0.3,\n",
    "    cfmin=500, cfmax=2000, rqmin=0.1, rqmax=0.2,\n",
    "    lsf=200, ldb=0, amp=1, out=0;\n",
    "    var sig, env;\n",
    "    env = EnvGen.kr(Env([0,1,1,0],[atk,sus,rel],[c1,0,c2]),doneAction:2);\n",
    "    sig = Saw.ar(freq * {LFNoise1.kr(0.5,detune).midiratio}!2);\n",
    "    sig = BPF.ar(\n",
    "        sig,\n",
    "        {LFNoise1.kr(\n",
    "            LFNoise1.kr(4).exprange(cfhzmin,cfhzmax)\n",
    "        ).exprange(cfmin,cfmax)}!2,\n",
    "        {LFNoise1.kr(0.1).exprange(rqmin,rqmax)}!2\n",
    "    );\n",
    "    sig = BLowShelf.ar(sig, lsf, 0.5, ldb);\n",
    "    sig = Balance2.ar(sig[0], sig[1], pan);\n",
    "    sig = sig * env * amp;\n",
    "    Out.ar(out, sig);\n",
    "}).add;\n",
    "\n",
    "SynthDef(\\bpfsine, {\n",
    "    arg atk=2, sus=0, rel=3, c1=1, c2=(-1),\n",
    "    freq=500, detune=0.2, pan=0, cfhzmin=0.1, cfhzmax=0.3,\n",
    "    cfmin=500, cfmax=2000, rqmin=0.1, rqmax=0.2,\n",
    "    lsf=200, ldb=0, amp=1, out=0;\n",
    "    var sig, env;\n",
    "    env = EnvGen.kr(Env([0,1,1,0],[atk,sus,rel],[c1,0,c2]),doneAction:2);\n",
    "    sig = SinOsc.ar(freq * {LFNoise1.kr(0.5,detune).midiratio}!2);\n",
    "    sig = BPF.ar(\n",
    "        sig,\n",
    "        {LFNoise1.kr(\n",
    "            LFNoise1.kr(4).exprange(cfhzmin,cfhzmax)\n",
    "        ).exprange(cfmin,cfmax)}!2,\n",
    "        {LFNoise1.kr(0.1).exprange(rqmin,rqmax)}!2\n",
    "    );\n",
    "    sig = BLowShelf.ar(sig, lsf, 0.5, ldb);\n",
    "    sig = Balance2.ar(sig[0], sig[1], pan);\n",
    "    sig = sig * env * amp;\n",
    "    Out.ar(out, sig);\n",
    "}).add;\n",
    "\n",
    "SynthDef(\\reverb, {\n",
    "    arg in, predelay=0.1, revtime=1.8,\n",
    "    lpf=4500, mix=0.15, amp=1, out=0;\n",
    "    var dry, wet, temp, sig;\n",
    "    dry = In.ar(in,2);\n",
    "    temp = In.ar(in,2);\n",
    "    wet = 0;\n",
    "    temp = DelayN.ar(temp, 0,2, predelay);\n",
    "    16.do{\n",
    "        temp = AllpassN.ar(temp, 0.05, {Rand(0.001,0.05)}!2, revtime);\n",
    "        temp = LPF.ar(temp, lpf);\n",
    "        wet = wet + temp;\n",
    "    };\n",
    "    sig = XFade2.ar(dry, wet, mix*2-1, amp);\n",
    "    Out.ar(out, sig);\n",
    "}).add;\n",
    "\n",
    "\"SynthDefs loaded\".postln;"
   ]
  },
  {
   "cell_type": "code",
   "execution_count": null,
   "metadata": {},
   "outputs": [],
   "source": [
    "%%scv\n",
    "~bus = Dictionary.new;\n",
    "~bus.add(\\reverb -> Bus.audio(s,2));\n",
    "\"Bus loaded\".postln;"
   ]
  },
  {
   "cell_type": "code",
   "execution_count": null,
   "metadata": {},
   "outputs": [],
   "source": [
    "%%scv\n",
    "~mainGroup = Group.new;\n",
    "~reverbGroup = Group.after(~mainGroup);\n",
    "~reverbSynth = Synth.new(\\reverb, [\n",
    "        \\amp, 1,\n",
    "        \\predelay, 0.4,\n",
    "        \\revtime, 1.8,\n",
    "        \\lpf, 4500,\n",
    "        \\mix, 0.5,\n",
    "        \\in, ~bus[\\reverb],\n",
    "        \\out, ~out,\n",
    "    ], ~reverbGroup\n",
    ");\n",
    "\"Reverb loaded\".postln;"
   ]
  },
  {
   "cell_type": "code",
   "execution_count": null,
   "metadata": {},
   "outputs": [],
   "source": [
    "%%scv\n",
    "e = Dictionary.new;\n",
    "\n",
    "e.add(\\pad_sine_lf -> {\n",
    "    ~chords = Pbind(\n",
    "        \\instrument, \\bpfsine,\n",
    "        \\dur, Pwhite(4.5-(Pfunc{~delta.linlin(0,1,0,4)}),5.5-(Pfunc{~delta.linlin(0,1,0,4)})),\n",
    "        \\midinote, Pxrand([\n",
    "            [23,35,54,63,64],\n",
    "            [45,52,54,59,61,64],\n",
    "            [28,40,47,56,59,63],\n",
    "            [42,52,57,61,63]\n",
    "        ], inf),\n",
    "        \\detune, Pexprand(0.05,0.2),\n",
    "        \\cfmin, 500,\n",
    "        \\cfmax, 1000,\n",
    "        \\rqmin, Pexprand(0.01,0.02),\n",
    "        \\rqmax, Pexprand(0.2,0.3),\n",
    "        \\atk, Pwhite(2.0,2.5),\n",
    "        \\rel, Pwhite(6.5,10.0),\n",
    "        \\ldb, 6,\n",
    "        \\amp, 0.3,\n",
    "        \\group, ~mainGroup,\n",
    "        \\out, ~bus[\\reverb],\n",
    "    ).play;\n",
    "\n",
    "    ~marimba = Pbind(\n",
    "        \\instrument, \\bpfsaw,\n",
    "        \\dur, Pwhite(Pfunc{~delta.linlin(0,1,0.99,0.05)},\n",
    "            Pfunc{~delta.linlin(0,1,1,0.1)}),\n",
    "        \\freq, Prand([1/2,2/3,1]*(~delta.explin(0,1,1,4)),inf),\n",
    "        \\detune, Pfunc({~delta.linlin(0,1,0,2)}),\n",
    "        \\rqmin, Pfunc{~volume.linlin(0,1,0.005,0.09)},\n",
    "        \\rqmax, Pfunc{~volume.linlin(0,1,0.008,0.2)},\n",
    "        \\cfmin, Prand((Scale.major.degrees+64).midicps,inf) *\n",
    "        (Prand(([1,2,4]), inf) * round((Pfunc{~delta.linlin(0,1,1,5)}))),\n",
    "        \\cfmax, Pkey(\\cfmin) * Pwhite(1.008,1.025),\n",
    "        \\atk, Pfunc{~volume.linlin(0,1,3,1.5)},\n",
    "        \\sus, Pfunc{~volume.linlin(0,1,1,0.5)},\n",
    "        \\rel, Pfunc{~volume.linlin(0,1,5,2.5)},\n",
    "        \\amp, 0.9,\n",
    "        \\pan, Pwhite(Pfunc{~delta.linlin(0,1,0,-1)},Pfunc{~delta}),\n",
    "        \\group, ~mainGroup,\n",
    "        \\out, ~bus[\\reverb],\n",
    "    ).play;\n",
    "});\n",
    "e.add(\\event_stop -> {\n",
    "    ~chords.stop;\n",
    "    ~marimba.stop;\n",
    "});\n",
    "\"Events loaded\".postln;"
   ]
  },
  {
   "cell_type": "markdown",
   "metadata": {},
   "source": [
    "## User Interfaces"
   ]
  },
  {
   "cell_type": "code",
   "execution_count": null,
   "metadata": {},
   "outputs": [],
   "source": [
    "import ipywidgets\n",
    "import os\n",
    "import threading\n",
    "from IPython.display import clear_output"
   ]
  },
  {
   "cell_type": "code",
   "execution_count": null,
   "metadata": {
    "code_folding": []
   },
   "outputs": [],
   "source": [
    "class Bloodplayer:\n",
    "    \n",
    "    def __init__(self, data, pulse_time=1, verbose=False):\n",
    "        self.lock = threading.Lock()\n",
    "        self.stopevent = threading.Event()\n",
    "        self.callback_fn = None\n",
    "        self.idx = 0\n",
    "        self.data = data\n",
    "        self.length = data.shape[0]\n",
    "        self.verbose = verbose\n",
    "        self.pulse_time = pulse_time\n",
    "        \n",
    "    #def __del__():\n",
    "        # close plot window\n",
    "        #pass\n",
    "    \n",
    "    def callback_fn_default(self, v):\n",
    "        os.write(1, f\"\\r                       \\r{v}\".encode())\n",
    "        \n",
    "    def procfn(self):\n",
    "        self.idx = 0\n",
    "        while not self.stopevent.wait(0) and self.idx < self.length-1:\n",
    "            v = self.data[self.idx]\n",
    "            if self.verbose: \n",
    "                os.write(1, f\"\\r{self.idx}:{self.idx}                   \".encode())\n",
    "            if callable(self.callback_fn):\n",
    "                self.callback_fn(self)\n",
    "            else:\n",
    "                self.callback_fn_default(v)\n",
    "            self.idx += 1\n",
    "            time.sleep(self.pulse_time)\n",
    "        print(\"done.\")\n",
    "    \n",
    "    def set_callback(self, fn):\n",
    "        self.callback_fn = fn\n",
    "        \n",
    "    def create_thread(self):\n",
    "        threadname = \"BloodPlayer-thread\"\n",
    "        # check first if it already exists\n",
    "        if threadname in [t.name for t in threading.enumerate()]:\n",
    "            print(\"create_thread: thread is already existing, stop first\")\n",
    "        else:\n",
    "            self.stopevent.clear()\n",
    "            self.producer = threading.Thread(name=threadname, target=self.procfn, args=[])\n",
    "            self.producer.start()\n",
    "\n",
    "    def stop_thread(self):\n",
    "        self.stopevent.set()"
   ]
  },
  {
   "cell_type": "code",
   "execution_count": null,
   "metadata": {
    "code_folding": []
   },
   "outputs": [],
   "source": [
    "bloodplayer = Bloodplayer(delta)"
   ]
  },
  {
   "cell_type": "code",
   "execution_count": null,
   "metadata": {
    "code_folding": []
   },
   "outputs": [],
   "source": [
    "# Plot Data \n",
    "%matplotlib\n",
    "\n",
    "# create figure\n",
    "fig, ax = plt.subplots(1)  # create figure\n",
    "mngr = plt.get_current_fig_manager(); \n",
    "mngr.window.setGeometry(1200, 0, 500, 400)\n",
    "\n",
    "# create axis, plots\n",
    "ax.clear()\n",
    "plmarked, = ax.plot([], [], \"r-\", lw=1)\n",
    "#pldata, = ax.plot(dsf[:,0], \"-\", ms=2) # create plots\n",
    "pldata, = ax.plot(delta, \"-\", ms=2)\n",
    "\n",
    "def update_plot(t): \n",
    "    global fig, ax, plmarked, pldata\n",
    "    plmarked.set_data([t,t], [-10, 10])\n",
    "    ax.draw_artist(ax.patch)\n",
    "    ax.draw_artist(pldata)\n",
    "    ax.draw_artist(plmarked)\n",
    "    fig.canvas.update()\n",
    "\n",
    "def onclick(event):\n",
    "    global bloodplayer\n",
    "    if event.dblclick:\n",
    "        print(event.button, event.xdata)\n",
    "        bloodplayer.idx = int(event.xdata)\n",
    "\n",
    "connection_id = fig.canvas.mpl_connect('button_press_event', onclick)\n",
    "\n",
    "# test with \n",
    "# update_plot(5000)"
   ]
  },
  {
   "cell_type": "code",
   "execution_count": null,
   "metadata": {
    "code_folding": []
   },
   "outputs": [],
   "source": [
    "# GUI\n",
    "def start(b):\n",
    "    global bloodplayer\n",
    "    bloodplayer.create_thread()\n",
    "    %sc e[\\pad_sine_lf].value;\n",
    "    print(\"start\")\n",
    "b1 = ipywidgets.Button(description='Start') \n",
    "b1.on_click(start)\n",
    "\n",
    "def stop(b):\n",
    "    global bloodplayer\n",
    "    print(\"stop\")\n",
    "    bloodplayer.stop_thread()\n",
    "    %sc e[\\event_stop].value;~init.value;\n",
    "\n",
    "b2 = ipywidgets.Button(description='Stop') \n",
    "b2.on_click(stop)\n",
    "out = ipywidgets.Output()\n",
    "ipywidgets.HBox([b1, b2, out])"
   ]
  },
  {
   "cell_type": "code",
   "execution_count": null,
   "metadata": {},
   "outputs": [],
   "source": [
    "# Custom code for sonifications\n",
    "nd = 0\n",
    "nv = 0\n",
    "revtime = 0\n",
    "mix = 0\n",
    "predelay = 0\n",
    "amp = 0\n",
    "\n",
    "def son_waterdrop(self):\n",
    "    global nd\n",
    "    global nv\n",
    "    global revtime\n",
    "    global mix\n",
    "    global predelay\n",
    "    global amp\n",
    "    # assign delta and volume\n",
    "    delta_val = delta[self.idx]\n",
    "    volume_val = volume[self.idx]\n",
    "        \n",
    "    # normalize delta and volume\n",
    "    nd = scn.linlin(delta_val, delta_min, delta_max, 0, 1);        \n",
    "    nv = scn.linlin(volume_val, volume_min, volume_max, 0, 1);\n",
    "    \n",
    "    # set reverb based on normalized values of delta and volume\n",
    "    revtime = scn.linlin(nv, 0, 1, 1.8, 0.5)\n",
    "    mix = scn.linlin(nv, 0, 1, 0.5, 0.1)\n",
    "    predelay = scn.linlin(nv, 0, 1, 0.4, 0.1)\n",
    "    amp = scn.linlin(nv, 0, 1, 0.8, 0.2)        \n",
    "    \n",
    "    %sc ~delta = ^nd\n",
    "    %sc ~volume = ^nv\n",
    "    %sc ~reverbSynth.set(\\revtime, ^revtime, \\mix, ^mix, \\predelay, ^predelay, \\amp, ^amp)        \n",
    "\n",
    "    os.write(1, f\"\\r{self.idx}:callback{self.idx}                   \".encode())\n",
    "    update_plot(self.idx)\n",
    "\n",
    "bloodplayer.set_callback(son_waterdrop)"
   ]
  },
  {
   "cell_type": "code",
   "execution_count": null,
   "metadata": {},
   "outputs": [],
   "source": []
  }
 ],
 "metadata": {
  "kernelspec": {
   "display_name": "Python 3",
   "language": "python",
   "name": "python3"
  },
  "language_info": {
   "codemirror_mode": {
    "name": "ipython",
    "version": 3
   },
   "file_extension": ".py",
   "mimetype": "text/x-python",
   "name": "python",
   "nbconvert_exporter": "python",
   "pygments_lexer": "ipython3",
   "version": "3.7.3"
  },
  "toc": {
   "base_numbering": 1.0,
   "nav_menu": {},
   "number_sections": true,
   "sideBar": true,
   "skip_h1_title": true,
   "title_cell": "Table of Contents",
   "title_sidebar": "Contents",
   "toc_cell": false,
   "toc_position": {},
   "toc_section_display": true,
   "toc_window_display": true
  }
 },
 "nbformat": 4,
 "nbformat_minor": 2
}
